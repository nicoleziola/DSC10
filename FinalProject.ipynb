{
 "cells": [
  {
   "cell_type": "markdown",
   "id": "6deaad87",
   "metadata": {},
   "source": [
    "# Final Project: Great British Bake Off 👩‍🍳🍰🇬🇧\n",
    "\n",
    "## Due: Tuesday, March 12 at 11:59PM\n",
    "\n",
    "___\n",
    "\n",
    "## Outline of the Project \n",
    "\n",
    "This project has eight sections. Use the outline below to help you quickly navigate to the part of the project you're working on. Most questions are worth one point. Those shown in bold in the outline are worth two points. Most of these are harder, more complex questions, but sometimes they are simple questions that test correctness of previously implemented functions.\n",
    "\n",
    "-  [Welcome 👋](#welcome)\n",
    "-  [About the Show 📺](#about_show)\n",
    "-  [About the Data 💾](#about_data)\n",
    "-  Section 1. [Exploratory Data Analysis 🔎](#section1)  \n",
    "     - Q1.1, Q1.2, Q1.3, Q1.4, Q1.5\n",
    "-  Section 2. [Popular Ingredients 🍊 🍫](#section2) \n",
    "     - Q2.1, Q2.2, Q2.3, **Q2.4**, Q2.5, **Q2.6**, Q2.7, Q2.8, Q2.9 \n",
    "-  Section 3. [Gender Balance 👩⚖️🧑🏼](#section3)  \n",
    "     - **Q3.1**, Q3.2, Q3.3, **Q3.4**, Q3.5, Q3.6\n",
    "-  Section 4. [Well-Deserved? 🥇](#section4)  \n",
    "     - **Q4.1**, Q4.2, **Q4.3**, Q4.4, **Q4.5**, **Q4.6**\n",
    "-  Section 5. [Devilishly Difficult Challenges 😈](#section5)  \n",
    "     - Q5.1, **Q5.2**, Q5.3, Q5.4, Q5.5, Q5.6, Q5.7, **Q5.8**, Q5.9, Q5.10, Q5.11, **Q5.12**\n",
    "-  Section 6. [Piece of Cake? 🍰](#section6) \n",
    "     - Q6.1, Q6.2, **Q6.3**, Q6.4, **Q6.5**, Q6.6, Q6.7\n",
    "-  Section 7. [Recipe Name Generator 👩‍🍳🖨️](#section7) \n",
    "     - **Q7.1**, Q7.2, Q7.3, Q7.4, Q7.5\n",
    "-  Section 8. [Dishwashing 🧼🍽️](#section8) \n",
    "     - Q8.1, Q8.2, Q8.3, Q8.4, Q8.5, **Q8.6**, Q8.7, **Q8.8**"
   ]
  },
  {
   "cell_type": "markdown",
   "id": "ba81b8ca",
   "metadata": {},
   "source": [
    "<a id='welcome'></a>\n",
    "## Welcome 👋\n",
    "\n",
    "Welcome to the Final Project! Projects in DSC 10 are similar in format to homeworks, but are different in a few key ways. First, a project is comprehensive, meaning that it draws upon everything we've learned this quarter so far. Second, since problems can vary quite a bit in difficulty, some problems will be worth more points than others. Finally, in a project, the problems are more open-ended; they will usually ask for some result, but won't tell you what method should be used to get it. There might be several equally-valid approaches, and several steps might be necessary. This is closer to how data science is done in \"real life\".\n",
    "\n",
    "It is important that you **start early** on the project! It is the final assignment that is due this quarter, but it is due just a few days before the Final Exam. You are especially encouraged to **find a partner** to work through the project with. You can work with anyone from any section of the course, but you must follow the [Project Partner Guidelines](https://dsc10.com/project-partners/) on the course website. In particular, you are both required to actively contribute to all parts of the project, and you are not allowed to split up the problems and each work on certain problems. If working in a pair, you should submit one notebook to Gradescope for the both of you. \n",
    "\n",
    "**Important:** The `otter` tests don't usually tell you that your answer is correct. More often, they help catch basic mistakes. It's up to you to ensure that your answer is correct. If you're not sure, ask someone (not for the answer, but for some guidance about your approach). Directly sharing answers between groups is not okay, but discussing problems with the course staff or with other students is encouraged.\n",
    "\n",
    "Please do not import any additional packages - you don't need them, and our autograder may not be able to run your code if you do.\n",
    "\n",
    "As you work through this project, there are a few resources you may want to have open:\n",
    "- [`babypandas` Notes](https://notes.dsc10.com/front.html)\n",
    "- [Course Textbook](https://inferentialthinking.com/chapters/intro.html)\n",
    "- [DSC 10 Reference Sheet](https://drive.google.com/file/d/1mQApk9Ovdi-QVqMgnNcq5dZcWucUKoG-/view)\n",
    "- [`babypandas` Documentation](https://babypandas.readthedocs.io/en/latest/)\n",
    "- Other links in the [Resources](https://dsc10.com/resources/) and [Debugging](https://dsc10.com/debugging/) tabs of the course website\n",
    "\n",
    "Start early, good luck, and let's get started! 😎"
   ]
  },
  {
   "cell_type": "code",
   "execution_count": 1,
   "id": "6547b4c1",
   "metadata": {},
   "outputs": [],
   "source": [
    "# Don't change this cell; just run it.\n",
    "import babypandas as bpd\n",
    "import numpy as np\n",
    "\n",
    "import matplotlib.pyplot as plt\n",
    "plt.style.use('ggplot')\n",
    "\n",
    "import otter\n",
    "grader = otter.Notebook()"
   ]
  },
  {
   "cell_type": "markdown",
   "id": "ff22dc69",
   "metadata": {},
   "source": [
    "<a id='about_show'></a>\n",
    "## About the Show 📺\n",
    "\n",
    "The Great British Bake Off (known in the US as the Great British Baking Show) is a competition-style reality television show where amateur bakers participate in themed baking challenges. Each week's episode revolves around a theme; past themes include Bread Week, Cake Week, Vegan Week, and Italian Week. In each episode, the bakers are given three timed challenges based on the week's theme: the Signature Challenge, the Technical Challenge, and the Showstopper Challenge. \n",
    "\n",
    "In the Signature Challenge, the judges broadly specify what the bakers should make, and the bakers have freedom to use flavors, techniques, and recipes as they wish. The Signature Challenge earns its name because it's an opportunity for bakers to express themselves and their unique baking style to both the judges and the viewers at home. Many of the Signature Challenge bakes come from tried-and-tested recipes that contestants like to bake for their friends and families. For example, during Festivals Week in Season 10, the bakers were tasked with creating 24 buns themed around a world festival or holiday. Contestant Henry Bird made [these Chocolate Kardemummabullar](https://thegreatbritishbakeoff.co.uk/recipes/all/henry-chocolate-kardemummabullar/).\n",
    "\n",
    "<img src=\"images/signature_bake.png\" width=\"500\" height=\"500\">\n",
    "\n",
    "In the Technical Challenge, bakers have no idea what they will be asked to create until the timer for the challenge starts. This means they can't prepare for it, and they have to rely on their baking knowledge and intuition. The Technical Challenge earns its name because it tests the bakers' technical knowledge of baking as a discipline.  Each Technical Challenge is posed by one particular judge, using a recipe from the judge's own personal collection. Bakers are provided with ingredients and a recipe, which is usually extremely basic, sometimes lacking ingredient measurements or containing single steps like \"make a shortcrust pastry\" with no further explanation. The finished products are judged blind and ranked from worst to best. An example of a Technical Challenge includes [judge Paul Hollywood's Baklava](https://thegreatbritishbakeoff.co.uk/recipes/all/paul-hollywood-baklava/). \n",
    "\n",
    "<img src=\"images/baklava.jpg\" width=\"500\" height=\"500\">\n",
    "\n",
    "The third challenge, the Showstopper, is similar to the Signature Challenge, in that bakers are given requirements ahead of time and have freedom to create their own recipes and prepare ahead of time. The main difference is that the Showstoppers are more challenging and larger-scale. The judges are looking for bakes that are breathtaking in both their appearance and their taste. For example, during Bread Week in Season 6, the bakers were asked to create a 3-D bread sculpture. Contestant Paul Jagger impressed the judges and millions of viewers with his *King of the Jungle* lion sculpture.\n",
    "\n",
    "<img src=\"images/lion_bread_sculpture.png\" width=\"500\" height=\"500\">\n",
    "\n",
    "Each episode of the show features all three challenges. The contestants' bakes are tasted and assessed by two judges, and at the end of each episode, the hosts announce who will be eliminated from the competition and who will be recognized with a special award of \"Star Baker\" ⭐ (introduced in Season 2). Typically, one contestant is eliminated and one is crowned Star Baker ⭐, but on occasion there have been special cases in which zero or multiple people were eliminated or awarded Star Baker ⭐. \n",
    "\n",
    "The final episode of each season is held when there are just three bakers remaining. All three bakers compete in the final, and at the end, one winner is chosen and each of the others is considered a \"runner-up\". \n",
    "\n",
    "If you'd like to see the show for yourself, several seasons are available on [Netflix](https://www.netflix.com/title/80063224). 🎥"
   ]
  },
  {
   "cell_type": "markdown",
   "id": "b73262c3",
   "metadata": {},
   "source": [
    "<a id='about_data'></a>\n",
    "## About the Data 💾\n",
    "\n",
    "For this project, we'll be using a few different datasets, which we've loaded in and saved in DataFrames called\n",
    "- `baker_weeks`, \n",
    "- `challenge_results`,  \n",
    "- `technical_challenge_recipes`, and\n",
    "- `bakers`.\n",
    "\n",
    "Note that while the Great British Bake Off has filmed fourteen seasons, our datasets do not include the most recent seasons. Since our datasets come from different [sources](#sources) and were compiled at different times, some of these datasets include more seasons than others. In addition, the number of bakers each season has varied, but all seasons have filmed one episode per week.\n",
    " \n",
    "The `baker_weeks` DataFrame includes a breakdown of each baker's performance each week (that is, each episode), for the first eleven seasons of the show. Each row represents information **for one baker for one week**. This means that each baker will appear in the DataFrame multiple times. Bakers will continue to appear in the DataFrame even in weeks after they got eliminated, so these rows will have missing values (`NaN`).  \n",
    "  \n",
    "The `'Week Name'` column contains the theme of that week's episode. We also have the baker's name, gender (`'M'` and `'F'` are the only options), and age, the season number (also called the series number in other DataFrames), and the week number within that season. There are columns that indicate whether each baker was a Star Baker ⭐ that week, was eliminated that week, competed that week, or went on to win the season's competition 🥇. A few columns require more explanation about the show:\n",
    "- `'Judge'` is either `'Mary'` or `'Prue'`. For the first seven seasons, the show's two judges were [Paul Hollywood](https://en.wikipedia.org/wiki/Paul_Hollywood) and [Mary Berry](https://en.wikipedia.org/wiki/Mary_Berry). After that, the show switched networks and Mary Berry was replaced by [Prue Leith](https://en.wikipedia.org/wiki/Prue_Leith). Since Paul Hollywood was a judge every season, the `'Judge'` column contains the name of the other judge.\n",
    "- `'technical_rank'` contains a number reflecting each baker's ranking in the Technical Challenge (with 1 meaning 1st place, 2 meaning 2nd place, etc.)\n",
    "-  `'Signature Handshake'` and `'Showstopper Handshake'` contain information on whether the contestant received a handshake \t🤝 from judge Paul Hollywood as he tasted their bake. Paul has a reputation for giving praise sparingly, and his so-called \"[Hollywood Handshakes 🤝](https://hollywoodhandshakes.com/)\" are considered a great honor. \n",
    "  \n",
    "Run the cell below to load in the `baker_weeks` data."
   ]
  },
  {
   "cell_type": "code",
   "execution_count": 2,
   "id": "83f25160",
   "metadata": {},
   "outputs": [
    {
     "data": {
      "text/html": [
       "<div>\n",
       "<style scoped>\n",
       "    .dataframe tbody tr th:only-of-type {\n",
       "        vertical-align: middle;\n",
       "    }\n",
       "\n",
       "    .dataframe tbody tr th {\n",
       "        vertical-align: top;\n",
       "    }\n",
       "\n",
       "    .dataframe thead th {\n",
       "        text-align: right;\n",
       "    }\n",
       "</style>\n",
       "<table border=\"1\" class=\"dataframe\">\n",
       "  <thead>\n",
       "    <tr style=\"text-align: right;\">\n",
       "      <th></th>\n",
       "      <th>Episode</th>\n",
       "      <th>Season</th>\n",
       "      <th>Week Number</th>\n",
       "      <th>Judge</th>\n",
       "      <th>Week Name</th>\n",
       "      <th>Baker</th>\n",
       "      <th>Gender</th>\n",
       "      <th>Age</th>\n",
       "      <th>Signature Handshake</th>\n",
       "      <th>Technical Rank</th>\n",
       "      <th>Showstopper Handshake</th>\n",
       "      <th>Star Baker</th>\n",
       "      <th>Eliminated</th>\n",
       "      <th>Competed</th>\n",
       "      <th>Winner</th>\n",
       "    </tr>\n",
       "  </thead>\n",
       "  <tbody>\n",
       "    <tr>\n",
       "      <th>0</th>\n",
       "      <td>Series 1, Episode 1</td>\n",
       "      <td>1</td>\n",
       "      <td>1</td>\n",
       "      <td>Mary</td>\n",
       "      <td>Cake</td>\n",
       "      <td>Annetha</td>\n",
       "      <td>F</td>\n",
       "      <td>30</td>\n",
       "      <td>0</td>\n",
       "      <td>2.0</td>\n",
       "      <td>0</td>\n",
       "      <td>0</td>\n",
       "      <td>0</td>\n",
       "      <td>1</td>\n",
       "      <td>0</td>\n",
       "    </tr>\n",
       "    <tr>\n",
       "      <th>1</th>\n",
       "      <td>Series 1, Episode 1</td>\n",
       "      <td>1</td>\n",
       "      <td>1</td>\n",
       "      <td>Mary</td>\n",
       "      <td>Cake</td>\n",
       "      <td>David</td>\n",
       "      <td>M</td>\n",
       "      <td>31</td>\n",
       "      <td>0</td>\n",
       "      <td>3.0</td>\n",
       "      <td>0</td>\n",
       "      <td>0</td>\n",
       "      <td>0</td>\n",
       "      <td>1</td>\n",
       "      <td>0</td>\n",
       "    </tr>\n",
       "    <tr>\n",
       "      <th>2</th>\n",
       "      <td>Series 1, Episode 1</td>\n",
       "      <td>1</td>\n",
       "      <td>1</td>\n",
       "      <td>Mary</td>\n",
       "      <td>Cake</td>\n",
       "      <td>Edd</td>\n",
       "      <td>M</td>\n",
       "      <td>24</td>\n",
       "      <td>0</td>\n",
       "      <td>1.0</td>\n",
       "      <td>0</td>\n",
       "      <td>0</td>\n",
       "      <td>0</td>\n",
       "      <td>1</td>\n",
       "      <td>1</td>\n",
       "    </tr>\n",
       "    <tr>\n",
       "      <th>3</th>\n",
       "      <td>Series 1, Episode 1</td>\n",
       "      <td>1</td>\n",
       "      <td>1</td>\n",
       "      <td>Mary</td>\n",
       "      <td>Cake</td>\n",
       "      <td>Jasminder</td>\n",
       "      <td>F</td>\n",
       "      <td>45</td>\n",
       "      <td>0</td>\n",
       "      <td>NaN</td>\n",
       "      <td>0</td>\n",
       "      <td>0</td>\n",
       "      <td>0</td>\n",
       "      <td>1</td>\n",
       "      <td>0</td>\n",
       "    </tr>\n",
       "    <tr>\n",
       "      <th>4</th>\n",
       "      <td>Series 1, Episode 1</td>\n",
       "      <td>1</td>\n",
       "      <td>1</td>\n",
       "      <td>Mary</td>\n",
       "      <td>Cake</td>\n",
       "      <td>Jonathan</td>\n",
       "      <td>M</td>\n",
       "      <td>25</td>\n",
       "      <td>0</td>\n",
       "      <td>9.0</td>\n",
       "      <td>0</td>\n",
       "      <td>0</td>\n",
       "      <td>0</td>\n",
       "      <td>1</td>\n",
       "      <td>0</td>\n",
       "    </tr>\n",
       "    <tr>\n",
       "      <th>...</th>\n",
       "      <td>...</td>\n",
       "      <td>...</td>\n",
       "      <td>...</td>\n",
       "      <td>...</td>\n",
       "      <td>...</td>\n",
       "      <td>...</td>\n",
       "      <td>...</td>\n",
       "      <td>...</td>\n",
       "      <td>...</td>\n",
       "      <td>...</td>\n",
       "      <td>...</td>\n",
       "      <td>...</td>\n",
       "      <td>...</td>\n",
       "      <td>...</td>\n",
       "      <td>...</td>\n",
       "    </tr>\n",
       "    <tr>\n",
       "      <th>1251</th>\n",
       "      <td>Series 11, Episode 10</td>\n",
       "      <td>11</td>\n",
       "      <td>10</td>\n",
       "      <td>Prue</td>\n",
       "      <td>Final</td>\n",
       "      <td>Marc E</td>\n",
       "      <td>M</td>\n",
       "      <td>51</td>\n",
       "      <td>0</td>\n",
       "      <td>NaN</td>\n",
       "      <td>0</td>\n",
       "      <td>0</td>\n",
       "      <td>0</td>\n",
       "      <td>0</td>\n",
       "      <td>0</td>\n",
       "    </tr>\n",
       "    <tr>\n",
       "      <th>1252</th>\n",
       "      <td>Series 11, Episode 10</td>\n",
       "      <td>11</td>\n",
       "      <td>10</td>\n",
       "      <td>Prue</td>\n",
       "      <td>Final</td>\n",
       "      <td>Mark L</td>\n",
       "      <td>M</td>\n",
       "      <td>32</td>\n",
       "      <td>0</td>\n",
       "      <td>NaN</td>\n",
       "      <td>0</td>\n",
       "      <td>0</td>\n",
       "      <td>0</td>\n",
       "      <td>0</td>\n",
       "      <td>0</td>\n",
       "    </tr>\n",
       "    <tr>\n",
       "      <th>1253</th>\n",
       "      <td>Series 11, Episode 10</td>\n",
       "      <td>11</td>\n",
       "      <td>10</td>\n",
       "      <td>Prue</td>\n",
       "      <td>Final</td>\n",
       "      <td>Peter</td>\n",
       "      <td>M</td>\n",
       "      <td>20</td>\n",
       "      <td>0</td>\n",
       "      <td>2.0</td>\n",
       "      <td>0</td>\n",
       "      <td>1</td>\n",
       "      <td>0</td>\n",
       "      <td>1</td>\n",
       "      <td>1</td>\n",
       "    </tr>\n",
       "    <tr>\n",
       "      <th>1254</th>\n",
       "      <td>Series 11, Episode 10</td>\n",
       "      <td>11</td>\n",
       "      <td>10</td>\n",
       "      <td>Prue</td>\n",
       "      <td>Final</td>\n",
       "      <td>Rowan</td>\n",
       "      <td>M</td>\n",
       "      <td>55</td>\n",
       "      <td>0</td>\n",
       "      <td>NaN</td>\n",
       "      <td>0</td>\n",
       "      <td>0</td>\n",
       "      <td>0</td>\n",
       "      <td>0</td>\n",
       "      <td>0</td>\n",
       "    </tr>\n",
       "    <tr>\n",
       "      <th>1255</th>\n",
       "      <td>Series 11, Episode 10</td>\n",
       "      <td>11</td>\n",
       "      <td>10</td>\n",
       "      <td>Prue</td>\n",
       "      <td>Final</td>\n",
       "      <td>Sura</td>\n",
       "      <td>F</td>\n",
       "      <td>31</td>\n",
       "      <td>0</td>\n",
       "      <td>NaN</td>\n",
       "      <td>0</td>\n",
       "      <td>0</td>\n",
       "      <td>0</td>\n",
       "      <td>0</td>\n",
       "      <td>0</td>\n",
       "    </tr>\n",
       "  </tbody>\n",
       "</table>\n",
       "<p>1256 rows × 15 columns</p>\n",
       "</div>"
      ],
      "text/plain": [
       "                    Episode  Season  Week Number Judge Week Name      Baker  \\\n",
       "0       Series 1, Episode 1       1            1  Mary      Cake    Annetha   \n",
       "1       Series 1, Episode 1       1            1  Mary      Cake      David   \n",
       "2       Series 1, Episode 1       1            1  Mary      Cake        Edd   \n",
       "3       Series 1, Episode 1       1            1  Mary      Cake  Jasminder   \n",
       "4       Series 1, Episode 1       1            1  Mary      Cake   Jonathan   \n",
       "...                     ...     ...          ...   ...       ...        ...   \n",
       "1251  Series 11, Episode 10      11           10  Prue     Final     Marc E   \n",
       "1252  Series 11, Episode 10      11           10  Prue     Final     Mark L   \n",
       "1253  Series 11, Episode 10      11           10  Prue     Final      Peter   \n",
       "1254  Series 11, Episode 10      11           10  Prue     Final      Rowan   \n",
       "1255  Series 11, Episode 10      11           10  Prue     Final       Sura   \n",
       "\n",
       "     Gender  Age  Signature Handshake  Technical Rank  Showstopper Handshake  \\\n",
       "0         F   30                    0             2.0                      0   \n",
       "1         M   31                    0             3.0                      0   \n",
       "2         M   24                    0             1.0                      0   \n",
       "3         F   45                    0             NaN                      0   \n",
       "4         M   25                    0             9.0                      0   \n",
       "...     ...  ...                  ...             ...                    ...   \n",
       "1251      M   51                    0             NaN                      0   \n",
       "1252      M   32                    0             NaN                      0   \n",
       "1253      M   20                    0             2.0                      0   \n",
       "1254      M   55                    0             NaN                      0   \n",
       "1255      F   31                    0             NaN                      0   \n",
       "\n",
       "      Star Baker  Eliminated  Competed  Winner  \n",
       "0              0           0         1       0  \n",
       "1              0           0         1       0  \n",
       "2              0           0         1       1  \n",
       "3              0           0         1       0  \n",
       "4              0           0         1       0  \n",
       "...          ...         ...       ...     ...  \n",
       "1251           0           0         0       0  \n",
       "1252           0           0         0       0  \n",
       "1253           1           0         1       1  \n",
       "1254           0           0         0       0  \n",
       "1255           0           0         0       0  \n",
       "\n",
       "[1256 rows x 15 columns]"
      ]
     },
     "execution_count": 2,
     "metadata": {},
     "output_type": "execute_result"
    }
   ],
   "source": [
    "baker_weeks = bpd.read_csv('data/baker_weeks.csv')\n",
    "baker_weeks"
   ]
  },
  {
   "cell_type": "markdown",
   "id": "28a6799e",
   "metadata": {},
   "source": [
    "The `challenge_results` DataFrame contains information on each challenge, with each row representing one baker in one specific episode. As in `baker_weeks`, bakers will reappear multiple times, even after they get eliminated, hence the abundance of `NaN` values. This dataset contains information for the first ten seasons of the show.\n",
    "\n",
    "The `'result'` column indicates whether a baker was eliminated or stayed in the competition. Values of `'OUT'` and `'Runner-up'` mean the baker was eliminated, and values of `'IN'`, `'STAR BAKER'`, and `'WINNER'` mean that the baker stayed in the competition. There is one instance of `'WD'` in this column for someone who withdrew from the competition, and one instance of `'A'` for someone who was absent one week. We'll ignore both of these.\n",
    "\n",
    "The `'technical'` column contains the baker's rank in the Technical Challenge, and the `'signature'` and `'showstopper'` columns contain the names of the recipes the baker prepared for these challenges.  \n",
    "\n",
    "Run the cell below to load in the `challenge_results` data."
   ]
  },
  {
   "cell_type": "code",
   "execution_count": 3,
   "id": "18699896",
   "metadata": {},
   "outputs": [
    {
     "data": {
      "text/html": [
       "<div>\n",
       "<style scoped>\n",
       "    .dataframe tbody tr th:only-of-type {\n",
       "        vertical-align: middle;\n",
       "    }\n",
       "\n",
       "    .dataframe tbody tr th {\n",
       "        vertical-align: top;\n",
       "    }\n",
       "\n",
       "    .dataframe thead th {\n",
       "        text-align: right;\n",
       "    }\n",
       "</style>\n",
       "<table border=\"1\" class=\"dataframe\">\n",
       "  <thead>\n",
       "    <tr style=\"text-align: right;\">\n",
       "      <th></th>\n",
       "      <th>series</th>\n",
       "      <th>episode</th>\n",
       "      <th>baker</th>\n",
       "      <th>result</th>\n",
       "      <th>signature</th>\n",
       "      <th>technical</th>\n",
       "      <th>showstopper</th>\n",
       "    </tr>\n",
       "  </thead>\n",
       "  <tbody>\n",
       "    <tr>\n",
       "      <th>0</th>\n",
       "      <td>1</td>\n",
       "      <td>1</td>\n",
       "      <td>Annetha</td>\n",
       "      <td>IN</td>\n",
       "      <td>Light Jamaican Black Cake with Strawberries an...</td>\n",
       "      <td>2.0</td>\n",
       "      <td>Red, White &amp; Blue Chocolate Cake with Cigarell...</td>\n",
       "    </tr>\n",
       "    <tr>\n",
       "      <th>1</th>\n",
       "      <td>1</td>\n",
       "      <td>1</td>\n",
       "      <td>David</td>\n",
       "      <td>IN</td>\n",
       "      <td>Chocolate Orange Cake</td>\n",
       "      <td>3.0</td>\n",
       "      <td>Black Forest Floor Gateaux with Moulded Chocol...</td>\n",
       "    </tr>\n",
       "    <tr>\n",
       "      <th>2</th>\n",
       "      <td>1</td>\n",
       "      <td>1</td>\n",
       "      <td>Edd</td>\n",
       "      <td>IN</td>\n",
       "      <td>Caramel Cinnamon and Banana Cake</td>\n",
       "      <td>1.0</td>\n",
       "      <td>NaN</td>\n",
       "    </tr>\n",
       "    <tr>\n",
       "      <th>3</th>\n",
       "      <td>1</td>\n",
       "      <td>1</td>\n",
       "      <td>Jasminder</td>\n",
       "      <td>IN</td>\n",
       "      <td>Fresh Mango and Passion Fruit Hummingbird Cake</td>\n",
       "      <td>NaN</td>\n",
       "      <td>NaN</td>\n",
       "    </tr>\n",
       "    <tr>\n",
       "      <th>4</th>\n",
       "      <td>1</td>\n",
       "      <td>1</td>\n",
       "      <td>Jonathan</td>\n",
       "      <td>IN</td>\n",
       "      <td>Carrot Cake with Lime and Cream Cheese Icing</td>\n",
       "      <td>9.0</td>\n",
       "      <td>Three Tiered White and Dark Chocolate with Alm...</td>\n",
       "    </tr>\n",
       "    <tr>\n",
       "      <th>...</th>\n",
       "      <td>...</td>\n",
       "      <td>...</td>\n",
       "      <td>...</td>\n",
       "      <td>...</td>\n",
       "      <td>...</td>\n",
       "      <td>...</td>\n",
       "      <td>...</td>\n",
       "    </tr>\n",
       "    <tr>\n",
       "      <th>1131</th>\n",
       "      <td>10</td>\n",
       "      <td>10</td>\n",
       "      <td>Michael</td>\n",
       "      <td>NaN</td>\n",
       "      <td>NaN</td>\n",
       "      <td>NaN</td>\n",
       "      <td>NaN</td>\n",
       "    </tr>\n",
       "    <tr>\n",
       "      <th>1132</th>\n",
       "      <td>10</td>\n",
       "      <td>10</td>\n",
       "      <td>Michelle</td>\n",
       "      <td>NaN</td>\n",
       "      <td>NaN</td>\n",
       "      <td>NaN</td>\n",
       "      <td>NaN</td>\n",
       "    </tr>\n",
       "    <tr>\n",
       "      <th>1133</th>\n",
       "      <td>10</td>\n",
       "      <td>10</td>\n",
       "      <td>Phil</td>\n",
       "      <td>NaN</td>\n",
       "      <td>NaN</td>\n",
       "      <td>NaN</td>\n",
       "      <td>NaN</td>\n",
       "    </tr>\n",
       "    <tr>\n",
       "      <th>1134</th>\n",
       "      <td>10</td>\n",
       "      <td>10</td>\n",
       "      <td>Priya</td>\n",
       "      <td>NaN</td>\n",
       "      <td>NaN</td>\n",
       "      <td>NaN</td>\n",
       "      <td>NaN</td>\n",
       "    </tr>\n",
       "    <tr>\n",
       "      <th>1135</th>\n",
       "      <td>10</td>\n",
       "      <td>10</td>\n",
       "      <td>Rosie</td>\n",
       "      <td>NaN</td>\n",
       "      <td>NaN</td>\n",
       "      <td>NaN</td>\n",
       "      <td>NaN</td>\n",
       "    </tr>\n",
       "  </tbody>\n",
       "</table>\n",
       "<p>1136 rows × 7 columns</p>\n",
       "</div>"
      ],
      "text/plain": [
       "      series  episode      baker result  \\\n",
       "0          1        1    Annetha     IN   \n",
       "1          1        1      David     IN   \n",
       "2          1        1        Edd     IN   \n",
       "3          1        1  Jasminder     IN   \n",
       "4          1        1   Jonathan     IN   \n",
       "...      ...      ...        ...    ...   \n",
       "1131      10       10    Michael    NaN   \n",
       "1132      10       10   Michelle    NaN   \n",
       "1133      10       10       Phil    NaN   \n",
       "1134      10       10      Priya    NaN   \n",
       "1135      10       10      Rosie    NaN   \n",
       "\n",
       "                                              signature  technical  \\\n",
       "0     Light Jamaican Black Cake with Strawberries an...        2.0   \n",
       "1                                 Chocolate Orange Cake        3.0   \n",
       "2                      Caramel Cinnamon and Banana Cake        1.0   \n",
       "3        Fresh Mango and Passion Fruit Hummingbird Cake        NaN   \n",
       "4          Carrot Cake with Lime and Cream Cheese Icing        9.0   \n",
       "...                                                 ...        ...   \n",
       "1131                                                NaN        NaN   \n",
       "1132                                                NaN        NaN   \n",
       "1133                                                NaN        NaN   \n",
       "1134                                                NaN        NaN   \n",
       "1135                                                NaN        NaN   \n",
       "\n",
       "                                            showstopper  \n",
       "0     Red, White & Blue Chocolate Cake with Cigarell...  \n",
       "1     Black Forest Floor Gateaux with Moulded Chocol...  \n",
       "2                                                   NaN  \n",
       "3                                                   NaN  \n",
       "4     Three Tiered White and Dark Chocolate with Alm...  \n",
       "...                                                 ...  \n",
       "1131                                                NaN  \n",
       "1132                                                NaN  \n",
       "1133                                                NaN  \n",
       "1134                                                NaN  \n",
       "1135                                                NaN  \n",
       "\n",
       "[1136 rows x 7 columns]"
      ]
     },
     "execution_count": 3,
     "metadata": {},
     "output_type": "execute_result"
    }
   ],
   "source": [
    "challenge_results = bpd.read_csv('data/challenge_results.csv')\n",
    "challenge_results"
   ]
  },
  {
   "cell_type": "markdown",
   "id": "7f1f4d81",
   "metadata": {},
   "source": [
    "The `technical_challenge_recipes` DataFrame contains information about each recipe that was given as a Technical Challenge in the first nine seasons. The columns specify the season (`'Ssn'`) and episode (`'Ep'`) that each recipe was baked in, which judge's recipe collection it came from (`'Whose'`), and several aspects of the recipe's complexity:\n",
    "- number of components (`'Components'`), which are recipes used within the main recipe, such as a frosting or filling,\n",
    "- number of ingredients (`'IngredCount'`),\n",
    "- number of sentences in the instructions (`'RecipeSentences'`),\n",
    "- number of dirty dishes produced (`'Dishes'`), and\n",
    "- difficulty (`'DifficultyScore'`). \n",
    "\n",
    "Run the cell below to load in the `technical_challenge_recipes` data."
   ]
  },
  {
   "cell_type": "code",
   "execution_count": 4,
   "id": "630ee3c8",
   "metadata": {},
   "outputs": [
    {
     "data": {
      "text/html": [
       "<div>\n",
       "<style scoped>\n",
       "    .dataframe tbody tr th:only-of-type {\n",
       "        vertical-align: middle;\n",
       "    }\n",
       "\n",
       "    .dataframe tbody tr th {\n",
       "        vertical-align: top;\n",
       "    }\n",
       "\n",
       "    .dataframe thead th {\n",
       "        text-align: right;\n",
       "    }\n",
       "</style>\n",
       "<table border=\"1\" class=\"dataframe\">\n",
       "  <thead>\n",
       "    <tr style=\"text-align: right;\">\n",
       "      <th></th>\n",
       "      <th>Ssn</th>\n",
       "      <th>Ep</th>\n",
       "      <th>Item</th>\n",
       "      <th>Whose</th>\n",
       "      <th>Link</th>\n",
       "      <th>Components</th>\n",
       "      <th>IngredCount</th>\n",
       "      <th>RecipeSentences</th>\n",
       "      <th>Dishes</th>\n",
       "      <th>DifficultyScore</th>\n",
       "    </tr>\n",
       "  </thead>\n",
       "  <tbody>\n",
       "    <tr>\n",
       "      <th>0</th>\n",
       "      <td>1</td>\n",
       "      <td>1</td>\n",
       "      <td>Victoria Sandwich</td>\n",
       "      <td>Mary</td>\n",
       "      <td>https://thegreatbritishbakeoff.co.uk/victoria-...</td>\n",
       "      <td>2</td>\n",
       "      <td>9</td>\n",
       "      <td>25</td>\n",
       "      <td>5</td>\n",
       "      <td>3.2</td>\n",
       "    </tr>\n",
       "    <tr>\n",
       "      <th>1</th>\n",
       "      <td>1</td>\n",
       "      <td>2</td>\n",
       "      <td>Scone</td>\n",
       "      <td>Paul</td>\n",
       "      <td>https://thegreatbritishbakeoff.co.uk/scones/</td>\n",
       "      <td>1</td>\n",
       "      <td>5</td>\n",
       "      <td>15</td>\n",
       "      <td>6</td>\n",
       "      <td>1.8</td>\n",
       "    </tr>\n",
       "    <tr>\n",
       "      <th>2</th>\n",
       "      <td>1</td>\n",
       "      <td>3</td>\n",
       "      <td>Cob</td>\n",
       "      <td>Paul</td>\n",
       "      <td>https://www.bbc.com/food/recipes/paul_hollywoo...</td>\n",
       "      <td>1</td>\n",
       "      <td>6</td>\n",
       "      <td>40</td>\n",
       "      <td>9</td>\n",
       "      <td>5.6</td>\n",
       "    </tr>\n",
       "    <tr>\n",
       "      <th>3</th>\n",
       "      <td>1</td>\n",
       "      <td>4</td>\n",
       "      <td>Lemon Souffle</td>\n",
       "      <td>Mary</td>\n",
       "      <td>https://www.bbc.com/food/recipes/mary_berrys_l...</td>\n",
       "      <td>1</td>\n",
       "      <td>10</td>\n",
       "      <td>43</td>\n",
       "      <td>8</td>\n",
       "      <td>5.2</td>\n",
       "    </tr>\n",
       "    <tr>\n",
       "      <th>4</th>\n",
       "      <td>1</td>\n",
       "      <td>5</td>\n",
       "      <td>Cornish pasties</td>\n",
       "      <td>Paul</td>\n",
       "      <td>https://www.bbc.com/food/recipes/classic_corni...</td>\n",
       "      <td>2</td>\n",
       "      <td>11</td>\n",
       "      <td>32</td>\n",
       "      <td>4</td>\n",
       "      <td>3.4</td>\n",
       "    </tr>\n",
       "    <tr>\n",
       "      <th>...</th>\n",
       "      <td>...</td>\n",
       "      <td>...</td>\n",
       "      <td>...</td>\n",
       "      <td>...</td>\n",
       "      <td>...</td>\n",
       "      <td>...</td>\n",
       "      <td>...</td>\n",
       "      <td>...</td>\n",
       "      <td>...</td>\n",
       "      <td>...</td>\n",
       "    </tr>\n",
       "    <tr>\n",
       "      <th>78</th>\n",
       "      <td>9</td>\n",
       "      <td>6</td>\n",
       "      <td>Puits d'amour</td>\n",
       "      <td>Prue</td>\n",
       "      <td>https://thegreatbritishbakeoff.co.uk/prues-pui...</td>\n",
       "      <td>4</td>\n",
       "      <td>15</td>\n",
       "      <td>46</td>\n",
       "      <td>6</td>\n",
       "      <td>7.0</td>\n",
       "    </tr>\n",
       "    <tr>\n",
       "      <th>79</th>\n",
       "      <td>9</td>\n",
       "      <td>7</td>\n",
       "      <td>Vegan pavlova</td>\n",
       "      <td>Prue</td>\n",
       "      <td>https://thegreatbritishbakeoff.co.uk/vegan-tro...</td>\n",
       "      <td>5</td>\n",
       "      <td>18</td>\n",
       "      <td>29</td>\n",
       "      <td>11</td>\n",
       "      <td>8.4</td>\n",
       "    </tr>\n",
       "    <tr>\n",
       "      <th>80</th>\n",
       "      <td>9</td>\n",
       "      <td>8</td>\n",
       "      <td>Aebleskiver</td>\n",
       "      <td>Paul</td>\n",
       "      <td>https://thegreatbritishbakeoff.co.uk/aebleskiver/</td>\n",
       "      <td>3</td>\n",
       "      <td>16</td>\n",
       "      <td>29</td>\n",
       "      <td>15</td>\n",
       "      <td>7.2</td>\n",
       "    </tr>\n",
       "    <tr>\n",
       "      <th>81</th>\n",
       "      <td>9</td>\n",
       "      <td>9</td>\n",
       "      <td>Torta Setteveli</td>\n",
       "      <td>Prue</td>\n",
       "      <td>https://thegreatbritishbakeoff.co.uk/torta-set...</td>\n",
       "      <td>8</td>\n",
       "      <td>14</td>\n",
       "      <td>65</td>\n",
       "      <td>18</td>\n",
       "      <td>9.6</td>\n",
       "    </tr>\n",
       "    <tr>\n",
       "      <th>82</th>\n",
       "      <td>9</td>\n",
       "      <td>10</td>\n",
       "      <td>Campfire Pita breads with dips</td>\n",
       "      <td>Paul</td>\n",
       "      <td>https://thegreatbritishbakeoff.co.uk/pauls-cam...</td>\n",
       "      <td>5</td>\n",
       "      <td>29</td>\n",
       "      <td>44</td>\n",
       "      <td>7</td>\n",
       "      <td>8.6</td>\n",
       "    </tr>\n",
       "  </tbody>\n",
       "</table>\n",
       "<p>83 rows × 10 columns</p>\n",
       "</div>"
      ],
      "text/plain": [
       "    Ssn  Ep                            Item Whose  \\\n",
       "0     1   1               Victoria Sandwich  Mary   \n",
       "1     1   2                           Scone  Paul   \n",
       "2     1   3                             Cob  Paul   \n",
       "3     1   4                   Lemon Souffle  Mary   \n",
       "4     1   5                 Cornish pasties  Paul   \n",
       "..  ...  ..                             ...   ...   \n",
       "78    9   6                   Puits d'amour  Prue   \n",
       "79    9   7                   Vegan pavlova  Prue   \n",
       "80    9   8                     Aebleskiver  Paul   \n",
       "81    9   9                 Torta Setteveli  Prue   \n",
       "82    9  10  Campfire Pita breads with dips  Paul   \n",
       "\n",
       "                                                 Link  Components  \\\n",
       "0   https://thegreatbritishbakeoff.co.uk/victoria-...           2   \n",
       "1        https://thegreatbritishbakeoff.co.uk/scones/           1   \n",
       "2   https://www.bbc.com/food/recipes/paul_hollywoo...           1   \n",
       "3   https://www.bbc.com/food/recipes/mary_berrys_l...           1   \n",
       "4   https://www.bbc.com/food/recipes/classic_corni...           2   \n",
       "..                                                ...         ...   \n",
       "78  https://thegreatbritishbakeoff.co.uk/prues-pui...           4   \n",
       "79  https://thegreatbritishbakeoff.co.uk/vegan-tro...           5   \n",
       "80  https://thegreatbritishbakeoff.co.uk/aebleskiver/           3   \n",
       "81  https://thegreatbritishbakeoff.co.uk/torta-set...           8   \n",
       "82  https://thegreatbritishbakeoff.co.uk/pauls-cam...           5   \n",
       "\n",
       "    IngredCount  RecipeSentences  Dishes  DifficultyScore  \n",
       "0             9               25       5              3.2  \n",
       "1             5               15       6              1.8  \n",
       "2             6               40       9              5.6  \n",
       "3            10               43       8              5.2  \n",
       "4            11               32       4              3.4  \n",
       "..          ...              ...     ...              ...  \n",
       "78           15               46       6              7.0  \n",
       "79           18               29      11              8.4  \n",
       "80           16               29      15              7.2  \n",
       "81           14               65      18              9.6  \n",
       "82           29               44       7              8.6  \n",
       "\n",
       "[83 rows x 10 columns]"
      ]
     },
     "execution_count": 4,
     "metadata": {},
     "output_type": "execute_result"
    }
   ],
   "source": [
    "technical_challenge_recipes = bpd.read_csv('data/technical_challenge_recipes.csv')\n",
    "technical_challenge_recipes"
   ]
  },
  {
   "cell_type": "markdown",
   "id": "207fd146",
   "metadata": {},
   "source": [
    "The `bakers` DataFrame contains a row for each baker from the first ten seasons, with detailed information about their results in the show, particularly about their performance in the Technical Challenge:\n",
    "- `'technical_winner'`: number of times they won,\n",
    "- `'technical_top3'`: number of times they placed in the top three,\n",
    "- `'technical_bottom'`: number of times they placed last,\n",
    "- `'technical_highest'`: highest (best) rank they ever earned,\n",
    "- `'technical_lowest'`: lowest (worst) rank they ever earned, and\n",
    "- `'technical_median'`: median of all ranks they ever earned.\n",
    "\n",
    "It also includes information about when they appeared on the show and their demographics such as `'occupation'` and `'hometown'`.\n",
    "\n",
    "Run the cell below to load in the `bakers` data."
   ]
  },
  {
   "cell_type": "code",
   "execution_count": 5,
   "id": "49eefd6f",
   "metadata": {
    "scrolled": true
   },
   "outputs": [
    {
     "data": {
      "text/html": [
       "<div>\n",
       "<style scoped>\n",
       "    .dataframe tbody tr th:only-of-type {\n",
       "        vertical-align: middle;\n",
       "    }\n",
       "\n",
       "    .dataframe tbody tr th {\n",
       "        vertical-align: top;\n",
       "    }\n",
       "\n",
       "    .dataframe thead th {\n",
       "        text-align: right;\n",
       "    }\n",
       "</style>\n",
       "<table border=\"1\" class=\"dataframe\">\n",
       "  <thead>\n",
       "    <tr style=\"text-align: right;\">\n",
       "      <th></th>\n",
       "      <th>series</th>\n",
       "      <th>baker</th>\n",
       "      <th>star_baker</th>\n",
       "      <th>technical_winner</th>\n",
       "      <th>technical_top3</th>\n",
       "      <th>technical_bottom</th>\n",
       "      <th>technical_highest</th>\n",
       "      <th>technical_lowest</th>\n",
       "      <th>technical_median</th>\n",
       "      <th>series_winner</th>\n",
       "      <th>...</th>\n",
       "      <th>last_date_us</th>\n",
       "      <th>percent_episodes_appeared</th>\n",
       "      <th>percent_technical_top3</th>\n",
       "      <th>baker_full</th>\n",
       "      <th>age</th>\n",
       "      <th>occupation</th>\n",
       "      <th>hometown</th>\n",
       "      <th>baker_last</th>\n",
       "      <th>baker_first</th>\n",
       "      <th>gender</th>\n",
       "    </tr>\n",
       "  </thead>\n",
       "  <tbody>\n",
       "    <tr>\n",
       "      <th>0</th>\n",
       "      <td>1</td>\n",
       "      <td>Annetha</td>\n",
       "      <td>0</td>\n",
       "      <td>0</td>\n",
       "      <td>1</td>\n",
       "      <td>1</td>\n",
       "      <td>2.0</td>\n",
       "      <td>7.0</td>\n",
       "      <td>4.5</td>\n",
       "      <td>0</td>\n",
       "      <td>...</td>\n",
       "      <td>NaN</td>\n",
       "      <td>33.333333</td>\n",
       "      <td>50.000000</td>\n",
       "      <td>Annetha Mills</td>\n",
       "      <td>30</td>\n",
       "      <td>Midwife</td>\n",
       "      <td>Essex</td>\n",
       "      <td>Mills</td>\n",
       "      <td>Annetha</td>\n",
       "      <td>F</td>\n",
       "    </tr>\n",
       "    <tr>\n",
       "      <th>1</th>\n",
       "      <td>1</td>\n",
       "      <td>David</td>\n",
       "      <td>0</td>\n",
       "      <td>0</td>\n",
       "      <td>1</td>\n",
       "      <td>3</td>\n",
       "      <td>3.0</td>\n",
       "      <td>8.0</td>\n",
       "      <td>4.5</td>\n",
       "      <td>0</td>\n",
       "      <td>...</td>\n",
       "      <td>NaN</td>\n",
       "      <td>66.666667</td>\n",
       "      <td>25.000000</td>\n",
       "      <td>David Chambers</td>\n",
       "      <td>31</td>\n",
       "      <td>Entrepreneur</td>\n",
       "      <td>Milton Keynes</td>\n",
       "      <td>Chambers</td>\n",
       "      <td>David</td>\n",
       "      <td>M</td>\n",
       "    </tr>\n",
       "    <tr>\n",
       "      <th>2</th>\n",
       "      <td>1</td>\n",
       "      <td>Edd</td>\n",
       "      <td>0</td>\n",
       "      <td>2</td>\n",
       "      <td>4</td>\n",
       "      <td>1</td>\n",
       "      <td>1.0</td>\n",
       "      <td>6.0</td>\n",
       "      <td>2.0</td>\n",
       "      <td>1</td>\n",
       "      <td>...</td>\n",
       "      <td>NaN</td>\n",
       "      <td>100.000000</td>\n",
       "      <td>66.666667</td>\n",
       "      <td>Edward \"Edd\" Kimber</td>\n",
       "      <td>24</td>\n",
       "      <td>Debt collector for Yorkshire Bank</td>\n",
       "      <td>Bradford</td>\n",
       "      <td>Kimber</td>\n",
       "      <td>Edward</td>\n",
       "      <td>M</td>\n",
       "    </tr>\n",
       "    <tr>\n",
       "      <th>3</th>\n",
       "      <td>1</td>\n",
       "      <td>Jasminder</td>\n",
       "      <td>0</td>\n",
       "      <td>0</td>\n",
       "      <td>2</td>\n",
       "      <td>2</td>\n",
       "      <td>2.0</td>\n",
       "      <td>5.0</td>\n",
       "      <td>3.0</td>\n",
       "      <td>0</td>\n",
       "      <td>...</td>\n",
       "      <td>NaN</td>\n",
       "      <td>83.333333</td>\n",
       "      <td>40.000000</td>\n",
       "      <td>Jasminder Randhawa</td>\n",
       "      <td>45</td>\n",
       "      <td>Assistant Credit Control Manager</td>\n",
       "      <td>Birmingham</td>\n",
       "      <td>Randhawa</td>\n",
       "      <td>Jasminder</td>\n",
       "      <td>F</td>\n",
       "    </tr>\n",
       "    <tr>\n",
       "      <th>4</th>\n",
       "      <td>1</td>\n",
       "      <td>Jonathan</td>\n",
       "      <td>0</td>\n",
       "      <td>1</td>\n",
       "      <td>1</td>\n",
       "      <td>2</td>\n",
       "      <td>1.0</td>\n",
       "      <td>9.0</td>\n",
       "      <td>6.0</td>\n",
       "      <td>0</td>\n",
       "      <td>...</td>\n",
       "      <td>NaN</td>\n",
       "      <td>50.000000</td>\n",
       "      <td>33.333333</td>\n",
       "      <td>Jonathan Shepherd</td>\n",
       "      <td>25</td>\n",
       "      <td>Research Analyst</td>\n",
       "      <td>St Albans</td>\n",
       "      <td>Shepherd</td>\n",
       "      <td>Jonathan</td>\n",
       "      <td>M</td>\n",
       "    </tr>\n",
       "    <tr>\n",
       "      <th>...</th>\n",
       "      <td>...</td>\n",
       "      <td>...</td>\n",
       "      <td>...</td>\n",
       "      <td>...</td>\n",
       "      <td>...</td>\n",
       "      <td>...</td>\n",
       "      <td>...</td>\n",
       "      <td>...</td>\n",
       "      <td>...</td>\n",
       "      <td>...</td>\n",
       "      <td>...</td>\n",
       "      <td>...</td>\n",
       "      <td>...</td>\n",
       "      <td>...</td>\n",
       "      <td>...</td>\n",
       "      <td>...</td>\n",
       "      <td>...</td>\n",
       "      <td>...</td>\n",
       "      <td>...</td>\n",
       "      <td>...</td>\n",
       "      <td>...</td>\n",
       "    </tr>\n",
       "    <tr>\n",
       "      <th>115</th>\n",
       "      <td>10</td>\n",
       "      <td>Michelle</td>\n",
       "      <td>1</td>\n",
       "      <td>0</td>\n",
       "      <td>0</td>\n",
       "      <td>5</td>\n",
       "      <td>5.0</td>\n",
       "      <td>8.0</td>\n",
       "      <td>6.0</td>\n",
       "      <td>0</td>\n",
       "      <td>...</td>\n",
       "      <td>NaN</td>\n",
       "      <td>50.000000</td>\n",
       "      <td>0.000000</td>\n",
       "      <td>Michelle Evans-Fecci</td>\n",
       "      <td>35</td>\n",
       "      <td>Print shop administrator</td>\n",
       "      <td>Tenby, Wales</td>\n",
       "      <td>Evans-Fecci</td>\n",
       "      <td>Michelle</td>\n",
       "      <td>F</td>\n",
       "    </tr>\n",
       "    <tr>\n",
       "      <th>116</th>\n",
       "      <td>10</td>\n",
       "      <td>Phil</td>\n",
       "      <td>0</td>\n",
       "      <td>0</td>\n",
       "      <td>1</td>\n",
       "      <td>3</td>\n",
       "      <td>3.0</td>\n",
       "      <td>10.0</td>\n",
       "      <td>7.0</td>\n",
       "      <td>0</td>\n",
       "      <td>...</td>\n",
       "      <td>NaN</td>\n",
       "      <td>40.000000</td>\n",
       "      <td>25.000000</td>\n",
       "      <td>Phil Thorne</td>\n",
       "      <td>56</td>\n",
       "      <td>HGV driver</td>\n",
       "      <td>Rainham</td>\n",
       "      <td>Thorne</td>\n",
       "      <td>Phil</td>\n",
       "      <td>M</td>\n",
       "    </tr>\n",
       "    <tr>\n",
       "      <th>117</th>\n",
       "      <td>10</td>\n",
       "      <td>Priya</td>\n",
       "      <td>0</td>\n",
       "      <td>0</td>\n",
       "      <td>1</td>\n",
       "      <td>5</td>\n",
       "      <td>2.0</td>\n",
       "      <td>10.0</td>\n",
       "      <td>7.0</td>\n",
       "      <td>0</td>\n",
       "      <td>...</td>\n",
       "      <td>NaN</td>\n",
       "      <td>60.000000</td>\n",
       "      <td>16.666667</td>\n",
       "      <td>Priya O'Shea</td>\n",
       "      <td>34</td>\n",
       "      <td>Marketing consultant</td>\n",
       "      <td>Leicester</td>\n",
       "      <td>O'Shea</td>\n",
       "      <td>Priya</td>\n",
       "      <td>F</td>\n",
       "    </tr>\n",
       "    <tr>\n",
       "      <th>118</th>\n",
       "      <td>10</td>\n",
       "      <td>Rosie</td>\n",
       "      <td>0</td>\n",
       "      <td>2</td>\n",
       "      <td>4</td>\n",
       "      <td>5</td>\n",
       "      <td>1.0</td>\n",
       "      <td>9.0</td>\n",
       "      <td>4.0</td>\n",
       "      <td>0</td>\n",
       "      <td>...</td>\n",
       "      <td>NaN</td>\n",
       "      <td>90.000000</td>\n",
       "      <td>44.444444</td>\n",
       "      <td>Rosie Brandreth-Poynter</td>\n",
       "      <td>28</td>\n",
       "      <td>Veterinary surgeon</td>\n",
       "      <td>Somerset</td>\n",
       "      <td>Brandreth-Poynter</td>\n",
       "      <td>Rosie</td>\n",
       "      <td>F</td>\n",
       "    </tr>\n",
       "    <tr>\n",
       "      <th>119</th>\n",
       "      <td>10</td>\n",
       "      <td>Steph</td>\n",
       "      <td>1</td>\n",
       "      <td>1</td>\n",
       "      <td>6</td>\n",
       "      <td>4</td>\n",
       "      <td>1.0</td>\n",
       "      <td>10.0</td>\n",
       "      <td>3.0</td>\n",
       "      <td>0</td>\n",
       "      <td>...</td>\n",
       "      <td>NaN</td>\n",
       "      <td>100.000000</td>\n",
       "      <td>60.000000</td>\n",
       "      <td>Steph Blackwell</td>\n",
       "      <td>28</td>\n",
       "      <td>Shop assistant</td>\n",
       "      <td>Chester</td>\n",
       "      <td>Blackwell</td>\n",
       "      <td>Steph</td>\n",
       "      <td>F</td>\n",
       "    </tr>\n",
       "  </tbody>\n",
       "</table>\n",
       "<p>120 rows × 25 columns</p>\n",
       "</div>"
      ],
      "text/plain": [
       "     series      baker  star_baker  technical_winner  technical_top3  \\\n",
       "0         1    Annetha           0                 0               1   \n",
       "1         1      David           0                 0               1   \n",
       "2         1        Edd           0                 2               4   \n",
       "3         1  Jasminder           0                 0               2   \n",
       "4         1   Jonathan           0                 1               1   \n",
       "..      ...        ...         ...               ...             ...   \n",
       "115      10   Michelle           1                 0               0   \n",
       "116      10       Phil           0                 0               1   \n",
       "117      10      Priya           0                 0               1   \n",
       "118      10      Rosie           0                 2               4   \n",
       "119      10      Steph           1                 1               6   \n",
       "\n",
       "     technical_bottom  technical_highest  technical_lowest  technical_median  \\\n",
       "0                   1                2.0               7.0               4.5   \n",
       "1                   3                3.0               8.0               4.5   \n",
       "2                   1                1.0               6.0               2.0   \n",
       "3                   2                2.0               5.0               3.0   \n",
       "4                   2                1.0               9.0               6.0   \n",
       "..                ...                ...               ...               ...   \n",
       "115                 5                5.0               8.0               6.0   \n",
       "116                 3                3.0              10.0               7.0   \n",
       "117                 5                2.0              10.0               7.0   \n",
       "118                 5                1.0               9.0               4.0   \n",
       "119                 4                1.0              10.0               3.0   \n",
       "\n",
       "     series_winner  ...  last_date_us  percent_episodes_appeared  \\\n",
       "0                0  ...           NaN                  33.333333   \n",
       "1                0  ...           NaN                  66.666667   \n",
       "2                1  ...           NaN                 100.000000   \n",
       "3                0  ...           NaN                  83.333333   \n",
       "4                0  ...           NaN                  50.000000   \n",
       "..             ...  ...           ...                        ...   \n",
       "115              0  ...           NaN                  50.000000   \n",
       "116              0  ...           NaN                  40.000000   \n",
       "117              0  ...           NaN                  60.000000   \n",
       "118              0  ...           NaN                  90.000000   \n",
       "119              0  ...           NaN                 100.000000   \n",
       "\n",
       "    percent_technical_top3               baker_full  age  \\\n",
       "0                50.000000            Annetha Mills   30   \n",
       "1                25.000000           David Chambers   31   \n",
       "2                66.666667      Edward \"Edd\" Kimber   24   \n",
       "3                40.000000       Jasminder Randhawa   45   \n",
       "4                33.333333        Jonathan Shepherd   25   \n",
       "..                     ...                      ...  ...   \n",
       "115               0.000000     Michelle Evans-Fecci   35   \n",
       "116              25.000000              Phil Thorne   56   \n",
       "117              16.666667             Priya O'Shea   34   \n",
       "118              44.444444  Rosie Brandreth-Poynter   28   \n",
       "119              60.000000          Steph Blackwell   28   \n",
       "\n",
       "                            occupation       hometown         baker_last  \\\n",
       "0                              Midwife          Essex              Mills   \n",
       "1                         Entrepreneur  Milton Keynes           Chambers   \n",
       "2    Debt collector for Yorkshire Bank       Bradford             Kimber   \n",
       "3     Assistant Credit Control Manager     Birmingham           Randhawa   \n",
       "4                     Research Analyst      St Albans           Shepherd   \n",
       "..                                 ...            ...                ...   \n",
       "115           Print shop administrator   Tenby, Wales        Evans-Fecci   \n",
       "116                         HGV driver        Rainham             Thorne   \n",
       "117               Marketing consultant      Leicester             O'Shea   \n",
       "118                 Veterinary surgeon       Somerset  Brandreth-Poynter   \n",
       "119                     Shop assistant        Chester          Blackwell   \n",
       "\n",
       "    baker_first  gender  \n",
       "0       Annetha       F  \n",
       "1         David       M  \n",
       "2        Edward       M  \n",
       "3     Jasminder       F  \n",
       "4      Jonathan       M  \n",
       "..          ...     ...  \n",
       "115    Michelle       F  \n",
       "116        Phil       M  \n",
       "117       Priya       F  \n",
       "118       Rosie       F  \n",
       "119       Steph       F  \n",
       "\n",
       "[120 rows x 25 columns]"
      ]
     },
     "execution_count": 5,
     "metadata": {},
     "output_type": "execute_result"
    }
   ],
   "source": [
    "bakers = bpd.read_csv('data/bakers.csv')\n",
    "bakers"
   ]
  },
  {
   "cell_type": "markdown",
   "id": "61080e5d",
   "metadata": {},
   "source": [
    "Our data comes from a variety of different [sources](#sources) and may contain errors. If you find any errors in the data, do not attempt to fix them; just analyze the data you are given. "
   ]
  },
  {
   "cell_type": "markdown",
   "id": "ef3f1017",
   "metadata": {},
   "source": [
    "<a id='section1'></a>\n",
    "## Section 1: Exploratory Data Analysis 🔎"
   ]
  },
  {
   "cell_type": "markdown",
   "id": "d0e486f0",
   "metadata": {},
   "source": [
    "To start, we’ll perform some exploratory data analysis to get better acquainted with our data.\n",
    "\n",
    "A common sentiment among long-time viewers of the show is that the baking challenges are getting harder over time. Does the data support this? \n",
    "\n",
    "**Question 1.1.** Using the `technical_challenge_recipes` DataFrame, create an overlaid line plot that shows the season number on the horizontal axis and on the vertical axis:\n",
    "- average number of dirty dishes produced by recipes in that season, \n",
    "- average number of components in recipes in that season,\n",
    "- average number of ingredients in recipes in that season, and \n",
    "- average difficulty score of recipes in that season."
   ]
  },
  {
   "cell_type": "markdown",
   "id": "4651e2fd",
   "metadata": {
    "deletable": false,
    "editable": false
   },
   "source": [
    "<!-- BEGIN QUESTION -->\n",
    "\n",
    "<!--\n",
    "BEGIN QUESTION\n",
    "name: q1_1\n",
    "points: 1\n",
    "manual: true\n",
    "-->"
   ]
  },
  {
   "cell_type": "code",
   "execution_count": 6,
   "id": "4a7a6387",
   "metadata": {},
   "outputs": [
    {
     "data": {
      "image/png": "[encoded data removed]",
      "text/plain": [
       "<Figure size 432x288 with 1 Axes>"
      ]
     },
     "metadata": {},
     "output_type": "display_data"
    }
   ],
   "source": [
    "# Create your overlaid line plot here.\n",
    "averaged_technical = technical_challenge_recipes.get(['Dishes', 'Components','IngredCount','DifficultyScore','Ssn']).groupby('Ssn').mean()\n",
    "averaged_technical.plot(kind = 'line');"
   ]
  },
  {
   "cell_type": "markdown",
   "id": "8fdfeb18",
   "metadata": {},
   "source": [
    "<!-- END QUESTION -->\n",
    "\n",
    "\n",
    "\n",
    "Some of the recipes the contestants bake are quite complicated. Let's look at some especially long recipe titles.\n",
    "\n",
    "**Question 1.2.** Using the `challenge_results` DataFrame, which Signature Challenge recipe had the longest name? Save the result as `longest_signature`. \n",
    "\n",
    "Similarly, which Showstopper Challenge recipe had the longest name? Save the result as `longest_showstopper`. In both cases, longest means having the most individual characters, including punctuation and whitespace."
   ]
  },
  {
   "cell_type": "code",
   "execution_count": 7,
   "id": "98edeef3",
   "metadata": {},
   "outputs": [
    {
     "name": "stdout",
     "output_type": "stream",
     "text": [
      "Longest signature name:  Beetroot Jelly on Poppy Seed Biscuits Spinach, Parmesan and Egg Tartlets Choux Buns with Goat's Cheese and Caramelised Onions \n",
      "\n",
      "Longest showstopper name:  Summery Salmon, Cod and Prawn Fish Pie \n",
      "\n"
     ]
    }
   ],
   "source": [
    "most_chars = challenge_results.get('signature').str.len().max()\n",
    "longest_signature = challenge_results[challenge_results.get('signature').str.len() == most_chars].get('signature').iloc[0]\n",
    "print(\"Longest signature name: \", longest_signature, \"\\n\")\n",
    "\n",
    "\n",
    "most_chars2 = challenge_results.get('showstopper').str.len().max()\n",
    "longest_showstopper = challenge_results[challenge_results.get('showstopper').str.len() == most_chars2].get('signature').iloc[0]\n",
    "print(\"Longest showstopper name: \", longest_showstopper, \"\\n\")"
   ]
  },
  {
   "cell_type": "code",
   "execution_count": 8,
   "id": "99f429d0",
   "metadata": {
    "deletable": false,
    "editable": false
   },
   "outputs": [
    {
     "data": {
      "text/html": [
       "<p><strong><pre style='display: inline;'>q1_2</pre></strong> passed!</p>"
      ],
      "text/plain": [
       "q1_2 results: All test cases passed!"
      ]
     },
     "execution_count": 8,
     "metadata": {},
     "output_type": "execute_result"
    }
   ],
   "source": [
    "grader.check(\"q1_2\")"
   ]
  },
  {
   "cell_type": "markdown",
   "id": "64a19bf9",
   "metadata": {},
   "source": [
    "Notice that each of these recipes actually involves multiple items. Often the bakers have to make displays of baked goods with multiple components as part of a single challenge."
   ]
  },
  {
   "cell_type": "markdown",
   "id": "ec77828a",
   "metadata": {},
   "source": [
    "Another common sentiment among viewers is that the show favors younger people 👧🏽. To further explore the bakers' ages, let's convert the `'age'` column to a categorical variable:"
   ]
  },
  {
   "cell_type": "markdown",
   "id": "4aede085",
   "metadata": {},
   "source": [
    "**Question 1.3.** Add an additional column called `'age_category'` to the `bakers` DataFrame, based on the following age categorization:\n",
    "\n",
    "| Age            | Category    |\n",
    "| -------------- | ----------- |\n",
    "| (0, 39]        | Young       |\n",
    "| (39, 59]       | Middle-Aged |\n",
    "| (59, $\\infty$) | Elderly     |"
   ]
  },
  {
   "cell_type": "code",
   "execution_count": 9,
   "id": "8c087282",
   "metadata": {},
   "outputs": [
    {
     "data": {
      "text/html": [
       "<div>\n",
       "<style scoped>\n",
       "    .dataframe tbody tr th:only-of-type {\n",
       "        vertical-align: middle;\n",
       "    }\n",
       "\n",
       "    .dataframe tbody tr th {\n",
       "        vertical-align: top;\n",
       "    }\n",
       "\n",
       "    .dataframe thead th {\n",
       "        text-align: right;\n",
       "    }\n",
       "</style>\n",
       "<table border=\"1\" class=\"dataframe\">\n",
       "  <thead>\n",
       "    <tr style=\"text-align: right;\">\n",
       "      <th></th>\n",
       "      <th>series</th>\n",
       "      <th>baker</th>\n",
       "      <th>star_baker</th>\n",
       "      <th>technical_winner</th>\n",
       "      <th>technical_top3</th>\n",
       "      <th>technical_bottom</th>\n",
       "      <th>technical_highest</th>\n",
       "      <th>technical_lowest</th>\n",
       "      <th>technical_median</th>\n",
       "      <th>series_winner</th>\n",
       "      <th>...</th>\n",
       "      <th>percent_episodes_appeared</th>\n",
       "      <th>percent_technical_top3</th>\n",
       "      <th>baker_full</th>\n",
       "      <th>age</th>\n",
       "      <th>occupation</th>\n",
       "      <th>hometown</th>\n",
       "      <th>baker_last</th>\n",
       "      <th>baker_first</th>\n",
       "      <th>gender</th>\n",
       "      <th>age_category</th>\n",
       "    </tr>\n",
       "  </thead>\n",
       "  <tbody>\n",
       "    <tr>\n",
       "      <th>0</th>\n",
       "      <td>1</td>\n",
       "      <td>Annetha</td>\n",
       "      <td>0</td>\n",
       "      <td>0</td>\n",
       "      <td>1</td>\n",
       "      <td>1</td>\n",
       "      <td>2.0</td>\n",
       "      <td>7.0</td>\n",
       "      <td>4.5</td>\n",
       "      <td>0</td>\n",
       "      <td>...</td>\n",
       "      <td>33.333333</td>\n",
       "      <td>50.000000</td>\n",
       "      <td>Annetha Mills</td>\n",
       "      <td>30</td>\n",
       "      <td>Midwife</td>\n",
       "      <td>Essex</td>\n",
       "      <td>Mills</td>\n",
       "      <td>Annetha</td>\n",
       "      <td>F</td>\n",
       "      <td>Young</td>\n",
       "    </tr>\n",
       "    <tr>\n",
       "      <th>1</th>\n",
       "      <td>1</td>\n",
       "      <td>David</td>\n",
       "      <td>0</td>\n",
       "      <td>0</td>\n",
       "      <td>1</td>\n",
       "      <td>3</td>\n",
       "      <td>3.0</td>\n",
       "      <td>8.0</td>\n",
       "      <td>4.5</td>\n",
       "      <td>0</td>\n",
       "      <td>...</td>\n",
       "      <td>66.666667</td>\n",
       "      <td>25.000000</td>\n",
       "      <td>David Chambers</td>\n",
       "      <td>31</td>\n",
       "      <td>Entrepreneur</td>\n",
       "      <td>Milton Keynes</td>\n",
       "      <td>Chambers</td>\n",
       "      <td>David</td>\n",
       "      <td>M</td>\n",
       "      <td>Young</td>\n",
       "    </tr>\n",
       "    <tr>\n",
       "      <th>2</th>\n",
       "      <td>1</td>\n",
       "      <td>Edd</td>\n",
       "      <td>0</td>\n",
       "      <td>2</td>\n",
       "      <td>4</td>\n",
       "      <td>1</td>\n",
       "      <td>1.0</td>\n",
       "      <td>6.0</td>\n",
       "      <td>2.0</td>\n",
       "      <td>1</td>\n",
       "      <td>...</td>\n",
       "      <td>100.000000</td>\n",
       "      <td>66.666667</td>\n",
       "      <td>Edward \"Edd\" Kimber</td>\n",
       "      <td>24</td>\n",
       "      <td>Debt collector for Yorkshire Bank</td>\n",
       "      <td>Bradford</td>\n",
       "      <td>Kimber</td>\n",
       "      <td>Edward</td>\n",
       "      <td>M</td>\n",
       "      <td>Young</td>\n",
       "    </tr>\n",
       "    <tr>\n",
       "      <th>3</th>\n",
       "      <td>1</td>\n",
       "      <td>Jasminder</td>\n",
       "      <td>0</td>\n",
       "      <td>0</td>\n",
       "      <td>2</td>\n",
       "      <td>2</td>\n",
       "      <td>2.0</td>\n",
       "      <td>5.0</td>\n",
       "      <td>3.0</td>\n",
       "      <td>0</td>\n",
       "      <td>...</td>\n",
       "      <td>83.333333</td>\n",
       "      <td>40.000000</td>\n",
       "      <td>Jasminder Randhawa</td>\n",
       "      <td>45</td>\n",
       "      <td>Assistant Credit Control Manager</td>\n",
       "      <td>Birmingham</td>\n",
       "      <td>Randhawa</td>\n",
       "      <td>Jasminder</td>\n",
       "      <td>F</td>\n",
       "      <td>Middle-Aged</td>\n",
       "    </tr>\n",
       "    <tr>\n",
       "      <th>4</th>\n",
       "      <td>1</td>\n",
       "      <td>Jonathan</td>\n",
       "      <td>0</td>\n",
       "      <td>1</td>\n",
       "      <td>1</td>\n",
       "      <td>2</td>\n",
       "      <td>1.0</td>\n",
       "      <td>9.0</td>\n",
       "      <td>6.0</td>\n",
       "      <td>0</td>\n",
       "      <td>...</td>\n",
       "      <td>50.000000</td>\n",
       "      <td>33.333333</td>\n",
       "      <td>Jonathan Shepherd</td>\n",
       "      <td>25</td>\n",
       "      <td>Research Analyst</td>\n",
       "      <td>St Albans</td>\n",
       "      <td>Shepherd</td>\n",
       "      <td>Jonathan</td>\n",
       "      <td>M</td>\n",
       "      <td>Young</td>\n",
       "    </tr>\n",
       "    <tr>\n",
       "      <th>...</th>\n",
       "      <td>...</td>\n",
       "      <td>...</td>\n",
       "      <td>...</td>\n",
       "      <td>...</td>\n",
       "      <td>...</td>\n",
       "      <td>...</td>\n",
       "      <td>...</td>\n",
       "      <td>...</td>\n",
       "      <td>...</td>\n",
       "      <td>...</td>\n",
       "      <td>...</td>\n",
       "      <td>...</td>\n",
       "      <td>...</td>\n",
       "      <td>...</td>\n",
       "      <td>...</td>\n",
       "      <td>...</td>\n",
       "      <td>...</td>\n",
       "      <td>...</td>\n",
       "      <td>...</td>\n",
       "      <td>...</td>\n",
       "      <td>...</td>\n",
       "    </tr>\n",
       "    <tr>\n",
       "      <th>115</th>\n",
       "      <td>10</td>\n",
       "      <td>Michelle</td>\n",
       "      <td>1</td>\n",
       "      <td>0</td>\n",
       "      <td>0</td>\n",
       "      <td>5</td>\n",
       "      <td>5.0</td>\n",
       "      <td>8.0</td>\n",
       "      <td>6.0</td>\n",
       "      <td>0</td>\n",
       "      <td>...</td>\n",
       "      <td>50.000000</td>\n",
       "      <td>0.000000</td>\n",
       "      <td>Michelle Evans-Fecci</td>\n",
       "      <td>35</td>\n",
       "      <td>Print shop administrator</td>\n",
       "      <td>Tenby, Wales</td>\n",
       "      <td>Evans-Fecci</td>\n",
       "      <td>Michelle</td>\n",
       "      <td>F</td>\n",
       "      <td>Young</td>\n",
       "    </tr>\n",
       "    <tr>\n",
       "      <th>116</th>\n",
       "      <td>10</td>\n",
       "      <td>Phil</td>\n",
       "      <td>0</td>\n",
       "      <td>0</td>\n",
       "      <td>1</td>\n",
       "      <td>3</td>\n",
       "      <td>3.0</td>\n",
       "      <td>10.0</td>\n",
       "      <td>7.0</td>\n",
       "      <td>0</td>\n",
       "      <td>...</td>\n",
       "      <td>40.000000</td>\n",
       "      <td>25.000000</td>\n",
       "      <td>Phil Thorne</td>\n",
       "      <td>56</td>\n",
       "      <td>HGV driver</td>\n",
       "      <td>Rainham</td>\n",
       "      <td>Thorne</td>\n",
       "      <td>Phil</td>\n",
       "      <td>M</td>\n",
       "      <td>Middle-Aged</td>\n",
       "    </tr>\n",
       "    <tr>\n",
       "      <th>117</th>\n",
       "      <td>10</td>\n",
       "      <td>Priya</td>\n",
       "      <td>0</td>\n",
       "      <td>0</td>\n",
       "      <td>1</td>\n",
       "      <td>5</td>\n",
       "      <td>2.0</td>\n",
       "      <td>10.0</td>\n",
       "      <td>7.0</td>\n",
       "      <td>0</td>\n",
       "      <td>...</td>\n",
       "      <td>60.000000</td>\n",
       "      <td>16.666667</td>\n",
       "      <td>Priya O'Shea</td>\n",
       "      <td>34</td>\n",
       "      <td>Marketing consultant</td>\n",
       "      <td>Leicester</td>\n",
       "      <td>O'Shea</td>\n",
       "      <td>Priya</td>\n",
       "      <td>F</td>\n",
       "      <td>Young</td>\n",
       "    </tr>\n",
       "    <tr>\n",
       "      <th>118</th>\n",
       "      <td>10</td>\n",
       "      <td>Rosie</td>\n",
       "      <td>0</td>\n",
       "      <td>2</td>\n",
       "      <td>4</td>\n",
       "      <td>5</td>\n",
       "      <td>1.0</td>\n",
       "      <td>9.0</td>\n",
       "      <td>4.0</td>\n",
       "      <td>0</td>\n",
       "      <td>...</td>\n",
       "      <td>90.000000</td>\n",
       "      <td>44.444444</td>\n",
       "      <td>Rosie Brandreth-Poynter</td>\n",
       "      <td>28</td>\n",
       "      <td>Veterinary surgeon</td>\n",
       "      <td>Somerset</td>\n",
       "      <td>Brandreth-Poynter</td>\n",
       "      <td>Rosie</td>\n",
       "      <td>F</td>\n",
       "      <td>Young</td>\n",
       "    </tr>\n",
       "    <tr>\n",
       "      <th>119</th>\n",
       "      <td>10</td>\n",
       "      <td>Steph</td>\n",
       "      <td>1</td>\n",
       "      <td>1</td>\n",
       "      <td>6</td>\n",
       "      <td>4</td>\n",
       "      <td>1.0</td>\n",
       "      <td>10.0</td>\n",
       "      <td>3.0</td>\n",
       "      <td>0</td>\n",
       "      <td>...</td>\n",
       "      <td>100.000000</td>\n",
       "      <td>60.000000</td>\n",
       "      <td>Steph Blackwell</td>\n",
       "      <td>28</td>\n",
       "      <td>Shop assistant</td>\n",
       "      <td>Chester</td>\n",
       "      <td>Blackwell</td>\n",
       "      <td>Steph</td>\n",
       "      <td>F</td>\n",
       "      <td>Young</td>\n",
       "    </tr>\n",
       "  </tbody>\n",
       "</table>\n",
       "<p>120 rows × 26 columns</p>\n",
       "</div>"
      ],
      "text/plain": [
       "     series      baker  star_baker  technical_winner  technical_top3  \\\n",
       "0         1    Annetha           0                 0               1   \n",
       "1         1      David           0                 0               1   \n",
       "2         1        Edd           0                 2               4   \n",
       "3         1  Jasminder           0                 0               2   \n",
       "4         1   Jonathan           0                 1               1   \n",
       "..      ...        ...         ...               ...             ...   \n",
       "115      10   Michelle           1                 0               0   \n",
       "116      10       Phil           0                 0               1   \n",
       "117      10      Priya           0                 0               1   \n",
       "118      10      Rosie           0                 2               4   \n",
       "119      10      Steph           1                 1               6   \n",
       "\n",
       "     technical_bottom  technical_highest  technical_lowest  technical_median  \\\n",
       "0                   1                2.0               7.0               4.5   \n",
       "1                   3                3.0               8.0               4.5   \n",
       "2                   1                1.0               6.0               2.0   \n",
       "3                   2                2.0               5.0               3.0   \n",
       "4                   2                1.0               9.0               6.0   \n",
       "..                ...                ...               ...               ...   \n",
       "115                 5                5.0               8.0               6.0   \n",
       "116                 3                3.0              10.0               7.0   \n",
       "117                 5                2.0              10.0               7.0   \n",
       "118                 5                1.0               9.0               4.0   \n",
       "119                 4                1.0              10.0               3.0   \n",
       "\n",
       "     series_winner  ...  percent_episodes_appeared  percent_technical_top3  \\\n",
       "0                0  ...                  33.333333               50.000000   \n",
       "1                0  ...                  66.666667               25.000000   \n",
       "2                1  ...                 100.000000               66.666667   \n",
       "3                0  ...                  83.333333               40.000000   \n",
       "4                0  ...                  50.000000               33.333333   \n",
       "..             ...  ...                        ...                     ...   \n",
       "115              0  ...                  50.000000                0.000000   \n",
       "116              0  ...                  40.000000               25.000000   \n",
       "117              0  ...                  60.000000               16.666667   \n",
       "118              0  ...                  90.000000               44.444444   \n",
       "119              0  ...                 100.000000               60.000000   \n",
       "\n",
       "                  baker_full age                         occupation  \\\n",
       "0              Annetha Mills  30                            Midwife   \n",
       "1             David Chambers  31                       Entrepreneur   \n",
       "2        Edward \"Edd\" Kimber  24  Debt collector for Yorkshire Bank   \n",
       "3         Jasminder Randhawa  45   Assistant Credit Control Manager   \n",
       "4          Jonathan Shepherd  25                   Research Analyst   \n",
       "..                       ...  ..                                ...   \n",
       "115     Michelle Evans-Fecci  35           Print shop administrator   \n",
       "116              Phil Thorne  56                         HGV driver   \n",
       "117             Priya O'Shea  34               Marketing consultant   \n",
       "118  Rosie Brandreth-Poynter  28                 Veterinary surgeon   \n",
       "119          Steph Blackwell  28                     Shop assistant   \n",
       "\n",
       "          hometown         baker_last  baker_first gender  age_category  \n",
       "0            Essex              Mills      Annetha      F         Young  \n",
       "1    Milton Keynes           Chambers        David      M         Young  \n",
       "2         Bradford             Kimber       Edward      M         Young  \n",
       "3       Birmingham           Randhawa    Jasminder      F   Middle-Aged  \n",
       "4        St Albans           Shepherd     Jonathan      M         Young  \n",
       "..             ...                ...          ...    ...           ...  \n",
       "115   Tenby, Wales        Evans-Fecci     Michelle      F         Young  \n",
       "116        Rainham             Thorne         Phil      M   Middle-Aged  \n",
       "117      Leicester             O'Shea        Priya      F         Young  \n",
       "118       Somerset  Brandreth-Poynter        Rosie      F         Young  \n",
       "119        Chester          Blackwell        Steph      F         Young  \n",
       "\n",
       "[120 rows x 26 columns]"
      ]
     },
     "execution_count": 9,
     "metadata": {},
     "output_type": "execute_result"
    }
   ],
   "source": [
    "def age(age):\n",
    "    if age <= 39:\n",
    "        category = 'Young'\n",
    "    elif age <= 59:\n",
    "        category = 'Middle-Aged'\n",
    "    else:\n",
    "        category = 'Elderly'\n",
    "        \n",
    "    return category\n",
    "\n",
    "bakers = bakers.assign(age_category = bakers.get('age').apply(age))\n",
    "bakers"
   ]
  },
  {
   "cell_type": "code",
   "execution_count": 10,
   "id": "67101b10",
   "metadata": {
    "deletable": false,
    "editable": false
   },
   "outputs": [
    {
     "data": {
      "text/html": [
       "<p><strong><pre style='display: inline;'>q1_3</pre></strong> passed!</p>"
      ],
      "text/plain": [
       "q1_3 results: All test cases passed!"
      ]
     },
     "execution_count": 10,
     "metadata": {},
     "output_type": "execute_result"
    }
   ],
   "source": [
    "grader.check(\"q1_3\")"
   ]
  },
  {
   "cell_type": "markdown",
   "id": "657c5aec",
   "metadata": {},
   "source": [
    "**Question 1.4.** Using the information in the new `'age_category'` column, set `age_prop` to a Series indexed by `'age_category'`, where the values are the proportions of bakers in each `'age_category'`."
   ]
  },
  {
   "cell_type": "code",
   "execution_count": 11,
   "id": "24b78fd2",
   "metadata": {},
   "outputs": [
    {
     "data": {
      "text/plain": [
       "age_category\n",
       "Elderly        0.100000\n",
       "Middle-Aged    0.258333\n",
       "Young          0.641667\n",
       "Name: series, dtype: float64"
      ]
     },
     "execution_count": 11,
     "metadata": {},
     "output_type": "execute_result"
    }
   ],
   "source": [
    "age_prop = bakers.groupby('age_category').count().get('series') / bakers.shape[0]\n",
    "age_prop"
   ]
  },
  {
   "cell_type": "code",
   "execution_count": 12,
   "id": "6a84c574",
   "metadata": {
    "deletable": false,
    "editable": false
   },
   "outputs": [
    {
     "data": {
      "text/html": [
       "<p><strong><pre style='display: inline;'>q1_4</pre></strong> passed!</p>"
      ],
      "text/plain": [
       "q1_4 results: All test cases passed!"
      ]
     },
     "execution_count": 12,
     "metadata": {},
     "output_type": "execute_result"
    }
   ],
   "source": [
    "grader.check(\"q1_4\")"
   ]
  },
  {
   "cell_type": "markdown",
   "id": "7391e5a8",
   "metadata": {},
   "source": [
    "You should see that a majority of the participants are young!"
   ]
  },
  {
   "cell_type": "markdown",
   "id": "8a1bb379",
   "metadata": {},
   "source": [
    "Next, we'll investigate baker occupations. Do bakers on the show tend to hold certain types of jobs? Maybe they work in the food industry, do a lot of cooking at home, or have creative jobs like an artist 🎨 or photographer 📷. Some baking challenges even require significant feats of construction 🏗️, so maybe architects or engineers are popular.\n",
    "\n",
    "**Question 1.5.** Using the `bakers` DataFrame, create an array of occupations held by more than one contestant on the show. Save the array in a variable called `popular_jobs`."
   ]
  },
  {
   "cell_type": "code",
   "execution_count": 13,
   "id": "d4803d1c",
   "metadata": {},
   "outputs": [
    {
     "data": {
      "text/plain": [
       "occupation\n",
       "Student                           4\n",
       "Retired                           3\n",
       "Graphic Designer                  2\n",
       "PE teacher                        2\n",
       "Photographer                      2\n",
       "                                 ..\n",
       "Food buyer for Marks & Spencer    1\n",
       "Fire fighter                      1\n",
       "Fashion designer                  1\n",
       "Fashion Designer                  1\n",
       "Women's Institute (WI) Judge      1\n",
       "Name: series, Length: 106, dtype: int64"
      ]
     },
     "execution_count": 13,
     "metadata": {},
     "output_type": "execute_result"
    }
   ],
   "source": [
    "occupation_count = bakers.groupby('occupation').count().sort_values(by='series', ascending = False).get('series')\n",
    "occupation_count"
   ]
  },
  {
   "cell_type": "code",
   "execution_count": 14,
   "id": "1d3d878e",
   "metadata": {},
   "outputs": [
    {
     "data": {
      "text/plain": [
       "array(['Student', 'Retired', 'Graphic Designer', 'PE teacher',\n",
       "       'Photographer', 'Housewife', 'Banker', 'Midwife', 'Shop assistant',\n",
       "       'Nurse', 'Full-time parent'], dtype=object)"
      ]
     },
     "execution_count": 14,
     "metadata": {},
     "output_type": "execute_result"
    }
   ],
   "source": [
    "occupation_count = bakers.groupby('occupation').count().sort_values(by='series', ascending = False)\n",
    "popular_jobs = np.array(occupation_count[occupation_count.get('series') >= 2].index)\n",
    "popular_jobs "
   ]
  },
  {
   "cell_type": "code",
   "execution_count": 15,
   "id": "cdc90537",
   "metadata": {
    "deletable": false,
    "editable": false
   },
   "outputs": [
    {
     "data": {
      "text/html": [
       "<p><strong><pre style='display: inline;'>q1_5</pre></strong> passed!</p>"
      ],
      "text/plain": [
       "q1_5 results: All test cases passed!"
      ]
     },
     "execution_count": 15,
     "metadata": {},
     "output_type": "execute_result"
    }
   ],
   "source": [
    "grader.check(\"q1_5\")"
   ]
  },
  {
   "cell_type": "markdown",
   "id": "ad1c2b2a",
   "metadata": {},
   "source": [
    "<a id='section2'></a>\n",
    "## Section 2: Popular Ingredients 🍊 🍫\n",
    "\n",
    "\n",
    "Now, we'll try to answer some questions about popular ingredients used in bakers' recipes, and whether there's any connection between certain ingredients and a baker's success in the competition. Our data doesn't exactly include ingredient lists, but we do have recipe titles for the Signature and Showstopper Challenges in `challenge_results`, so we can look for common words there. We'll focus specifically on the Signature Challenge, as it's one in which bakers are able to be creative and showcase a recipe unique to them, and so they have complete freedom to use whatever ingredients they want. \n",
    "\n",
    "\n",
    "The DataFrame below contains all the rows of `challenge_results` with an entry in the `'signature'` column. We've also dropped the columns relating to the Technical and Showstopper Challenges, since we'll be focusing on the Signature Challenge here."
   ]
  },
  {
   "cell_type": "code",
   "execution_count": 16,
   "id": "e412ba92",
   "metadata": {},
   "outputs": [
    {
     "data": {
      "text/html": [
       "<div>\n",
       "<style scoped>\n",
       "    .dataframe tbody tr th:only-of-type {\n",
       "        vertical-align: middle;\n",
       "    }\n",
       "\n",
       "    .dataframe tbody tr th {\n",
       "        vertical-align: top;\n",
       "    }\n",
       "\n",
       "    .dataframe thead th {\n",
       "        text-align: right;\n",
       "    }\n",
       "</style>\n",
       "<table border=\"1\" class=\"dataframe\">\n",
       "  <thead>\n",
       "    <tr style=\"text-align: right;\">\n",
       "      <th></th>\n",
       "      <th>series</th>\n",
       "      <th>episode</th>\n",
       "      <th>baker</th>\n",
       "      <th>result</th>\n",
       "      <th>signature</th>\n",
       "    </tr>\n",
       "  </thead>\n",
       "  <tbody>\n",
       "    <tr>\n",
       "      <th>0</th>\n",
       "      <td>1</td>\n",
       "      <td>1</td>\n",
       "      <td>Annetha</td>\n",
       "      <td>IN</td>\n",
       "      <td>Light Jamaican Black Cake with Strawberries an...</td>\n",
       "    </tr>\n",
       "    <tr>\n",
       "      <th>1</th>\n",
       "      <td>1</td>\n",
       "      <td>1</td>\n",
       "      <td>David</td>\n",
       "      <td>IN</td>\n",
       "      <td>Chocolate Orange Cake</td>\n",
       "    </tr>\n",
       "    <tr>\n",
       "      <th>2</th>\n",
       "      <td>1</td>\n",
       "      <td>1</td>\n",
       "      <td>Edd</td>\n",
       "      <td>IN</td>\n",
       "      <td>Caramel Cinnamon and Banana Cake</td>\n",
       "    </tr>\n",
       "    <tr>\n",
       "      <th>3</th>\n",
       "      <td>1</td>\n",
       "      <td>1</td>\n",
       "      <td>Jasminder</td>\n",
       "      <td>IN</td>\n",
       "      <td>Fresh Mango and Passion Fruit Hummingbird Cake</td>\n",
       "    </tr>\n",
       "    <tr>\n",
       "      <th>4</th>\n",
       "      <td>1</td>\n",
       "      <td>1</td>\n",
       "      <td>Jonathan</td>\n",
       "      <td>IN</td>\n",
       "      <td>Carrot Cake with Lime and Cream Cheese Icing</td>\n",
       "    </tr>\n",
       "    <tr>\n",
       "      <th>...</th>\n",
       "      <td>...</td>\n",
       "      <td>...</td>\n",
       "      <td>...</td>\n",
       "      <td>...</td>\n",
       "      <td>...</td>\n",
       "    </tr>\n",
       "    <tr>\n",
       "      <th>698</th>\n",
       "      <td>10</td>\n",
       "      <td>9</td>\n",
       "      <td>Rosie</td>\n",
       "      <td>OUT</td>\n",
       "      <td>Lemon, Raspberry &amp; Mint Domed Tarts</td>\n",
       "    </tr>\n",
       "    <tr>\n",
       "      <th>699</th>\n",
       "      <td>10</td>\n",
       "      <td>9</td>\n",
       "      <td>Alice</td>\n",
       "      <td>STAR BAKER</td>\n",
       "      <td>Mocha, Hazelnut &amp; Orange Domed Tarts</td>\n",
       "    </tr>\n",
       "    <tr>\n",
       "      <th>700</th>\n",
       "      <td>10</td>\n",
       "      <td>10</td>\n",
       "      <td>Alice</td>\n",
       "      <td>Runner-up</td>\n",
       "      <td>Chocolate, Pear, Ginger and Maple Cake</td>\n",
       "    </tr>\n",
       "    <tr>\n",
       "      <th>701</th>\n",
       "      <td>10</td>\n",
       "      <td>10</td>\n",
       "      <td>Steph</td>\n",
       "      <td>Runner-up</td>\n",
       "      <td>Black Forest Chocolate Cake</td>\n",
       "    </tr>\n",
       "    <tr>\n",
       "      <th>702</th>\n",
       "      <td>10</td>\n",
       "      <td>10</td>\n",
       "      <td>David</td>\n",
       "      <td>WINNER</td>\n",
       "      <td>Chocolate, Armagnac and Prune Cake</td>\n",
       "    </tr>\n",
       "  </tbody>\n",
       "</table>\n",
       "<p>703 rows × 5 columns</p>\n",
       "</div>"
      ],
      "text/plain": [
       "     series  episode      baker      result  \\\n",
       "0         1        1    Annetha          IN   \n",
       "1         1        1      David          IN   \n",
       "2         1        1        Edd          IN   \n",
       "3         1        1  Jasminder          IN   \n",
       "4         1        1   Jonathan          IN   \n",
       "..      ...      ...        ...         ...   \n",
       "698      10        9      Rosie         OUT   \n",
       "699      10        9      Alice  STAR BAKER   \n",
       "700      10       10      Alice   Runner-up   \n",
       "701      10       10      Steph   Runner-up   \n",
       "702      10       10      David      WINNER   \n",
       "\n",
       "                                             signature  \n",
       "0    Light Jamaican Black Cake with Strawberries an...  \n",
       "1                                Chocolate Orange Cake  \n",
       "2                     Caramel Cinnamon and Banana Cake  \n",
       "3       Fresh Mango and Passion Fruit Hummingbird Cake  \n",
       "4         Carrot Cake with Lime and Cream Cheese Icing  \n",
       "..                                                 ...  \n",
       "698                Lemon, Raspberry & Mint Domed Tarts  \n",
       "699               Mocha, Hazelnut & Orange Domed Tarts  \n",
       "700             Chocolate, Pear, Ginger and Maple Cake  \n",
       "701                        Black Forest Chocolate Cake  \n",
       "702                 Chocolate, Armagnac and Prune Cake  \n",
       "\n",
       "[703 rows x 5 columns]"
      ]
     },
     "execution_count": 16,
     "metadata": {},
     "output_type": "execute_result"
    }
   ],
   "source": [
    "signatures = bpd.read_csv('data/signatures.csv')\n",
    "signatures"
   ]
  },
  {
   "cell_type": "markdown",
   "id": "db7bc712",
   "metadata": {},
   "source": [
    "**Question 2.1.** We want to clean up the text so we can find words that appear frequently in many recipe titles. Write a function named `clean_up_text` that takes the name of a single recipe as input and returns a cleaned-up version of the name with these changes:\n",
    "- Remove any of these characters: `(`, `)`, `'`, `\"`, `;`, `,` (open and close parentheses, single and double quotes, semicolons, commas) \n",
    "- Convert to lowercase.\n",
    "\n",
    "***Hint:*** Use the `.replace()` string method."
   ]
  },
  {
   "cell_type": "code",
   "execution_count": 17,
   "id": "a7b32a0a",
   "metadata": {},
   "outputs": [
    {
     "data": {
      "text/plain": [
       "'mocha hazelnut'"
      ]
     },
     "execution_count": 17,
     "metadata": {},
     "output_type": "execute_result"
    }
   ],
   "source": [
    "def clean_up_text(recipe):\n",
    "    '''Returns a lowercase version of recipe with certain special characters removed.'''\n",
    "    \n",
    "    remove = ['(',')',\"'\",'\"',';',',']\n",
    "    \n",
    "    for char in remove:\n",
    "        recipe = recipe.replace(char, '')\n",
    "    \n",
    "    return recipe.lower()\n",
    "\n",
    "clean_up_text('Mocha, )Hazelnut')"
   ]
  },
  {
   "cell_type": "code",
   "execution_count": 18,
   "id": "315191ae",
   "metadata": {
    "deletable": false,
    "editable": false
   },
   "outputs": [
    {
     "data": {
      "text/html": [
       "<p><strong><pre style='display: inline;'>q2_1</pre></strong> passed!</p>"
      ],
      "text/plain": [
       "q2_1 results: All test cases passed!"
      ]
     },
     "execution_count": 18,
     "metadata": {},
     "output_type": "execute_result"
    }
   ],
   "source": [
    "grader.check(\"q2_1\")"
   ]
  },
  {
   "cell_type": "markdown",
   "id": "08798276",
   "metadata": {},
   "source": [
    "**Question 2.2.** Now that we've created a function to clean the titles, replace the entries in the `'signature'` column of the `signatures` DataFrame with the cleaned version of those recipe titles. Then, assign a new column to the `signatures` DataFrame called `'words'` that contains a **list** of all the words in the cleaned recipe title, in lowercase. We'll define a word as any chunk of text separated from others by spaces. For example, \n",
    "- a recipe title of `\"Mint, Lilac, & Blackberry Cake\"`\n",
    "- should become `\"mint lilac & blackberry cake\"` when cleaned,\n",
    "- with a corresponding word list of `[\"mint\", \"lilac\", \"&\", \"blackberry\", \"cake\"]`."
   ]
  },
  {
   "cell_type": "code",
   "execution_count": 19,
   "id": "c475777a",
   "metadata": {},
   "outputs": [
    {
     "data": {
      "text/html": [
       "<div>\n",
       "<style scoped>\n",
       "    .dataframe tbody tr th:only-of-type {\n",
       "        vertical-align: middle;\n",
       "    }\n",
       "\n",
       "    .dataframe tbody tr th {\n",
       "        vertical-align: top;\n",
       "    }\n",
       "\n",
       "    .dataframe thead th {\n",
       "        text-align: right;\n",
       "    }\n",
       "</style>\n",
       "<table border=\"1\" class=\"dataframe\">\n",
       "  <thead>\n",
       "    <tr style=\"text-align: right;\">\n",
       "      <th></th>\n",
       "      <th>series</th>\n",
       "      <th>episode</th>\n",
       "      <th>baker</th>\n",
       "      <th>result</th>\n",
       "      <th>signature</th>\n",
       "      <th>words</th>\n",
       "    </tr>\n",
       "  </thead>\n",
       "  <tbody>\n",
       "    <tr>\n",
       "      <th>0</th>\n",
       "      <td>1</td>\n",
       "      <td>1</td>\n",
       "      <td>Annetha</td>\n",
       "      <td>IN</td>\n",
       "      <td>light jamaican black cake with strawberries an...</td>\n",
       "      <td>[Light, Jamaican, Black, Cake, with, Strawberr...</td>\n",
       "    </tr>\n",
       "    <tr>\n",
       "      <th>1</th>\n",
       "      <td>1</td>\n",
       "      <td>1</td>\n",
       "      <td>David</td>\n",
       "      <td>IN</td>\n",
       "      <td>chocolate orange cake</td>\n",
       "      <td>[Chocolate, Orange, Cake]</td>\n",
       "    </tr>\n",
       "    <tr>\n",
       "      <th>2</th>\n",
       "      <td>1</td>\n",
       "      <td>1</td>\n",
       "      <td>Edd</td>\n",
       "      <td>IN</td>\n",
       "      <td>caramel cinnamon and banana cake</td>\n",
       "      <td>[Caramel, Cinnamon, and, Banana, Cake]</td>\n",
       "    </tr>\n",
       "    <tr>\n",
       "      <th>3</th>\n",
       "      <td>1</td>\n",
       "      <td>1</td>\n",
       "      <td>Jasminder</td>\n",
       "      <td>IN</td>\n",
       "      <td>fresh mango and passion fruit hummingbird cake</td>\n",
       "      <td>[Fresh, Mango, and, Passion, Fruit, Hummingbir...</td>\n",
       "    </tr>\n",
       "    <tr>\n",
       "      <th>4</th>\n",
       "      <td>1</td>\n",
       "      <td>1</td>\n",
       "      <td>Jonathan</td>\n",
       "      <td>IN</td>\n",
       "      <td>carrot cake with lime and cream cheese icing</td>\n",
       "      <td>[Carrot, Cake, with, Lime, and, Cream, Cheese,...</td>\n",
       "    </tr>\n",
       "    <tr>\n",
       "      <th>...</th>\n",
       "      <td>...</td>\n",
       "      <td>...</td>\n",
       "      <td>...</td>\n",
       "      <td>...</td>\n",
       "      <td>...</td>\n",
       "      <td>...</td>\n",
       "    </tr>\n",
       "    <tr>\n",
       "      <th>698</th>\n",
       "      <td>10</td>\n",
       "      <td>9</td>\n",
       "      <td>Rosie</td>\n",
       "      <td>OUT</td>\n",
       "      <td>lemon raspberry &amp; mint domed tarts</td>\n",
       "      <td>[Lemon,, Raspberry, &amp;, Mint, Domed, Tarts]</td>\n",
       "    </tr>\n",
       "    <tr>\n",
       "      <th>699</th>\n",
       "      <td>10</td>\n",
       "      <td>9</td>\n",
       "      <td>Alice</td>\n",
       "      <td>STAR BAKER</td>\n",
       "      <td>mocha hazelnut &amp; orange domed tarts</td>\n",
       "      <td>[Mocha,, Hazelnut, &amp;, Orange, Domed, Tarts]</td>\n",
       "    </tr>\n",
       "    <tr>\n",
       "      <th>700</th>\n",
       "      <td>10</td>\n",
       "      <td>10</td>\n",
       "      <td>Alice</td>\n",
       "      <td>Runner-up</td>\n",
       "      <td>chocolate pear ginger and maple cake</td>\n",
       "      <td>[Chocolate,, Pear,, Ginger, and, Maple, Cake]</td>\n",
       "    </tr>\n",
       "    <tr>\n",
       "      <th>701</th>\n",
       "      <td>10</td>\n",
       "      <td>10</td>\n",
       "      <td>Steph</td>\n",
       "      <td>Runner-up</td>\n",
       "      <td>black forest chocolate cake</td>\n",
       "      <td>[Black, Forest, Chocolate, Cake]</td>\n",
       "    </tr>\n",
       "    <tr>\n",
       "      <th>702</th>\n",
       "      <td>10</td>\n",
       "      <td>10</td>\n",
       "      <td>David</td>\n",
       "      <td>WINNER</td>\n",
       "      <td>chocolate armagnac and prune cake</td>\n",
       "      <td>[Chocolate,, Armagnac, and, Prune, Cake]</td>\n",
       "    </tr>\n",
       "  </tbody>\n",
       "</table>\n",
       "<p>703 rows × 6 columns</p>\n",
       "</div>"
      ],
      "text/plain": [
       "     series  episode      baker      result  \\\n",
       "0         1        1    Annetha          IN   \n",
       "1         1        1      David          IN   \n",
       "2         1        1        Edd          IN   \n",
       "3         1        1  Jasminder          IN   \n",
       "4         1        1   Jonathan          IN   \n",
       "..      ...      ...        ...         ...   \n",
       "698      10        9      Rosie         OUT   \n",
       "699      10        9      Alice  STAR BAKER   \n",
       "700      10       10      Alice   Runner-up   \n",
       "701      10       10      Steph   Runner-up   \n",
       "702      10       10      David      WINNER   \n",
       "\n",
       "                                             signature  \\\n",
       "0    light jamaican black cake with strawberries an...   \n",
       "1                                chocolate orange cake   \n",
       "2                     caramel cinnamon and banana cake   \n",
       "3       fresh mango and passion fruit hummingbird cake   \n",
       "4         carrot cake with lime and cream cheese icing   \n",
       "..                                                 ...   \n",
       "698                 lemon raspberry & mint domed tarts   \n",
       "699                mocha hazelnut & orange domed tarts   \n",
       "700               chocolate pear ginger and maple cake   \n",
       "701                        black forest chocolate cake   \n",
       "702                  chocolate armagnac and prune cake   \n",
       "\n",
       "                                                 words  \n",
       "0    [Light, Jamaican, Black, Cake, with, Strawberr...  \n",
       "1                            [Chocolate, Orange, Cake]  \n",
       "2               [Caramel, Cinnamon, and, Banana, Cake]  \n",
       "3    [Fresh, Mango, and, Passion, Fruit, Hummingbir...  \n",
       "4    [Carrot, Cake, with, Lime, and, Cream, Cheese,...  \n",
       "..                                                 ...  \n",
       "698         [Lemon,, Raspberry, &, Mint, Domed, Tarts]  \n",
       "699        [Mocha,, Hazelnut, &, Orange, Domed, Tarts]  \n",
       "700      [Chocolate,, Pear,, Ginger, and, Maple, Cake]  \n",
       "701                   [Black, Forest, Chocolate, Cake]  \n",
       "702           [Chocolate,, Armagnac, and, Prune, Cake]  \n",
       "\n",
       "[703 rows x 6 columns]"
      ]
     },
     "execution_count": 19,
     "metadata": {},
     "output_type": "execute_result"
    }
   ],
   "source": [
    "signatures = (signatures\n",
    "              .assign(signature = signatures.get('signature').apply(clean_up_text))\n",
    "             .assign(words = signatures.get('signature').str.split()))\n",
    "signatures"
   ]
  },
  {
   "cell_type": "code",
   "execution_count": 20,
   "id": "31772a5c",
   "metadata": {
    "deletable": false,
    "editable": false
   },
   "outputs": [
    {
     "data": {
      "text/html": [
       "<p><strong><pre style='display: inline;'>q2_2</pre></strong> passed!</p>"
      ],
      "text/plain": [
       "q2_2 results: All test cases passed!"
      ]
     },
     "execution_count": 20,
     "metadata": {},
     "output_type": "execute_result"
    }
   ],
   "source": [
    "grader.check(\"q2_2\")"
   ]
  },
  {
   "cell_type": "markdown",
   "id": "087ab72f",
   "metadata": {},
   "source": [
    "\n",
    "For the next question, you'll need to know something interesting about how lists work in Python: when you sum two lists together, the output is one giant list that contains all the elements in both lists combined. An example is shown below.\n"
   ]
  },
  {
   "cell_type": "code",
   "execution_count": 21,
   "id": "da0b142c",
   "metadata": {},
   "outputs": [
    {
     "data": {
      "text/plain": [
       "['List', 'combining', 'is', 'my', 'passion']"
      ]
     },
     "execution_count": 21,
     "metadata": {},
     "output_type": "execute_result"
    }
   ],
   "source": [
    "['List', 'combining'] + ['is', 'my', \"passion\"]"
   ]
  },
  {
   "cell_type": "markdown",
   "id": "00bac36a",
   "metadata": {},
   "source": [
    "**Question 2.3.** Combine all the words in the `'words'` column into one big list. Save that list in the variable `all_words`."
   ]
  },
  {
   "cell_type": "code",
   "execution_count": 22,
   "id": "05fcd604",
   "metadata": {
    "scrolled": true
   },
   "outputs": [
    {
     "data": {
      "text/plain": [
       "['Light',\n",
       " 'Jamaican',\n",
       " 'Black',\n",
       " 'Cake',\n",
       " 'with',\n",
       " 'Strawberries',\n",
       " 'and',\n",
       " 'Cream',\n",
       " 'Chocolate',\n",
       " 'Orange']"
      ]
     },
     "execution_count": 22,
     "metadata": {},
     "output_type": "execute_result"
    }
   ],
   "source": [
    "all_words = signatures.get('words').sum()\n",
    "# Just display the first ten words.\n",
    "all_words[:10]"
   ]
  },
  {
   "cell_type": "code",
   "execution_count": 23,
   "id": "3953b615",
   "metadata": {
    "deletable": false,
    "editable": false
   },
   "outputs": [
    {
     "data": {
      "text/html": [
       "<p><strong><pre style='display: inline;'>q2_3</pre></strong> passed!</p>"
      ],
      "text/plain": [
       "q2_3 results: All test cases passed!"
      ]
     },
     "execution_count": 23,
     "metadata": {},
     "output_type": "execute_result"
    }
   ],
   "source": [
    "grader.check(\"q2_3\")"
   ]
  },
  {
   "cell_type": "markdown",
   "id": "b042f892",
   "metadata": {},
   "source": [
    "**Question 2.4.** Write a function called `most_common` that takes as input any list of words, and finds the ten most common words in that list. Your function should output a DataFrame with 10 rows, indexed by `'word'`, with one column called `'count'` containing a count of how many times each word appeared in the input list. Order the rows in descending order of `'count'`.\n",
    "\n",
    "Then use your function to find the ten most common words in `all_words`. These are the words that appeared the most in Signature Challenge recipe titles. Save the resulting DataFrame as `common_words_df`.\n",
    "\n",
    "***Hint:*** Leverage the power of `groupby`."
   ]
  },
  {
   "cell_type": "code",
   "execution_count": 24,
   "id": "930e7414",
   "metadata": {},
   "outputs": [
    {
     "data": {
      "text/html": [
       "<div>\n",
       "<style scoped>\n",
       "    .dataframe tbody tr th:only-of-type {\n",
       "        vertical-align: middle;\n",
       "    }\n",
       "\n",
       "    .dataframe tbody tr th {\n",
       "        vertical-align: top;\n",
       "    }\n",
       "\n",
       "    .dataframe thead th {\n",
       "        text-align: right;\n",
       "    }\n",
       "</style>\n",
       "<table border=\"1\" class=\"dataframe\">\n",
       "  <thead>\n",
       "    <tr style=\"text-align: right;\">\n",
       "      <th></th>\n",
       "      <th>count</th>\n",
       "    </tr>\n",
       "    <tr>\n",
       "      <th>word</th>\n",
       "      <th></th>\n",
       "    </tr>\n",
       "  </thead>\n",
       "  <tbody>\n",
       "    <tr>\n",
       "      <th>and</th>\n",
       "      <td>363</td>\n",
       "    </tr>\n",
       "    <tr>\n",
       "      <th>Cake</th>\n",
       "      <td>116</td>\n",
       "    </tr>\n",
       "    <tr>\n",
       "      <th>&amp;</th>\n",
       "      <td>75</td>\n",
       "    </tr>\n",
       "    <tr>\n",
       "      <th>Chocolate</th>\n",
       "      <td>61</td>\n",
       "    </tr>\n",
       "    <tr>\n",
       "      <th>with</th>\n",
       "      <td>57</td>\n",
       "    </tr>\n",
       "    <tr>\n",
       "      <th>Orange</th>\n",
       "      <td>49</td>\n",
       "    </tr>\n",
       "    <tr>\n",
       "      <th>Ginger</th>\n",
       "      <td>42</td>\n",
       "    </tr>\n",
       "    <tr>\n",
       "      <th>Lemon</th>\n",
       "      <td>40</td>\n",
       "    </tr>\n",
       "    <tr>\n",
       "      <th>Pie</th>\n",
       "      <td>37</td>\n",
       "    </tr>\n",
       "    <tr>\n",
       "      <th>Apple</th>\n",
       "      <td>31</td>\n",
       "    </tr>\n",
       "  </tbody>\n",
       "</table>\n",
       "</div>"
      ],
      "text/plain": [
       "           count\n",
       "word            \n",
       "and          363\n",
       "Cake         116\n",
       "&             75\n",
       "Chocolate     61\n",
       "with          57\n",
       "Orange        49\n",
       "Ginger        42\n",
       "Lemon         40\n",
       "Pie           37\n",
       "Apple         31"
      ]
     },
     "execution_count": 24,
     "metadata": {},
     "output_type": "execute_result"
    }
   ],
   "source": [
    "def most_common(word_list):\n",
    "    '''Returns a DataFrame with the ten most common words in word_list, in descending order.'''\n",
    "    df = (bpd.DataFrame()\n",
    "          .assign(word=word_list, count=word_list)\n",
    "          .groupby('word').count()\n",
    "          .sort_values(by='count', ascending=False)\n",
    "          .take(np.arange(0,10)))\n",
    "    \n",
    "    return df\n",
    "\n",
    "common_words_df = most_common(all_words)\n",
    "common_words_df"
   ]
  },
  {
   "cell_type": "code",
   "execution_count": 25,
   "id": "c4132231",
   "metadata": {
    "deletable": false,
    "editable": false
   },
   "outputs": [
    {
     "data": {
      "text/html": [
       "<p><strong><pre style='display: inline;'>q2_4</pre></strong> passed!</p>"
      ],
      "text/plain": [
       "q2_4 results: All test cases passed!"
      ]
     },
     "execution_count": 25,
     "metadata": {},
     "output_type": "execute_result"
    }
   ],
   "source": [
    "grader.check(\"q2_4\")"
   ]
  },
  {
   "cell_type": "markdown",
   "id": "bed01da3",
   "metadata": {},
   "source": [
    "You should find that the most common word is one that doesn't give us any information about the recipe. To deal with that, let's omit common words, which are transition words like \"and\" and \"with\", as well as words like \"cake\" and \"bread\" that appear in the titles of many recipes that were featured in Cake Week or Bread Week.\n",
    "\n",
    "**Question 2.5.** Make a list called `words_to_omit` with all the words that appear anywhere in the `'Week Name'` column of the `baker_weeks` DataFrame. \n",
    "\n",
    "The words in `words_to_omit` should be in all lowercase, regardless of their case in the `'Week Name'` column. Also, `words_to_omit` should not have any duplicate words. Even if a word appears in the `'Week Name'` column multiple times, it should only appear once in `words_to_omit`.\n",
    "\n",
    "For example, one week's theme was \"Pie and Tart\", so the words \"pie\", \"and\", and \"tart\" should all be elements of `words_to_omit`."
   ]
  },
  {
   "cell_type": "code",
   "execution_count": 26,
   "id": "1cd5dfbe",
   "metadata": {},
   "outputs": [
    {
     "data": {
      "text/plain": [
       "array(['cake', 'biscuits', 'bread', 'pudding', 'pastry', 'final', 'tarts',\n",
       "       'pie', 'dessert', 'pâtisserie', 'sweet', 'dough', 'and', 'tart',\n",
       "       'unconventional', 'european', 'cakes', 'advanced', 'alternative',\n",
       "       'victorian', 'chocolate', 'batter', 'botanical', 'tudor',\n",
       "       'caramel', 'italian', 'forgotten', 'spice', 'vegan', 'danish',\n",
       "       'dairy', 'roaring', 'twenties', 'festivals', 'japanese', '1980s'],\n",
       "      dtype=object)"
      ]
     },
     "execution_count": 26,
     "metadata": {},
     "output_type": "execute_result"
    }
   ],
   "source": [
    "test = baker_weeks.get('Week Name').str.lower().unique()\n",
    "for i in np.arange(len(test)):\n",
    "    test[i] = test[i].split()\n",
    "    \n",
    "test = test.sum()\n",
    "test\n",
    "\n",
    "df = bpd.DataFrame().assign(words=test)\n",
    "df.get('words').unique()"
   ]
  },
  {
   "cell_type": "code",
   "execution_count": 27,
   "id": "5ab10b5b",
   "metadata": {
    "scrolled": true
   },
   "outputs": [
    {
     "data": {
      "text/plain": [
       "['cake',\n",
       " 'biscuits',\n",
       " 'bread',\n",
       " 'pudding',\n",
       " 'pastry',\n",
       " 'final',\n",
       " 'tarts',\n",
       " 'pie',\n",
       " 'dessert',\n",
       " 'pâtisserie']"
      ]
     },
     "execution_count": 27,
     "metadata": {},
     "output_type": "execute_result"
    }
   ],
   "source": [
    "words_to_omit = baker_weeks.get('Week Name').str.lower().unique()\n",
    "for i in np.arange(len(words_to_omit)):\n",
    "    words_to_omit[i] = words_to_omit[i].split()\n",
    "    \n",
    "words_to_omit = words_to_omit.sum()\n",
    "df = bpd.DataFrame().assign(words=words_to_omit)\n",
    "words_to_omit = list(df.get('words').unique())\n",
    "\n",
    "\n",
    "\n",
    "# Just display the first ten words.\n",
    "words_to_omit[:10]"
   ]
  },
  {
   "cell_type": "code",
   "execution_count": 28,
   "id": "34970e8f",
   "metadata": {},
   "outputs": [
    {
     "data": {
      "text/plain": [
       "36"
      ]
     },
     "execution_count": 28,
     "metadata": {},
     "output_type": "execute_result"
    }
   ],
   "source": [
    "len(words_to_omit)"
   ]
  },
  {
   "cell_type": "code",
   "execution_count": 29,
   "id": "6fba18c5",
   "metadata": {
    "deletable": false,
    "editable": false
   },
   "outputs": [
    {
     "data": {
      "text/html": [
       "<p><strong><pre style='display: inline;'>q2_5</pre></strong> passed!</p>"
      ],
      "text/plain": [
       "q2_5 results: All test cases passed!"
      ]
     },
     "execution_count": 29,
     "metadata": {},
     "output_type": "execute_result"
    }
   ],
   "source": [
    "grader.check(\"q2_5\")"
   ]
  },
  {
   "cell_type": "markdown",
   "id": "b1db893d",
   "metadata": {},
   "source": [
    "For the next question, you'll need to use the `in` operator in python. The `in` operator checks if a value is an element of a list. For example:"
   ]
  },
  {
   "cell_type": "code",
   "execution_count": 30,
   "id": "57a2ffa2",
   "metadata": {},
   "outputs": [
    {
     "data": {
      "text/plain": [
       "True"
      ]
     },
     "execution_count": 30,
     "metadata": {},
     "output_type": "execute_result"
    }
   ],
   "source": [
    "\"macaroni\" in [\"macaroni\", \"and\", \"cheese\"]"
   ]
  },
  {
   "cell_type": "code",
   "execution_count": 31,
   "id": "d1d92a42",
   "metadata": {},
   "outputs": [
    {
     "data": {
      "text/plain": [
       "False"
      ]
     },
     "execution_count": 31,
     "metadata": {},
     "output_type": "execute_result"
    }
   ],
   "source": [
    "\"mac\" in [\"macaroni\", \"and\", \"cheese\"]"
   ]
  },
  {
   "cell_type": "markdown",
   "id": "b5ecfe69",
   "metadata": {},
   "source": [
    "**Question 2.6.** Create a new DataFrame called `meaningful`, with the same data as the `signatures` DataFrame plus an extra column called `'meaningful_words'`, containing a list of all the words that appear in the `'words'` column, except with these words omitted:\n",
    "- \"and\"\n",
    "- \"&\"\n",
    "- \"with\"\n",
    "- any word in `words_to_omit`\n",
    "    \n",
    "***Hint:*** Create a function that takes as input one entry of the `'words'` column (a single list of words, corresponding to one recipe title) and returns a list of those same words, except with certain ones omitted. To do that, loop through the words in the list and append the words that should not be omitted to an empty array. Finally, convert the array of non-omitted words to a list before returning."
   ]
  },
  {
   "cell_type": "code",
   "execution_count": 32,
   "id": "ea6ae174",
   "metadata": {},
   "outputs": [
    {
     "data": {
      "text/plain": [
       "['dog', 'hello']"
      ]
     },
     "execution_count": 32,
     "metadata": {},
     "output_type": "execute_result"
    }
   ],
   "source": [
    "def cleaned_words(word_list):\n",
    "    \n",
    "    cleaned_words = np.array([])\n",
    "    \n",
    "    for word in word_list:\n",
    "        if word.lower() not in ['and', '&', 'with'] and word.lower() not in words_to_omit:\n",
    "            cleaned_words = np.append(cleaned_words, word)\n",
    "    \n",
    "    return list(cleaned_words)\n",
    "\n",
    "cleaned_words(['and','dog','hello','Pie'])"
   ]
  },
  {
   "cell_type": "code",
   "execution_count": 33,
   "id": "c63bd0a5",
   "metadata": {},
   "outputs": [
    {
     "data": {
      "text/html": [
       "<div>\n",
       "<style scoped>\n",
       "    .dataframe tbody tr th:only-of-type {\n",
       "        vertical-align: middle;\n",
       "    }\n",
       "\n",
       "    .dataframe tbody tr th {\n",
       "        vertical-align: top;\n",
       "    }\n",
       "\n",
       "    .dataframe thead th {\n",
       "        text-align: right;\n",
       "    }\n",
       "</style>\n",
       "<table border=\"1\" class=\"dataframe\">\n",
       "  <thead>\n",
       "    <tr style=\"text-align: right;\">\n",
       "      <th></th>\n",
       "      <th>series</th>\n",
       "      <th>episode</th>\n",
       "      <th>baker</th>\n",
       "      <th>result</th>\n",
       "      <th>signature</th>\n",
       "      <th>words</th>\n",
       "      <th>meaningful_words</th>\n",
       "    </tr>\n",
       "  </thead>\n",
       "  <tbody>\n",
       "    <tr>\n",
       "      <th>0</th>\n",
       "      <td>1</td>\n",
       "      <td>1</td>\n",
       "      <td>Annetha</td>\n",
       "      <td>IN</td>\n",
       "      <td>light jamaican black cake with strawberries an...</td>\n",
       "      <td>[Light, Jamaican, Black, Cake, with, Strawberr...</td>\n",
       "      <td>[Light, Jamaican, Black, Strawberries, Cream]</td>\n",
       "    </tr>\n",
       "    <tr>\n",
       "      <th>1</th>\n",
       "      <td>1</td>\n",
       "      <td>1</td>\n",
       "      <td>David</td>\n",
       "      <td>IN</td>\n",
       "      <td>chocolate orange cake</td>\n",
       "      <td>[Chocolate, Orange, Cake]</td>\n",
       "      <td>[Orange]</td>\n",
       "    </tr>\n",
       "    <tr>\n",
       "      <th>2</th>\n",
       "      <td>1</td>\n",
       "      <td>1</td>\n",
       "      <td>Edd</td>\n",
       "      <td>IN</td>\n",
       "      <td>caramel cinnamon and banana cake</td>\n",
       "      <td>[Caramel, Cinnamon, and, Banana, Cake]</td>\n",
       "      <td>[Cinnamon, Banana]</td>\n",
       "    </tr>\n",
       "    <tr>\n",
       "      <th>3</th>\n",
       "      <td>1</td>\n",
       "      <td>1</td>\n",
       "      <td>Jasminder</td>\n",
       "      <td>IN</td>\n",
       "      <td>fresh mango and passion fruit hummingbird cake</td>\n",
       "      <td>[Fresh, Mango, and, Passion, Fruit, Hummingbir...</td>\n",
       "      <td>[Fresh, Mango, Passion, Fruit, Hummingbird]</td>\n",
       "    </tr>\n",
       "    <tr>\n",
       "      <th>4</th>\n",
       "      <td>1</td>\n",
       "      <td>1</td>\n",
       "      <td>Jonathan</td>\n",
       "      <td>IN</td>\n",
       "      <td>carrot cake with lime and cream cheese icing</td>\n",
       "      <td>[Carrot, Cake, with, Lime, and, Cream, Cheese,...</td>\n",
       "      <td>[Carrot, Lime, Cream, Cheese, Icing]</td>\n",
       "    </tr>\n",
       "    <tr>\n",
       "      <th>...</th>\n",
       "      <td>...</td>\n",
       "      <td>...</td>\n",
       "      <td>...</td>\n",
       "      <td>...</td>\n",
       "      <td>...</td>\n",
       "      <td>...</td>\n",
       "      <td>...</td>\n",
       "    </tr>\n",
       "    <tr>\n",
       "      <th>698</th>\n",
       "      <td>10</td>\n",
       "      <td>9</td>\n",
       "      <td>Rosie</td>\n",
       "      <td>OUT</td>\n",
       "      <td>lemon raspberry &amp; mint domed tarts</td>\n",
       "      <td>[Lemon,, Raspberry, &amp;, Mint, Domed, Tarts]</td>\n",
       "      <td>[Lemon,, Raspberry, Mint, Domed]</td>\n",
       "    </tr>\n",
       "    <tr>\n",
       "      <th>699</th>\n",
       "      <td>10</td>\n",
       "      <td>9</td>\n",
       "      <td>Alice</td>\n",
       "      <td>STAR BAKER</td>\n",
       "      <td>mocha hazelnut &amp; orange domed tarts</td>\n",
       "      <td>[Mocha,, Hazelnut, &amp;, Orange, Domed, Tarts]</td>\n",
       "      <td>[Mocha,, Hazelnut, Orange, Domed]</td>\n",
       "    </tr>\n",
       "    <tr>\n",
       "      <th>700</th>\n",
       "      <td>10</td>\n",
       "      <td>10</td>\n",
       "      <td>Alice</td>\n",
       "      <td>Runner-up</td>\n",
       "      <td>chocolate pear ginger and maple cake</td>\n",
       "      <td>[Chocolate,, Pear,, Ginger, and, Maple, Cake]</td>\n",
       "      <td>[Chocolate,, Pear,, Ginger, Maple]</td>\n",
       "    </tr>\n",
       "    <tr>\n",
       "      <th>701</th>\n",
       "      <td>10</td>\n",
       "      <td>10</td>\n",
       "      <td>Steph</td>\n",
       "      <td>Runner-up</td>\n",
       "      <td>black forest chocolate cake</td>\n",
       "      <td>[Black, Forest, Chocolate, Cake]</td>\n",
       "      <td>[Black, Forest]</td>\n",
       "    </tr>\n",
       "    <tr>\n",
       "      <th>702</th>\n",
       "      <td>10</td>\n",
       "      <td>10</td>\n",
       "      <td>David</td>\n",
       "      <td>WINNER</td>\n",
       "      <td>chocolate armagnac and prune cake</td>\n",
       "      <td>[Chocolate,, Armagnac, and, Prune, Cake]</td>\n",
       "      <td>[Chocolate,, Armagnac, Prune]</td>\n",
       "    </tr>\n",
       "  </tbody>\n",
       "</table>\n",
       "<p>703 rows × 7 columns</p>\n",
       "</div>"
      ],
      "text/plain": [
       "     series  episode      baker      result  \\\n",
       "0         1        1    Annetha          IN   \n",
       "1         1        1      David          IN   \n",
       "2         1        1        Edd          IN   \n",
       "3         1        1  Jasminder          IN   \n",
       "4         1        1   Jonathan          IN   \n",
       "..      ...      ...        ...         ...   \n",
       "698      10        9      Rosie         OUT   \n",
       "699      10        9      Alice  STAR BAKER   \n",
       "700      10       10      Alice   Runner-up   \n",
       "701      10       10      Steph   Runner-up   \n",
       "702      10       10      David      WINNER   \n",
       "\n",
       "                                             signature  \\\n",
       "0    light jamaican black cake with strawberries an...   \n",
       "1                                chocolate orange cake   \n",
       "2                     caramel cinnamon and banana cake   \n",
       "3       fresh mango and passion fruit hummingbird cake   \n",
       "4         carrot cake with lime and cream cheese icing   \n",
       "..                                                 ...   \n",
       "698                 lemon raspberry & mint domed tarts   \n",
       "699                mocha hazelnut & orange domed tarts   \n",
       "700               chocolate pear ginger and maple cake   \n",
       "701                        black forest chocolate cake   \n",
       "702                  chocolate armagnac and prune cake   \n",
       "\n",
       "                                                 words  \\\n",
       "0    [Light, Jamaican, Black, Cake, with, Strawberr...   \n",
       "1                            [Chocolate, Orange, Cake]   \n",
       "2               [Caramel, Cinnamon, and, Banana, Cake]   \n",
       "3    [Fresh, Mango, and, Passion, Fruit, Hummingbir...   \n",
       "4    [Carrot, Cake, with, Lime, and, Cream, Cheese,...   \n",
       "..                                                 ...   \n",
       "698         [Lemon,, Raspberry, &, Mint, Domed, Tarts]   \n",
       "699        [Mocha,, Hazelnut, &, Orange, Domed, Tarts]   \n",
       "700      [Chocolate,, Pear,, Ginger, and, Maple, Cake]   \n",
       "701                   [Black, Forest, Chocolate, Cake]   \n",
       "702           [Chocolate,, Armagnac, and, Prune, Cake]   \n",
       "\n",
       "                                  meaningful_words  \n",
       "0    [Light, Jamaican, Black, Strawberries, Cream]  \n",
       "1                                         [Orange]  \n",
       "2                               [Cinnamon, Banana]  \n",
       "3      [Fresh, Mango, Passion, Fruit, Hummingbird]  \n",
       "4             [Carrot, Lime, Cream, Cheese, Icing]  \n",
       "..                                             ...  \n",
       "698               [Lemon,, Raspberry, Mint, Domed]  \n",
       "699              [Mocha,, Hazelnut, Orange, Domed]  \n",
       "700             [Chocolate,, Pear,, Ginger, Maple]  \n",
       "701                                [Black, Forest]  \n",
       "702                  [Chocolate,, Armagnac, Prune]  \n",
       "\n",
       "[703 rows x 7 columns]"
      ]
     },
     "execution_count": 33,
     "metadata": {},
     "output_type": "execute_result"
    }
   ],
   "source": [
    "meaningful = signatures.assign(meaningful_words=signatures.get('words').apply(cleaned_words))\n",
    "meaningful"
   ]
  },
  {
   "cell_type": "code",
   "execution_count": 34,
   "id": "343d3042",
   "metadata": {
    "deletable": false,
    "editable": false
   },
   "outputs": [
    {
     "data": {
      "text/html": [
       "<p><strong><pre style='display: inline;'>q2_6</pre></strong> passed!</p>"
      ],
      "text/plain": [
       "q2_6 results: All test cases passed!"
      ]
     },
     "execution_count": 34,
     "metadata": {},
     "output_type": "execute_result"
    }
   ],
   "source": [
    "grader.check(\"q2_6\")"
   ]
  },
  {
   "cell_type": "markdown",
   "id": "0c1f639d",
   "metadata": {},
   "source": [
    "**Question 2.7.** Now, find the ten most common words **among only the meaningful ones**. Create a DataFrame called `popular_words` formatted in the same way as `common_words_df`, which you created in Question 2.4."
   ]
  },
  {
   "cell_type": "code",
   "execution_count": 35,
   "id": "b782cffd",
   "metadata": {},
   "outputs": [],
   "source": [
    "all_meaningful_words = meaningful.get('meaningful_words').sum()"
   ]
  },
  {
   "cell_type": "code",
   "execution_count": 36,
   "id": "ee8c41e7",
   "metadata": {},
   "outputs": [],
   "source": [
    "popular_words = most_common(all_meaningful_words)"
   ]
  },
  {
   "cell_type": "code",
   "execution_count": 37,
   "id": "48e4ee4a",
   "metadata": {
    "deletable": false,
    "editable": false
   },
   "outputs": [
    {
     "data": {
      "text/html": [
       "<p><strong><pre style='display: inline;'>q2_7</pre></strong> passed!</p>"
      ],
      "text/plain": [
       "q2_7 results: All test cases passed!"
      ]
     },
     "execution_count": 37,
     "metadata": {},
     "output_type": "execute_result"
    }
   ],
   "source": [
    "grader.check(\"q2_7\")"
   ]
  },
  {
   "cell_type": "markdown",
   "id": "499ecb87",
   "metadata": {},
   "source": [
    "The most common word should now be the name of a popular ingredient or flavor in British baking. Yum!\n",
    "\n",
    "**Question 2.8.** Now let's try to figure out which meaningful words were most popular in Signature Challenge recipe titles among bakers who were eliminated. These might be harder ingredients or flavors to get right, or ones that are less popular with the judges, and so we might caution future contestants about using these. ⚠️\n",
    "\n",
    "Use your `most_common` function to produce a DataFrame with the ten most common meaningful words, among Signature Challenge recipes in which the baker was eliminated that week. Name that DataFrame `common_out`.\n",
    "\n",
    "***Hint:*** Bakers who are eliminated have a `'result'` of `'OUT'` or `'Runner-up'`."
   ]
  },
  {
   "cell_type": "code",
   "execution_count": 38,
   "id": "ef88c071",
   "metadata": {},
   "outputs": [
    {
     "data": {
      "text/html": [
       "<div>\n",
       "<style scoped>\n",
       "    .dataframe tbody tr th:only-of-type {\n",
       "        vertical-align: middle;\n",
       "    }\n",
       "\n",
       "    .dataframe tbody tr th {\n",
       "        vertical-align: top;\n",
       "    }\n",
       "\n",
       "    .dataframe thead th {\n",
       "        text-align: right;\n",
       "    }\n",
       "</style>\n",
       "<table border=\"1\" class=\"dataframe\">\n",
       "  <thead>\n",
       "    <tr style=\"text-align: right;\">\n",
       "      <th></th>\n",
       "      <th>count</th>\n",
       "    </tr>\n",
       "    <tr>\n",
       "      <th>word</th>\n",
       "      <th></th>\n",
       "    </tr>\n",
       "  </thead>\n",
       "  <tbody>\n",
       "    <tr>\n",
       "      <th>Ginger</th>\n",
       "      <td>9</td>\n",
       "    </tr>\n",
       "    <tr>\n",
       "      <th>Orange</th>\n",
       "      <td>7</td>\n",
       "    </tr>\n",
       "    <tr>\n",
       "      <th>Lemon</th>\n",
       "      <td>7</td>\n",
       "    </tr>\n",
       "    <tr>\n",
       "      <th>Buns</th>\n",
       "      <td>6</td>\n",
       "    </tr>\n",
       "    <tr>\n",
       "      <th>Walnut</th>\n",
       "      <td>5</td>\n",
       "    </tr>\n",
       "    <tr>\n",
       "      <th>Cheese</th>\n",
       "      <td>5</td>\n",
       "    </tr>\n",
       "    <tr>\n",
       "      <th>Loaf</th>\n",
       "      <td>5</td>\n",
       "    </tr>\n",
       "    <tr>\n",
       "      <th>Chicken</th>\n",
       "      <td>4</td>\n",
       "    </tr>\n",
       "    <tr>\n",
       "      <th>Fruit</th>\n",
       "      <td>4</td>\n",
       "    </tr>\n",
       "    <tr>\n",
       "      <th>Raspberry</th>\n",
       "      <td>4</td>\n",
       "    </tr>\n",
       "  </tbody>\n",
       "</table>\n",
       "</div>"
      ],
      "text/plain": [
       "           count\n",
       "word            \n",
       "Ginger         9\n",
       "Orange         7\n",
       "Lemon          7\n",
       "Buns           6\n",
       "Walnut         5\n",
       "Cheese         5\n",
       "Loaf           5\n",
       "Chicken        4\n",
       "Fruit          4\n",
       "Raspberry      4"
      ]
     },
     "execution_count": 38,
     "metadata": {},
     "output_type": "execute_result"
    }
   ],
   "source": [
    "eliminated = meaningful[(meaningful.get('result') == 'OUT') | (meaningful.get('result') == 'Runner-up')]\n",
    "eliminated_words = eliminated.get('meaningful_words').sum()\n",
    "\n",
    "common_out = most_common(eliminated_words)\n",
    "common_out"
   ]
  },
  {
   "cell_type": "code",
   "execution_count": 39,
   "id": "8812bcfa",
   "metadata": {
    "deletable": false,
    "editable": false
   },
   "outputs": [
    {
     "data": {
      "text/html": [
       "<p><strong><pre style='display: inline;'>q2_8</pre></strong> passed!</p>"
      ],
      "text/plain": [
       "q2_8 results: All test cases passed!"
      ]
     },
     "execution_count": 39,
     "metadata": {},
     "output_type": "execute_result"
    }
   ],
   "source": [
    "grader.check(\"q2_8\")"
   ]
  },
  {
   "cell_type": "markdown",
   "id": "7a276e8e",
   "metadata": {},
   "source": [
    "**Question 2.9.** Now let's look at the meaningful words that were most popular in Signature Challenge recipe titles among bakers who didn't get eliminated. What special ingredients are they using? These might be more well-loved flavors and ingredients, and we might consider them safe choices for baking foods that the judges will enjoy! 😋\n",
    "\n",
    "Use your `most_common` function to produce a DataFrame with the ten most common meaningful words, among Signature Challenge recipes in which the baker stayed in the competition that week. Name that DataFrame `common_in`.\n",
    "\n",
    "***Hint:*** Bakers who stay in the competition have a `'result'` of `'IN'` or `'STAR BAKER'` or `'WINNER'`."
   ]
  },
  {
   "cell_type": "code",
   "execution_count": 40,
   "id": "01497368",
   "metadata": {},
   "outputs": [
    {
     "data": {
      "text/html": [
       "<div>\n",
       "<style scoped>\n",
       "    .dataframe tbody tr th:only-of-type {\n",
       "        vertical-align: middle;\n",
       "    }\n",
       "\n",
       "    .dataframe tbody tr th {\n",
       "        vertical-align: top;\n",
       "    }\n",
       "\n",
       "    .dataframe thead th {\n",
       "        text-align: right;\n",
       "    }\n",
       "</style>\n",
       "<table border=\"1\" class=\"dataframe\">\n",
       "  <thead>\n",
       "    <tr style=\"text-align: right;\">\n",
       "      <th></th>\n",
       "      <th>count</th>\n",
       "    </tr>\n",
       "    <tr>\n",
       "      <th>word</th>\n",
       "      <th></th>\n",
       "    </tr>\n",
       "  </thead>\n",
       "  <tbody>\n",
       "    <tr>\n",
       "      <th>Orange</th>\n",
       "      <td>42</td>\n",
       "    </tr>\n",
       "    <tr>\n",
       "      <th>Ginger</th>\n",
       "      <td>33</td>\n",
       "    </tr>\n",
       "    <tr>\n",
       "      <th>Lemon</th>\n",
       "      <td>33</td>\n",
       "    </tr>\n",
       "    <tr>\n",
       "      <th>Apple</th>\n",
       "      <td>29</td>\n",
       "    </tr>\n",
       "    <tr>\n",
       "      <th>Buns</th>\n",
       "      <td>23</td>\n",
       "    </tr>\n",
       "    <tr>\n",
       "      <th>Almond</th>\n",
       "      <td>23</td>\n",
       "    </tr>\n",
       "    <tr>\n",
       "      <th>Puddings</th>\n",
       "      <td>19</td>\n",
       "    </tr>\n",
       "    <tr>\n",
       "      <th>Raspberry</th>\n",
       "      <td>18</td>\n",
       "    </tr>\n",
       "    <tr>\n",
       "      <th>Loaf</th>\n",
       "      <td>18</td>\n",
       "    </tr>\n",
       "    <tr>\n",
       "      <th>Fruit</th>\n",
       "      <td>17</td>\n",
       "    </tr>\n",
       "  </tbody>\n",
       "</table>\n",
       "</div>"
      ],
      "text/plain": [
       "           count\n",
       "word            \n",
       "Orange        42\n",
       "Ginger        33\n",
       "Lemon         33\n",
       "Apple         29\n",
       "Buns          23\n",
       "Almond        23\n",
       "Puddings      19\n",
       "Raspberry     18\n",
       "Loaf          18\n",
       "Fruit         17"
      ]
     },
     "execution_count": 40,
     "metadata": {},
     "output_type": "execute_result"
    }
   ],
   "source": [
    "not_eliminated = meaningful[(meaningful.get('result') == 'IN') | (meaningful.get('result') == 'STAR BAKER') | (meaningful.get('result') == 'WINNER') ] \n",
    "not_eliminated_words = not_eliminated.get('meaningful_words').sum()\n",
    "\n",
    "common_in = most_common(not_eliminated_words)\n",
    "common_in"
   ]
  },
  {
   "cell_type": "code",
   "execution_count": 41,
   "id": "df7bfc7f",
   "metadata": {
    "deletable": false,
    "editable": false
   },
   "outputs": [
    {
     "data": {
      "text/html": [
       "<p><strong><pre style='display: inline;'>q2_9</pre></strong> passed!</p>"
      ],
      "text/plain": [
       "q2_9 results: All test cases passed!"
      ]
     },
     "execution_count": 41,
     "metadata": {},
     "output_type": "execute_result"
    }
   ],
   "source": [
    "grader.check(\"q2_9\")"
   ]
  },
  {
   "cell_type": "markdown",
   "id": "ca47d930",
   "metadata": {},
   "source": [
    "You'll notice that some ingredients are common among people who get eliminated and people who stayed, and that's just because they're common recipe ingredients generally. "
   ]
  },
  {
   "cell_type": "markdown",
   "id": "35f862ed",
   "metadata": {},
   "source": [
    "<a id='section3'></a>\n",
    "## Section 3: Gender Balance 👩⚖️🧑🏼\n",
    "After watching a couple of episodes, you start to wonder if more female bakers than male bakers have been selected to participate in the Great British Bake Off. Let's check if this is the case."
   ]
  },
  {
   "cell_type": "markdown",
   "id": "99ebccd9",
   "metadata": {},
   "source": [
    "**Question 3.1.** Using the `baker_weeks` DataFrame, first count the total number of bakers across the first 11 seasons of the show and assign your answer to the variable `baker_count`.\n",
    "\n",
    "Then, compute the proportion of female bakers and the proportion of male bakers in the first 11 seasons of the show. Assign your answers to the variables `observed_female_prop` and  `observed_male_prop`. \n",
    "\n",
    "Notice that `baker_weeks` has a row for each baker for each week, so we can't directly calculate proportions from the `'Gender'` column of that DataFrame.\n",
    "\n",
    "***Note:*** While several bakers with the same name appeared on the show (there were three Peters and three Kates!) there were never two bakers with the same name appearing in the same season."
   ]
  },
  {
   "cell_type": "code",
   "execution_count": 42,
   "id": "c5b36b3b",
   "metadata": {},
   "outputs": [
    {
     "data": {
      "text/html": [
       "<div>\n",
       "<style scoped>\n",
       "    .dataframe tbody tr th:only-of-type {\n",
       "        vertical-align: middle;\n",
       "    }\n",
       "\n",
       "    .dataframe tbody tr th {\n",
       "        vertical-align: top;\n",
       "    }\n",
       "\n",
       "    .dataframe thead th {\n",
       "        text-align: right;\n",
       "    }\n",
       "</style>\n",
       "<table border=\"1\" class=\"dataframe\">\n",
       "  <thead>\n",
       "    <tr style=\"text-align: right;\">\n",
       "      <th></th>\n",
       "      <th>Season</th>\n",
       "      <th>Baker</th>\n",
       "      <th>Gender</th>\n",
       "    </tr>\n",
       "  </thead>\n",
       "  <tbody>\n",
       "    <tr>\n",
       "      <th>0</th>\n",
       "      <td>1</td>\n",
       "      <td>Annetha</td>\n",
       "      <td>F</td>\n",
       "    </tr>\n",
       "    <tr>\n",
       "      <th>1</th>\n",
       "      <td>1</td>\n",
       "      <td>David</td>\n",
       "      <td>M</td>\n",
       "    </tr>\n",
       "    <tr>\n",
       "      <th>2</th>\n",
       "      <td>1</td>\n",
       "      <td>Edd</td>\n",
       "      <td>M</td>\n",
       "    </tr>\n",
       "    <tr>\n",
       "      <th>3</th>\n",
       "      <td>1</td>\n",
       "      <td>Jasminder</td>\n",
       "      <td>F</td>\n",
       "    </tr>\n",
       "    <tr>\n",
       "      <th>4</th>\n",
       "      <td>1</td>\n",
       "      <td>Jonathan</td>\n",
       "      <td>M</td>\n",
       "    </tr>\n",
       "    <tr>\n",
       "      <th>...</th>\n",
       "      <td>...</td>\n",
       "      <td>...</td>\n",
       "      <td>...</td>\n",
       "    </tr>\n",
       "    <tr>\n",
       "      <th>127</th>\n",
       "      <td>11</td>\n",
       "      <td>Marc E</td>\n",
       "      <td>M</td>\n",
       "    </tr>\n",
       "    <tr>\n",
       "      <th>128</th>\n",
       "      <td>11</td>\n",
       "      <td>Mark L</td>\n",
       "      <td>M</td>\n",
       "    </tr>\n",
       "    <tr>\n",
       "      <th>129</th>\n",
       "      <td>11</td>\n",
       "      <td>Peter</td>\n",
       "      <td>M</td>\n",
       "    </tr>\n",
       "    <tr>\n",
       "      <th>130</th>\n",
       "      <td>11</td>\n",
       "      <td>Rowan</td>\n",
       "      <td>M</td>\n",
       "    </tr>\n",
       "    <tr>\n",
       "      <th>131</th>\n",
       "      <td>11</td>\n",
       "      <td>Sura</td>\n",
       "      <td>F</td>\n",
       "    </tr>\n",
       "  </tbody>\n",
       "</table>\n",
       "<p>132 rows × 3 columns</p>\n",
       "</div>"
      ],
      "text/plain": [
       "     Season      Baker Gender\n",
       "0         1    Annetha      F\n",
       "1         1      David      M\n",
       "2         1        Edd      M\n",
       "3         1  Jasminder      F\n",
       "4         1   Jonathan      M\n",
       "..      ...        ...    ...\n",
       "127      11     Marc E      M\n",
       "128      11     Mark L      M\n",
       "129      11      Peter      M\n",
       "130      11      Rowan      M\n",
       "131      11       Sura      F\n",
       "\n",
       "[132 rows x 3 columns]"
      ]
     },
     "execution_count": 42,
     "metadata": {},
     "output_type": "execute_result"
    }
   ],
   "source": [
    "grouped_df = baker_weeks.get(['Season','Baker','Gender']).groupby(['Season','Baker','Gender']).count().reset_index()\n",
    "grouped_df"
   ]
  },
  {
   "cell_type": "code",
   "execution_count": 43,
   "id": "f5a81234",
   "metadata": {},
   "outputs": [
    {
     "name": "stdout",
     "output_type": "stream",
     "text": [
      "Female Proportions: 0.5151515151515151\n",
      "Male Proprotions: 0.48484848484848486\n",
      "Number of Bakers: 132\n"
     ]
    }
   ],
   "source": [
    "observed_female_prop = grouped_df[grouped_df.get('Gender') == 'F'].shape[0] / grouped_df.shape[0]\n",
    "observed_male_prop = grouped_df[grouped_df.get('Gender') == 'M'].shape[0] / grouped_df.shape[0]\n",
    "baker_count = grouped_df.shape[0]\n",
    "\n",
    "print(\"Female Proportions: \" + str(observed_female_prop))\n",
    "print(\"Male Proprotions: \" + str(observed_male_prop))\n",
    "print(\"Number of Bakers: \" + str(baker_count))"
   ]
  },
  {
   "cell_type": "code",
   "execution_count": 44,
   "id": "6ea74d83",
   "metadata": {
    "deletable": false,
    "editable": false
   },
   "outputs": [
    {
     "data": {
      "text/html": [
       "<p><strong><pre style='display: inline;'>q3_1</pre></strong> passed!</p>"
      ],
      "text/plain": [
       "q3_1 results: All test cases passed!"
      ]
     },
     "execution_count": 44,
     "metadata": {},
     "output_type": "execute_result"
    }
   ],
   "source": [
    "grader.check(\"q3_1\")"
   ]
  },
  {
   "cell_type": "markdown",
   "id": "536ee5a5",
   "metadata": {},
   "source": [
    "You recognize that `observed_female_prop` and `observed_male_prop` are similar but they're not exactly the same. Is this just random chance at play, or are female bakers actually more likely to be on the show? Let's do a hypothesis test with the following hypotheses:\n",
    "\n",
    "- **Null Hypothesis**: Bakers on the show are drawn randomly from a population that’s 50% female and 50% male. \n",
    "- **Alternative Hypothesis**: Bakers on the show are not drawn randomly from a population that’s 50% female and 50% male.\n",
    "\n",
    "Run the cell below to define a variable `null_distribution` that shows the proportion of each gender according to our model."
   ]
  },
  {
   "cell_type": "code",
   "execution_count": 45,
   "id": "089af097",
   "metadata": {},
   "outputs": [
    {
     "data": {
      "text/plain": [
       "array([0.5, 0.5])"
      ]
     },
     "execution_count": 45,
     "metadata": {},
     "output_type": "execute_result"
    }
   ],
   "source": [
    "null_distribution = np.array([0.5, 0.5])\n",
    "null_distribution"
   ]
  },
  {
   "cell_type": "markdown",
   "id": "41a400d8",
   "metadata": {},
   "source": [
    "**Question 3.2.** To perform our hypothesis test, we will simulate drawing a random sample of size `baker_count` from the null distribution, and then compute a test statistic on each simulated sample. We must first choose a reasonable test statistic that will help us determine whether to reject the null hypothesis.\n",
    "\n",
    "From the options below, find **all** valid test statistics that we could use for this hypothesis test. Save the numbers of your choices in a **list** called `gender_test_statistics`. Valid test statistics are ones that would allow us to distinguish between the null and alternative hypotheses. \n",
    "\n",
    "***Hint:*** To determine whether a test statistic is valid, think about which values of the statistic (high, low, moderate) would make you lean towards the null and which would make you lean towards the alternative.\n",
    "\n",
    "1. The absolute difference between the proportion of female bakers and 0.5.\n",
    "2. The absolute difference between the number of male bakers and the number of female bakers. \n",
    "3. The absolute difference between the number of female bakers and one half of `baker_count`.\n",
    "4. Three times the absolute difference between the proportion of male bakers and 0.5.\n",
    "5. The total variation distance between the gender distribution of bakers and the null distribution."
   ]
  },
  {
   "cell_type": "code",
   "execution_count": 46,
   "id": "e4963cac",
   "metadata": {},
   "outputs": [
    {
     "data": {
      "text/plain": [
       "[1, 3, 4, 5]"
      ]
     },
     "execution_count": 46,
     "metadata": {},
     "output_type": "execute_result"
    }
   ],
   "source": [
    "gender_test_statistics = [1, 3, 4, 5]\n",
    "gender_test_statistics"
   ]
  },
  {
   "cell_type": "code",
   "execution_count": 47,
   "id": "5dd7c3ff",
   "metadata": {
    "deletable": false,
    "editable": false
   },
   "outputs": [
    {
     "data": {
      "text/html": [
       "<p><strong><pre style='display: inline;'>q3_2</pre></strong> passed!</p>"
      ],
      "text/plain": [
       "q3_2 results: All test cases passed!"
      ]
     },
     "execution_count": 47,
     "metadata": {},
     "output_type": "execute_result"
    }
   ],
   "source": [
    "grader.check(\"q3_2\")"
   ]
  },
  {
   "cell_type": "markdown",
   "id": "78931f31",
   "metadata": {},
   "source": [
    "**Question 3.3.** For this hypothesis test, we'll use as our test statistic the absolute difference between the observed proportion of female bakers and 0.5, the expected proportion under the assumptions of the null hypothesis. Set the variable `observed_gender_stat` to the observed value of this statistic."
   ]
  },
  {
   "cell_type": "code",
   "execution_count": 48,
   "id": "f3685959",
   "metadata": {},
   "outputs": [
    {
     "data": {
      "text/plain": [
       "0.015151515151515138"
      ]
     },
     "execution_count": 48,
     "metadata": {},
     "output_type": "execute_result"
    }
   ],
   "source": [
    "observed_gender_stat = abs(observed_female_prop - 0.5)\n",
    "observed_gender_stat"
   ]
  },
  {
   "cell_type": "code",
   "execution_count": 49,
   "id": "5571b154",
   "metadata": {
    "deletable": false,
    "editable": false
   },
   "outputs": [
    {
     "data": {
      "text/html": [
       "<p><strong><pre style='display: inline;'>q3_3</pre></strong> passed!</p>"
      ],
      "text/plain": [
       "q3_3 results: All test cases passed!"
      ]
     },
     "execution_count": 49,
     "metadata": {},
     "output_type": "execute_result"
    }
   ],
   "source": [
    "grader.check(\"q3_3\")"
   ]
  },
  {
   "cell_type": "markdown",
   "id": "8e257e1d",
   "metadata": {},
   "source": [
    "**Question 3.4.** Write a simulation that runs 10,000 times, each time drawing a random sample of size `baker_count` from the null distribution. Keep track of the simulated test statistics in the `gender_stats` array. "
   ]
  },
  {
   "cell_type": "code",
   "execution_count": 50,
   "id": "8452fb34",
   "metadata": {},
   "outputs": [
    {
     "data": {
      "image/png": "[encoded data removed]",
      "text/plain": [
       "<Figure size 720x360 with 1 Axes>"
      ]
     },
     "metadata": {},
     "output_type": "display_data"
    }
   ],
   "source": [
    "gender_stats = np.array([])\n",
    "\n",
    "for i in np.arange(10000):\n",
    "    test_statistic = abs(np.random.multinomial(baker_count, [0.5, 0.5])[0] / baker_count - 0.5)\n",
    "    gender_stats = np.append(gender_stats, test_statistic)\n",
    "    \n",
    "# Visualize with a histogram\n",
    "bpd.DataFrame().assign(gender_stats=gender_stats).plot(kind='hist', density=True, ec='w', figsize=(10, 5));\n",
    "plt.axvline(x=observed_gender_stat, color='black', linewidth=4, label='observed_gender_stat')\n",
    "plt.legend();"
   ]
  },
  {
   "cell_type": "code",
   "execution_count": 51,
   "id": "6bae9e74",
   "metadata": {
    "deletable": false,
    "editable": false
   },
   "outputs": [
    {
     "data": {
      "text/html": [
       "<p><strong><pre style='display: inline;'>q3_4</pre></strong> passed!</p>"
      ],
      "text/plain": [
       "q3_4 results: All test cases passed!"
      ]
     },
     "execution_count": 51,
     "metadata": {},
     "output_type": "execute_result"
    }
   ],
   "source": [
    "grader.check(\"q3_4\")"
   ]
  },
  {
   "cell_type": "markdown",
   "id": "efc10fac",
   "metadata": {},
   "source": [
    "**Question 3.5.** Recall that your null hypothesis was that the bakers on the show are drawn randomly from a population that’s 50% female and 50% male. Compute the p-value for this hypothesis test, and save the result to `gender_p_value`."
   ]
  },
  {
   "cell_type": "code",
   "execution_count": 52,
   "id": "de4497aa",
   "metadata": {},
   "outputs": [
    {
     "data": {
      "text/plain": [
       "0.7894"
      ]
     },
     "execution_count": 52,
     "metadata": {},
     "output_type": "execute_result"
    }
   ],
   "source": [
    "gender_p_value = np.count_nonzero(gender_stats >= observed_gender_stat) / 10000\n",
    "gender_p_value"
   ]
  },
  {
   "cell_type": "code",
   "execution_count": 53,
   "id": "0fab9373",
   "metadata": {
    "deletable": false,
    "editable": false
   },
   "outputs": [
    {
     "data": {
      "text/html": [
       "<p><strong><pre style='display: inline;'>q3_5</pre></strong> passed!</p>"
      ],
      "text/plain": [
       "q3_5 results: All test cases passed!"
      ]
     },
     "execution_count": 53,
     "metadata": {},
     "output_type": "execute_result"
    }
   ],
   "source": [
    "grader.check(\"q3_5\")"
   ]
  },
  {
   "cell_type": "markdown",
   "id": "3e1b8eb9",
   "metadata": {},
   "source": [
    "You should find that the p-value is nowhere near the standard cutoff of 0.05 for statistical significance. So in this case, we fail to reject the null. \n",
    "\n",
    "It's important to note that even though we fail to reject the null, we’re not saying that bakers *were* necessarily drawn randomly from a population that’s 50% female and 50% male. In fact, nothing is random about how people get to be on the show. \n",
    "\n",
    "There are a lot of rules about who can apply to be on the show, and applicants are thoroughly vetted through an extensive [application process](https://gbbo.take-part.co.uk/info/rules) that involves an interview and a background check to ensure that none of the bakers have any sort of professional training or are friends or relatives of the judges. Simply put, bakers on the show are not selected via a purely random process.\n",
    "\n",
    "When we say we fail to reject the null, this means that the bakers *could have* been drawn from a model that's 50% female and 50% male, but it doesn't mean they *were*.\n"
   ]
  },
  {
   "cell_type": "markdown",
   "id": "7f257901",
   "metadata": {},
   "source": [
    "**Question 3.6.** Conceptually, how would you expect the statistics in `gender_stats` to change if `baker_count` were a much larger value, like if the show included hundreds of bakers every season? What effect would that have on the result of the hypothesis test?\n",
    "\n",
    "From the options below, save the number of your choice in the variable`gender_stats_change`.\n",
    "\n",
    "1. The values in `gender_stats` would be **smaller**. We'd be **less** likely to reject the null hypothesis if `observed_gender_stat` remained the same.\n",
    "2. The values in `gender_stats` would be **smaller**. We'd be **more** likely to reject the null hypothesis if `observed_gender_stat` remained the same.\n",
    "3. The values in `gender_stats` would be **about the same**. We'd be **equally** likely to reject the null hypothesis if `observed_gender_stat` remained the same.\n",
    "4. The values in `gender_stats` would be **larger**. We'd be **less** likely to reject the null hypothesis if `observed_gender_stat` remained the same.\n",
    "5. The values in `gender_stats` would be **larger**. We'd be **more** likely to reject the null hypothesis if `observed_gender_stat` remained the same.\n"
   ]
  },
  {
   "cell_type": "code",
   "execution_count": 54,
   "id": "604a0e33",
   "metadata": {},
   "outputs": [
    {
     "data": {
      "text/plain": [
       "1"
      ]
     },
     "execution_count": 54,
     "metadata": {},
     "output_type": "execute_result"
    }
   ],
   "source": [
    "gender_stats_change = 1\n",
    "gender_stats_change"
   ]
  },
  {
   "cell_type": "code",
   "execution_count": 55,
   "id": "000240e9",
   "metadata": {
    "deletable": false,
    "editable": false
   },
   "outputs": [
    {
     "data": {
      "text/html": [
       "<p><strong><pre style='display: inline;'>q3_6</pre></strong> passed!</p>"
      ],
      "text/plain": [
       "q3_6 results: All test cases passed!"
      ]
     },
     "execution_count": 55,
     "metadata": {},
     "output_type": "execute_result"
    }
   ],
   "source": [
    "grader.check(\"q3_6\")"
   ]
  },
  {
   "cell_type": "markdown",
   "id": "89ea2dad",
   "metadata": {},
   "source": [
    "<a id='section4'></a>\n",
    "## Section 4. Well-Deserved? 🥇"
   ]
  },
  {
   "cell_type": "markdown",
   "id": "a895593c",
   "metadata": {},
   "source": [
    "In this section, we will use permutation testing to decide if different groups of bakers have similar technical abilities, as measured by their rankings in the Technical Challenges. Let's start by looking at our `baker_weeks` DataFrame which has a row for each baker for each week of the show, including for the remainder of the season after they've been eliminated. Let's start by only keeping the data for the bakers that actually competed in each week's episode. Since ten bakers participated in the first episode of Season 1, we'll look at the first ten rows of the resulting `competed` DataFrame. "
   ]
  },
  {
   "cell_type": "code",
   "execution_count": 56,
   "id": "4b203589",
   "metadata": {},
   "outputs": [
    {
     "data": {
      "text/html": [
       "<div>\n",
       "<style scoped>\n",
       "    .dataframe tbody tr th:only-of-type {\n",
       "        vertical-align: middle;\n",
       "    }\n",
       "\n",
       "    .dataframe tbody tr th {\n",
       "        vertical-align: top;\n",
       "    }\n",
       "\n",
       "    .dataframe thead th {\n",
       "        text-align: right;\n",
       "    }\n",
       "</style>\n",
       "<table border=\"1\" class=\"dataframe\">\n",
       "  <thead>\n",
       "    <tr style=\"text-align: right;\">\n",
       "      <th></th>\n",
       "      <th>Episode</th>\n",
       "      <th>Season</th>\n",
       "      <th>Week Number</th>\n",
       "      <th>Judge</th>\n",
       "      <th>Week Name</th>\n",
       "      <th>Baker</th>\n",
       "      <th>Gender</th>\n",
       "      <th>Age</th>\n",
       "      <th>Signature Handshake</th>\n",
       "      <th>Technical Rank</th>\n",
       "      <th>Showstopper Handshake</th>\n",
       "      <th>Star Baker</th>\n",
       "      <th>Eliminated</th>\n",
       "      <th>Competed</th>\n",
       "      <th>Winner</th>\n",
       "    </tr>\n",
       "  </thead>\n",
       "  <tbody>\n",
       "    <tr>\n",
       "      <th>0</th>\n",
       "      <td>Series 1, Episode 1</td>\n",
       "      <td>1</td>\n",
       "      <td>1</td>\n",
       "      <td>Mary</td>\n",
       "      <td>Cake</td>\n",
       "      <td>Annetha</td>\n",
       "      <td>F</td>\n",
       "      <td>30</td>\n",
       "      <td>0</td>\n",
       "      <td>2.0</td>\n",
       "      <td>0</td>\n",
       "      <td>0</td>\n",
       "      <td>0</td>\n",
       "      <td>1</td>\n",
       "      <td>0</td>\n",
       "    </tr>\n",
       "    <tr>\n",
       "      <th>1</th>\n",
       "      <td>Series 1, Episode 1</td>\n",
       "      <td>1</td>\n",
       "      <td>1</td>\n",
       "      <td>Mary</td>\n",
       "      <td>Cake</td>\n",
       "      <td>David</td>\n",
       "      <td>M</td>\n",
       "      <td>31</td>\n",
       "      <td>0</td>\n",
       "      <td>3.0</td>\n",
       "      <td>0</td>\n",
       "      <td>0</td>\n",
       "      <td>0</td>\n",
       "      <td>1</td>\n",
       "      <td>0</td>\n",
       "    </tr>\n",
       "    <tr>\n",
       "      <th>2</th>\n",
       "      <td>Series 1, Episode 1</td>\n",
       "      <td>1</td>\n",
       "      <td>1</td>\n",
       "      <td>Mary</td>\n",
       "      <td>Cake</td>\n",
       "      <td>Edd</td>\n",
       "      <td>M</td>\n",
       "      <td>24</td>\n",
       "      <td>0</td>\n",
       "      <td>1.0</td>\n",
       "      <td>0</td>\n",
       "      <td>0</td>\n",
       "      <td>0</td>\n",
       "      <td>1</td>\n",
       "      <td>1</td>\n",
       "    </tr>\n",
       "    <tr>\n",
       "      <th>3</th>\n",
       "      <td>Series 1, Episode 1</td>\n",
       "      <td>1</td>\n",
       "      <td>1</td>\n",
       "      <td>Mary</td>\n",
       "      <td>Cake</td>\n",
       "      <td>Jasminder</td>\n",
       "      <td>F</td>\n",
       "      <td>45</td>\n",
       "      <td>0</td>\n",
       "      <td>NaN</td>\n",
       "      <td>0</td>\n",
       "      <td>0</td>\n",
       "      <td>0</td>\n",
       "      <td>1</td>\n",
       "      <td>0</td>\n",
       "    </tr>\n",
       "    <tr>\n",
       "      <th>4</th>\n",
       "      <td>Series 1, Episode 1</td>\n",
       "      <td>1</td>\n",
       "      <td>1</td>\n",
       "      <td>Mary</td>\n",
       "      <td>Cake</td>\n",
       "      <td>Jonathan</td>\n",
       "      <td>M</td>\n",
       "      <td>25</td>\n",
       "      <td>0</td>\n",
       "      <td>9.0</td>\n",
       "      <td>0</td>\n",
       "      <td>0</td>\n",
       "      <td>0</td>\n",
       "      <td>1</td>\n",
       "      <td>0</td>\n",
       "    </tr>\n",
       "    <tr>\n",
       "      <th>5</th>\n",
       "      <td>Series 1, Episode 1</td>\n",
       "      <td>1</td>\n",
       "      <td>1</td>\n",
       "      <td>Mary</td>\n",
       "      <td>Cake</td>\n",
       "      <td>Lea</td>\n",
       "      <td>F</td>\n",
       "      <td>51</td>\n",
       "      <td>0</td>\n",
       "      <td>10.0</td>\n",
       "      <td>0</td>\n",
       "      <td>0</td>\n",
       "      <td>1</td>\n",
       "      <td>1</td>\n",
       "      <td>0</td>\n",
       "    </tr>\n",
       "    <tr>\n",
       "      <th>6</th>\n",
       "      <td>Series 1, Episode 1</td>\n",
       "      <td>1</td>\n",
       "      <td>1</td>\n",
       "      <td>Mary</td>\n",
       "      <td>Cake</td>\n",
       "      <td>Louise</td>\n",
       "      <td>F</td>\n",
       "      <td>44</td>\n",
       "      <td>0</td>\n",
       "      <td>NaN</td>\n",
       "      <td>0</td>\n",
       "      <td>0</td>\n",
       "      <td>1</td>\n",
       "      <td>1</td>\n",
       "      <td>0</td>\n",
       "    </tr>\n",
       "    <tr>\n",
       "      <th>7</th>\n",
       "      <td>Series 1, Episode 1</td>\n",
       "      <td>1</td>\n",
       "      <td>1</td>\n",
       "      <td>Mary</td>\n",
       "      <td>Cake</td>\n",
       "      <td>Mark</td>\n",
       "      <td>M</td>\n",
       "      <td>48</td>\n",
       "      <td>0</td>\n",
       "      <td>NaN</td>\n",
       "      <td>0</td>\n",
       "      <td>0</td>\n",
       "      <td>0</td>\n",
       "      <td>1</td>\n",
       "      <td>0</td>\n",
       "    </tr>\n",
       "    <tr>\n",
       "      <th>8</th>\n",
       "      <td>Series 1, Episode 1</td>\n",
       "      <td>1</td>\n",
       "      <td>1</td>\n",
       "      <td>Mary</td>\n",
       "      <td>Cake</td>\n",
       "      <td>Miranda</td>\n",
       "      <td>F</td>\n",
       "      <td>37</td>\n",
       "      <td>0</td>\n",
       "      <td>8.0</td>\n",
       "      <td>0</td>\n",
       "      <td>0</td>\n",
       "      <td>0</td>\n",
       "      <td>1</td>\n",
       "      <td>0</td>\n",
       "    </tr>\n",
       "    <tr>\n",
       "      <th>9</th>\n",
       "      <td>Series 1, Episode 1</td>\n",
       "      <td>1</td>\n",
       "      <td>1</td>\n",
       "      <td>Mary</td>\n",
       "      <td>Cake</td>\n",
       "      <td>Ruth</td>\n",
       "      <td>F</td>\n",
       "      <td>31</td>\n",
       "      <td>0</td>\n",
       "      <td>NaN</td>\n",
       "      <td>0</td>\n",
       "      <td>0</td>\n",
       "      <td>0</td>\n",
       "      <td>1</td>\n",
       "      <td>0</td>\n",
       "    </tr>\n",
       "  </tbody>\n",
       "</table>\n",
       "</div>"
      ],
      "text/plain": [
       "               Episode  Season  Week Number Judge Week Name      Baker Gender  \\\n",
       "0  Series 1, Episode 1       1            1  Mary      Cake    Annetha      F   \n",
       "1  Series 1, Episode 1       1            1  Mary      Cake      David      M   \n",
       "2  Series 1, Episode 1       1            1  Mary      Cake        Edd      M   \n",
       "3  Series 1, Episode 1       1            1  Mary      Cake  Jasminder      F   \n",
       "4  Series 1, Episode 1       1            1  Mary      Cake   Jonathan      M   \n",
       "5  Series 1, Episode 1       1            1  Mary      Cake        Lea      F   \n",
       "6  Series 1, Episode 1       1            1  Mary      Cake     Louise      F   \n",
       "7  Series 1, Episode 1       1            1  Mary      Cake       Mark      M   \n",
       "8  Series 1, Episode 1       1            1  Mary      Cake    Miranda      F   \n",
       "9  Series 1, Episode 1       1            1  Mary      Cake       Ruth      F   \n",
       "\n",
       "   Age  Signature Handshake  Technical Rank  Showstopper Handshake  \\\n",
       "0   30                    0             2.0                      0   \n",
       "1   31                    0             3.0                      0   \n",
       "2   24                    0             1.0                      0   \n",
       "3   45                    0             NaN                      0   \n",
       "4   25                    0             9.0                      0   \n",
       "5   51                    0            10.0                      0   \n",
       "6   44                    0             NaN                      0   \n",
       "7   48                    0             NaN                      0   \n",
       "8   37                    0             8.0                      0   \n",
       "9   31                    0             NaN                      0   \n",
       "\n",
       "   Star Baker  Eliminated  Competed  Winner  \n",
       "0           0           0         1       0  \n",
       "1           0           0         1       0  \n",
       "2           0           0         1       1  \n",
       "3           0           0         1       0  \n",
       "4           0           0         1       0  \n",
       "5           0           1         1       0  \n",
       "6           0           1         1       0  \n",
       "7           0           0         1       0  \n",
       "8           0           0         1       0  \n",
       "9           0           0         1       0  "
      ]
     },
     "execution_count": 56,
     "metadata": {},
     "output_type": "execute_result"
    }
   ],
   "source": [
    "competed = baker_weeks[baker_weeks.get('Competed') == 1]\n",
    "competed.take(np.arange(10))"
   ]
  },
  {
   "cell_type": "markdown",
   "id": "4279a4de",
   "metadata": {},
   "source": [
    "In the `'Technical Rank'` column, contestants are given a ranking for how well they performed in the Technical Challenge, with 1 being the best. Notice in the first ten rows of `competed` shown above, some of the middle rankings are missing. In this episode, the judges didn't reveal everyone's rank and instead just pointed out the top three and bottom three contestants. For reasons like this, our dataset has just a few missing values, which we will ignore for this section. \n",
    "\n",
    "If we want to get a sense of how skilled a baker is, the technical rank is helpful, but needs to be taken in the context of the number of contestants still in the competition. For example, ranking 3rd place in the first week when there are many contestants is a lot more impressive than ranking 3rd place in the final week, when there are just three bakers remaining. To address this problem, we'll convert these rankings into *percentiles* to measure skill relative to the number of contestants remaining. \n",
    "\n",
    "For example, if there are four contestants remaining, a technical ranking of:\n",
    "- 4 corresponds to the 25th percentile\n",
    "- 3 corresponds to the 50th percentile\n",
    "- 2 corresponds to the 75th percentile\n",
    "- 1 corresponds to the 100th percentile\n",
    "\n",
    "**Question 4.1.** Create a DataFrame called `perc` with the same data as `competed`, plus a new column called `'Contestants'`  that contains the number of contestants that competed each week. For example, since the first ten rows of `competed` all correspond to the first week of the first season, in which there were 10 bakers, the first ten entries of the `'Contestants'` column should be 10.  \n",
    "\n",
    "We've provided the code to use the `'Contestants'` column and the `'Technical Rank'` column to calculate the percentiles, which we've added in a column called `'Percentile'`.\n",
    "\n",
    "***Hint:*** Start by counting the number of bakers in each episode."
   ]
  },
  {
   "cell_type": "code",
   "execution_count": 57,
   "id": "816470ff",
   "metadata": {},
   "outputs": [
    {
     "data": {
      "text/html": [
       "<div>\n",
       "<style scoped>\n",
       "    .dataframe tbody tr th:only-of-type {\n",
       "        vertical-align: middle;\n",
       "    }\n",
       "\n",
       "    .dataframe tbody tr th {\n",
       "        vertical-align: top;\n",
       "    }\n",
       "\n",
       "    .dataframe thead th {\n",
       "        text-align: right;\n",
       "    }\n",
       "</style>\n",
       "<table border=\"1\" class=\"dataframe\">\n",
       "  <thead>\n",
       "    <tr style=\"text-align: right;\">\n",
       "      <th></th>\n",
       "      <th>Episode</th>\n",
       "      <th>Contestants</th>\n",
       "    </tr>\n",
       "  </thead>\n",
       "  <tbody>\n",
       "    <tr>\n",
       "      <th>0</th>\n",
       "      <td>Series 1, Episode 1</td>\n",
       "      <td>10</td>\n",
       "    </tr>\n",
       "    <tr>\n",
       "      <th>1</th>\n",
       "      <td>Series 1, Episode 2</td>\n",
       "      <td>8</td>\n",
       "    </tr>\n",
       "    <tr>\n",
       "      <th>2</th>\n",
       "      <td>Series 1, Episode 3</td>\n",
       "      <td>6</td>\n",
       "    </tr>\n",
       "    <tr>\n",
       "      <th>3</th>\n",
       "      <td>Series 1, Episode 4</td>\n",
       "      <td>5</td>\n",
       "    </tr>\n",
       "    <tr>\n",
       "      <th>4</th>\n",
       "      <td>Series 1, Episode 5</td>\n",
       "      <td>4</td>\n",
       "    </tr>\n",
       "    <tr>\n",
       "      <th>...</th>\n",
       "      <td>...</td>\n",
       "      <td>...</td>\n",
       "    </tr>\n",
       "    <tr>\n",
       "      <th>99</th>\n",
       "      <td>Series 9, Episode 5</td>\n",
       "      <td>9</td>\n",
       "    </tr>\n",
       "    <tr>\n",
       "      <th>100</th>\n",
       "      <td>Series 9, Episode 6</td>\n",
       "      <td>7</td>\n",
       "    </tr>\n",
       "    <tr>\n",
       "      <th>101</th>\n",
       "      <td>Series 9, Episode 7</td>\n",
       "      <td>6</td>\n",
       "    </tr>\n",
       "    <tr>\n",
       "      <th>102</th>\n",
       "      <td>Series 9, Episode 8</td>\n",
       "      <td>5</td>\n",
       "    </tr>\n",
       "    <tr>\n",
       "      <th>103</th>\n",
       "      <td>Series 9, Episode 9</td>\n",
       "      <td>4</td>\n",
       "    </tr>\n",
       "  </tbody>\n",
       "</table>\n",
       "<p>104 rows × 2 columns</p>\n",
       "</div>"
      ],
      "text/plain": [
       "                 Episode  Contestants\n",
       "0    Series 1, Episode 1           10\n",
       "1    Series 1, Episode 2            8\n",
       "2    Series 1, Episode 3            6\n",
       "3    Series 1, Episode 4            5\n",
       "4    Series 1, Episode 5            4\n",
       "..                   ...          ...\n",
       "99   Series 9, Episode 5            9\n",
       "100  Series 9, Episode 6            7\n",
       "101  Series 9, Episode 7            6\n",
       "102  Series 9, Episode 8            5\n",
       "103  Series 9, Episode 9            4\n",
       "\n",
       "[104 rows x 2 columns]"
      ]
     },
     "execution_count": 57,
     "metadata": {},
     "output_type": "execute_result"
    }
   ],
   "source": [
    "bakers_per_episode = (competed\n",
    "        .groupby(['Episode']).count().reset_index()\n",
    "        .get(['Episode','Baker']))\n",
    "bakers_per_episode = (bakers_per_episode\n",
    "                      .assign(Contestants=bakers_per_episode.get('Baker'))\n",
    "                      .drop(columns='Baker'))\n",
    "\n",
    "bakers_per_episode"
   ]
  },
  {
   "cell_type": "code",
   "execution_count": 58,
   "id": "97941af8",
   "metadata": {
    "scrolled": true
   },
   "outputs": [
    {
     "data": {
      "text/html": [
       "<div>\n",
       "<style scoped>\n",
       "    .dataframe tbody tr th:only-of-type {\n",
       "        vertical-align: middle;\n",
       "    }\n",
       "\n",
       "    .dataframe tbody tr th {\n",
       "        vertical-align: top;\n",
       "    }\n",
       "\n",
       "    .dataframe thead th {\n",
       "        text-align: right;\n",
       "    }\n",
       "</style>\n",
       "<table border=\"1\" class=\"dataframe\">\n",
       "  <thead>\n",
       "    <tr style=\"text-align: right;\">\n",
       "      <th></th>\n",
       "      <th>Episode</th>\n",
       "      <th>Season</th>\n",
       "      <th>Week Number</th>\n",
       "      <th>Judge</th>\n",
       "      <th>Week Name</th>\n",
       "      <th>Baker</th>\n",
       "      <th>Gender</th>\n",
       "      <th>Age</th>\n",
       "      <th>Signature Handshake</th>\n",
       "      <th>Technical Rank</th>\n",
       "      <th>Showstopper Handshake</th>\n",
       "      <th>Star Baker</th>\n",
       "      <th>Eliminated</th>\n",
       "      <th>Competed</th>\n",
       "      <th>Winner</th>\n",
       "      <th>Contestants</th>\n",
       "      <th>Percentile</th>\n",
       "    </tr>\n",
       "  </thead>\n",
       "  <tbody>\n",
       "    <tr>\n",
       "      <th>0</th>\n",
       "      <td>Series 1, Episode 1</td>\n",
       "      <td>1</td>\n",
       "      <td>1</td>\n",
       "      <td>Mary</td>\n",
       "      <td>Cake</td>\n",
       "      <td>Annetha</td>\n",
       "      <td>F</td>\n",
       "      <td>30</td>\n",
       "      <td>0</td>\n",
       "      <td>2.0</td>\n",
       "      <td>0</td>\n",
       "      <td>0</td>\n",
       "      <td>0</td>\n",
       "      <td>1</td>\n",
       "      <td>0</td>\n",
       "      <td>10</td>\n",
       "      <td>90.0</td>\n",
       "    </tr>\n",
       "    <tr>\n",
       "      <th>1</th>\n",
       "      <td>Series 1, Episode 1</td>\n",
       "      <td>1</td>\n",
       "      <td>1</td>\n",
       "      <td>Mary</td>\n",
       "      <td>Cake</td>\n",
       "      <td>David</td>\n",
       "      <td>M</td>\n",
       "      <td>31</td>\n",
       "      <td>0</td>\n",
       "      <td>3.0</td>\n",
       "      <td>0</td>\n",
       "      <td>0</td>\n",
       "      <td>0</td>\n",
       "      <td>1</td>\n",
       "      <td>0</td>\n",
       "      <td>10</td>\n",
       "      <td>80.0</td>\n",
       "    </tr>\n",
       "    <tr>\n",
       "      <th>2</th>\n",
       "      <td>Series 1, Episode 1</td>\n",
       "      <td>1</td>\n",
       "      <td>1</td>\n",
       "      <td>Mary</td>\n",
       "      <td>Cake</td>\n",
       "      <td>Edd</td>\n",
       "      <td>M</td>\n",
       "      <td>24</td>\n",
       "      <td>0</td>\n",
       "      <td>1.0</td>\n",
       "      <td>0</td>\n",
       "      <td>0</td>\n",
       "      <td>0</td>\n",
       "      <td>1</td>\n",
       "      <td>1</td>\n",
       "      <td>10</td>\n",
       "      <td>100.0</td>\n",
       "    </tr>\n",
       "    <tr>\n",
       "      <th>3</th>\n",
       "      <td>Series 1, Episode 1</td>\n",
       "      <td>1</td>\n",
       "      <td>1</td>\n",
       "      <td>Mary</td>\n",
       "      <td>Cake</td>\n",
       "      <td>Jasminder</td>\n",
       "      <td>F</td>\n",
       "      <td>45</td>\n",
       "      <td>0</td>\n",
       "      <td>NaN</td>\n",
       "      <td>0</td>\n",
       "      <td>0</td>\n",
       "      <td>0</td>\n",
       "      <td>1</td>\n",
       "      <td>0</td>\n",
       "      <td>10</td>\n",
       "      <td>NaN</td>\n",
       "    </tr>\n",
       "    <tr>\n",
       "      <th>4</th>\n",
       "      <td>Series 1, Episode 1</td>\n",
       "      <td>1</td>\n",
       "      <td>1</td>\n",
       "      <td>Mary</td>\n",
       "      <td>Cake</td>\n",
       "      <td>Jonathan</td>\n",
       "      <td>M</td>\n",
       "      <td>25</td>\n",
       "      <td>0</td>\n",
       "      <td>9.0</td>\n",
       "      <td>0</td>\n",
       "      <td>0</td>\n",
       "      <td>0</td>\n",
       "      <td>1</td>\n",
       "      <td>0</td>\n",
       "      <td>10</td>\n",
       "      <td>20.0</td>\n",
       "    </tr>\n",
       "    <tr>\n",
       "      <th>...</th>\n",
       "      <td>...</td>\n",
       "      <td>...</td>\n",
       "      <td>...</td>\n",
       "      <td>...</td>\n",
       "      <td>...</td>\n",
       "      <td>...</td>\n",
       "      <td>...</td>\n",
       "      <td>...</td>\n",
       "      <td>...</td>\n",
       "      <td>...</td>\n",
       "      <td>...</td>\n",
       "      <td>...</td>\n",
       "      <td>...</td>\n",
       "      <td>...</td>\n",
       "      <td>...</td>\n",
       "      <td>...</td>\n",
       "      <td>...</td>\n",
       "    </tr>\n",
       "    <tr>\n",
       "      <th>772</th>\n",
       "      <td>Series 11, Episode 9</td>\n",
       "      <td>11</td>\n",
       "      <td>9</td>\n",
       "      <td>Prue</td>\n",
       "      <td>Pâtisserie</td>\n",
       "      <td>Laura</td>\n",
       "      <td>F</td>\n",
       "      <td>31</td>\n",
       "      <td>0</td>\n",
       "      <td>4.0</td>\n",
       "      <td>0</td>\n",
       "      <td>0</td>\n",
       "      <td>0</td>\n",
       "      <td>1</td>\n",
       "      <td>0</td>\n",
       "      <td>4</td>\n",
       "      <td>25.0</td>\n",
       "    </tr>\n",
       "    <tr>\n",
       "      <th>773</th>\n",
       "      <td>Series 11, Episode 9</td>\n",
       "      <td>11</td>\n",
       "      <td>9</td>\n",
       "      <td>Prue</td>\n",
       "      <td>Pâtisserie</td>\n",
       "      <td>Peter</td>\n",
       "      <td>M</td>\n",
       "      <td>20</td>\n",
       "      <td>0</td>\n",
       "      <td>1.0</td>\n",
       "      <td>0</td>\n",
       "      <td>1</td>\n",
       "      <td>0</td>\n",
       "      <td>1</td>\n",
       "      <td>1</td>\n",
       "      <td>4</td>\n",
       "      <td>100.0</td>\n",
       "    </tr>\n",
       "    <tr>\n",
       "      <th>774</th>\n",
       "      <td>Series 11, Episode 10</td>\n",
       "      <td>11</td>\n",
       "      <td>10</td>\n",
       "      <td>Prue</td>\n",
       "      <td>Final</td>\n",
       "      <td>Dave</td>\n",
       "      <td>M</td>\n",
       "      <td>30</td>\n",
       "      <td>0</td>\n",
       "      <td>1.0</td>\n",
       "      <td>0</td>\n",
       "      <td>0</td>\n",
       "      <td>1</td>\n",
       "      <td>1</td>\n",
       "      <td>0</td>\n",
       "      <td>3</td>\n",
       "      <td>100.0</td>\n",
       "    </tr>\n",
       "    <tr>\n",
       "      <th>775</th>\n",
       "      <td>Series 11, Episode 10</td>\n",
       "      <td>11</td>\n",
       "      <td>10</td>\n",
       "      <td>Prue</td>\n",
       "      <td>Final</td>\n",
       "      <td>Laura</td>\n",
       "      <td>F</td>\n",
       "      <td>31</td>\n",
       "      <td>0</td>\n",
       "      <td>3.0</td>\n",
       "      <td>0</td>\n",
       "      <td>0</td>\n",
       "      <td>1</td>\n",
       "      <td>1</td>\n",
       "      <td>0</td>\n",
       "      <td>3</td>\n",
       "      <td>33.3</td>\n",
       "    </tr>\n",
       "    <tr>\n",
       "      <th>776</th>\n",
       "      <td>Series 11, Episode 10</td>\n",
       "      <td>11</td>\n",
       "      <td>10</td>\n",
       "      <td>Prue</td>\n",
       "      <td>Final</td>\n",
       "      <td>Peter</td>\n",
       "      <td>M</td>\n",
       "      <td>20</td>\n",
       "      <td>0</td>\n",
       "      <td>2.0</td>\n",
       "      <td>0</td>\n",
       "      <td>1</td>\n",
       "      <td>0</td>\n",
       "      <td>1</td>\n",
       "      <td>1</td>\n",
       "      <td>3</td>\n",
       "      <td>66.7</td>\n",
       "    </tr>\n",
       "  </tbody>\n",
       "</table>\n",
       "<p>777 rows × 17 columns</p>\n",
       "</div>"
      ],
      "text/plain": [
       "                   Episode  Season  Week Number Judge   Week Name      Baker  \\\n",
       "0      Series 1, Episode 1       1            1  Mary        Cake    Annetha   \n",
       "1      Series 1, Episode 1       1            1  Mary        Cake      David   \n",
       "2      Series 1, Episode 1       1            1  Mary        Cake        Edd   \n",
       "3      Series 1, Episode 1       1            1  Mary        Cake  Jasminder   \n",
       "4      Series 1, Episode 1       1            1  Mary        Cake   Jonathan   \n",
       "..                     ...     ...          ...   ...         ...        ...   \n",
       "772   Series 11, Episode 9      11            9  Prue  Pâtisserie      Laura   \n",
       "773   Series 11, Episode 9      11            9  Prue  Pâtisserie      Peter   \n",
       "774  Series 11, Episode 10      11           10  Prue       Final       Dave   \n",
       "775  Series 11, Episode 10      11           10  Prue       Final      Laura   \n",
       "776  Series 11, Episode 10      11           10  Prue       Final      Peter   \n",
       "\n",
       "    Gender  Age  Signature Handshake  Technical Rank  Showstopper Handshake  \\\n",
       "0        F   30                    0             2.0                      0   \n",
       "1        M   31                    0             3.0                      0   \n",
       "2        M   24                    0             1.0                      0   \n",
       "3        F   45                    0             NaN                      0   \n",
       "4        M   25                    0             9.0                      0   \n",
       "..     ...  ...                  ...             ...                    ...   \n",
       "772      F   31                    0             4.0                      0   \n",
       "773      M   20                    0             1.0                      0   \n",
       "774      M   30                    0             1.0                      0   \n",
       "775      F   31                    0             3.0                      0   \n",
       "776      M   20                    0             2.0                      0   \n",
       "\n",
       "     Star Baker  Eliminated  Competed  Winner  Contestants  Percentile  \n",
       "0             0           0         1       0           10        90.0  \n",
       "1             0           0         1       0           10        80.0  \n",
       "2             0           0         1       1           10       100.0  \n",
       "3             0           0         1       0           10         NaN  \n",
       "4             0           0         1       0           10        20.0  \n",
       "..          ...         ...       ...     ...          ...         ...  \n",
       "772           0           0         1       0            4        25.0  \n",
       "773           1           0         1       1            4       100.0  \n",
       "774           0           1         1       0            3       100.0  \n",
       "775           0           1         1       0            3        33.3  \n",
       "776           1           0         1       1            3        66.7  \n",
       "\n",
       "[777 rows x 17 columns]"
      ]
     },
     "execution_count": 58,
     "metadata": {},
     "output_type": "execute_result"
    }
   ],
   "source": [
    "# Your task is to add the Contestants column.\n",
    "perc = competed.merge(bakers_per_episode, left_on = 'Episode', right_on = 'Episode')\n",
    "\n",
    "# We've added the Percentile column for you.\n",
    "perc = perc.assign(Percentile = np.round((1 - (perc.get('Technical Rank') - 1) / perc.get('Contestants')) * 100, 1))\n",
    "perc"
   ]
  },
  {
   "cell_type": "code",
   "execution_count": 59,
   "id": "310d52ce",
   "metadata": {
    "deletable": false,
    "editable": false
   },
   "outputs": [
    {
     "data": {
      "text/html": [
       "<p><strong><pre style='display: inline;'>q4_1</pre></strong> passed!</p>"
      ],
      "text/plain": [
       "q4_1 results: All test cases passed!"
      ]
     },
     "execution_count": 59,
     "metadata": {},
     "output_type": "execute_result"
    }
   ],
   "source": [
    "grader.check(\"q4_1\")"
   ]
  },
  {
   "cell_type": "markdown",
   "id": "ac3ebb1f",
   "metadata": {},
   "source": [
    "Now we are ready to compare two groups of bakers to see if they are comparably skilled. Let's start with comparing the winners to the non-winners. We'll conduct a permutation test with the following hypotheses.\n",
    "\n",
    "- **Null Hypothesis** : The `'Percentile'` data for winners comes from the same distribution as the `'Percentile'` data for non-winners. In other words, winners and non-winners perform equally well in Technical Challenges.\n",
    "- **Alternate Hypothesis** : The `'Percentile'` data for winners and the `'Percentile'` data for non-winners come from different distributions. Winners perform better in Technical Challenges than non-winners.\n",
    "\n",
    "As usual, we'll use the difference in group means as our test statistic. Here, we'll compute that as the mean for the winners minus the mean for the non-winners."
   ]
  },
  {
   "cell_type": "markdown",
   "id": "238fa097",
   "metadata": {},
   "source": [
    "**Question 4.2.** What is the observed value of the test statistic? Save your answer as `observed`."
   ]
  },
  {
   "cell_type": "code",
   "execution_count": 60,
   "id": "7133a3bf",
   "metadata": {},
   "outputs": [
    {
     "data": {
      "text/plain": [
       "12.451918030370045"
      ]
     },
     "execution_count": 60,
     "metadata": {},
     "output_type": "execute_result"
    }
   ],
   "source": [
    "observed = perc[perc.get('Winner') == 1].get('Percentile').mean() - perc[perc.get('Winner') == 0].get('Percentile').mean()\n",
    "observed"
   ]
  },
  {
   "cell_type": "code",
   "execution_count": 61,
   "id": "4fea5180",
   "metadata": {
    "deletable": false,
    "editable": false
   },
   "outputs": [
    {
     "data": {
      "text/html": [
       "<p><strong><pre style='display: inline;'>q4_2</pre></strong> passed!</p>"
      ],
      "text/plain": [
       "q4_2 results: All test cases passed!"
      ]
     },
     "execution_count": 61,
     "metadata": {},
     "output_type": "execute_result"
    }
   ],
   "source": [
    "grader.check(\"q4_2\")"
   ]
  },
  {
   "cell_type": "markdown",
   "id": "eaf4824a",
   "metadata": {},
   "source": [
    "**Question 4.3.** Create 1000 simulated values of the test statistic under the assumptions of the null hypothesis, and save your simulated test statistics in the array `simulated_stats`.  Then create an appropriate visualization showing the distribution of the values in `simulated_stats` array. It may be helpful to also plot the observed value of the test statistic on the same graph. "
   ]
  },
  {
   "cell_type": "code",
   "execution_count": 62,
   "id": "38a3dea0",
   "metadata": {},
   "outputs": [
    {
     "data": {
      "text/html": [
       "<div>\n",
       "<style scoped>\n",
       "    .dataframe tbody tr th:only-of-type {\n",
       "        vertical-align: middle;\n",
       "    }\n",
       "\n",
       "    .dataframe tbody tr th {\n",
       "        vertical-align: top;\n",
       "    }\n",
       "\n",
       "    .dataframe thead th {\n",
       "        text-align: right;\n",
       "    }\n",
       "</style>\n",
       "<table border=\"1\" class=\"dataframe\">\n",
       "  <thead>\n",
       "    <tr style=\"text-align: right;\">\n",
       "      <th></th>\n",
       "      <th>Winner</th>\n",
       "      <th>Percentile</th>\n",
       "    </tr>\n",
       "  </thead>\n",
       "  <tbody>\n",
       "    <tr>\n",
       "      <th>0</th>\n",
       "      <td>0</td>\n",
       "      <td>90.0</td>\n",
       "    </tr>\n",
       "    <tr>\n",
       "      <th>1</th>\n",
       "      <td>0</td>\n",
       "      <td>80.0</td>\n",
       "    </tr>\n",
       "    <tr>\n",
       "      <th>2</th>\n",
       "      <td>1</td>\n",
       "      <td>100.0</td>\n",
       "    </tr>\n",
       "    <tr>\n",
       "      <th>3</th>\n",
       "      <td>0</td>\n",
       "      <td>NaN</td>\n",
       "    </tr>\n",
       "    <tr>\n",
       "      <th>4</th>\n",
       "      <td>0</td>\n",
       "      <td>20.0</td>\n",
       "    </tr>\n",
       "    <tr>\n",
       "      <th>...</th>\n",
       "      <td>...</td>\n",
       "      <td>...</td>\n",
       "    </tr>\n",
       "    <tr>\n",
       "      <th>772</th>\n",
       "      <td>0</td>\n",
       "      <td>25.0</td>\n",
       "    </tr>\n",
       "    <tr>\n",
       "      <th>773</th>\n",
       "      <td>1</td>\n",
       "      <td>100.0</td>\n",
       "    </tr>\n",
       "    <tr>\n",
       "      <th>774</th>\n",
       "      <td>0</td>\n",
       "      <td>100.0</td>\n",
       "    </tr>\n",
       "    <tr>\n",
       "      <th>775</th>\n",
       "      <td>0</td>\n",
       "      <td>33.3</td>\n",
       "    </tr>\n",
       "    <tr>\n",
       "      <th>776</th>\n",
       "      <td>1</td>\n",
       "      <td>66.7</td>\n",
       "    </tr>\n",
       "  </tbody>\n",
       "</table>\n",
       "<p>777 rows × 2 columns</p>\n",
       "</div>"
      ],
      "text/plain": [
       "     Winner  Percentile\n",
       "0         0        90.0\n",
       "1         0        80.0\n",
       "2         1       100.0\n",
       "3         0         NaN\n",
       "4         0        20.0\n",
       "..      ...         ...\n",
       "772       0        25.0\n",
       "773       1       100.0\n",
       "774       0       100.0\n",
       "775       0        33.3\n",
       "776       1        66.7\n",
       "\n",
       "[777 rows x 2 columns]"
      ]
     },
     "execution_count": 62,
     "metadata": {},
     "output_type": "execute_result"
    }
   ],
   "source": [
    "simplified_df = perc.get(['Winner','Percentile'])\n",
    "simplified_df"
   ]
  },
  {
   "cell_type": "code",
   "execution_count": 66,
   "id": "d5315e70",
   "metadata": {},
   "outputs": [
    {
     "data": {
      "image/png": "[encoded data removed]",
      "text/plain": [
       "<Figure size 720x360 with 1 Axes>"
      ]
     },
     "metadata": {},
     "output_type": "display_data"
    }
   ],
   "source": [
    "# Run your simulation here.\n",
    "simulated_stats = np.array([])\n",
    "\n",
    "for i in np.arange(1000):\n",
    "    #Shuffle\n",
    "    shuffled_winners = np.random.permutation(simplified_df.get('Winner'))\n",
    "    \n",
    "    #DataFrame\n",
    "    shuffled = simplified_df.assign(Shuffled_Winners = shuffled_winners)\n",
    "    \n",
    "    #Difference in group means\n",
    "    winner_means = shuffled.groupby('Shuffled_Winners').mean().get('Percentile')\n",
    "    difference = winner_means.iloc[1] - winner_means.iloc[0]\n",
    "    simulated_stats = np.append(simulated_stats, difference)\n",
    "    \n",
    "\n",
    "# Plot your visualization here.\n",
    "bpd.DataFrame().assign(simulated_stats=simulated_stats).plot(kind='hist', density=True, ec='w', figsize=(10, 5));\n",
    "plt.axvline(x=observed, color='black', linewidth=4, label='observed statistic')\n",
    "plt.legend();"
   ]
  },
  {
   "cell_type": "code",
   "execution_count": 67,
   "id": "81e72127",
   "metadata": {
    "deletable": false,
    "editable": false
   },
   "outputs": [
    {
     "data": {
      "text/html": [
       "<p><strong><pre style='display: inline;'>q4_3</pre></strong> passed!</p>"
      ],
      "text/plain": [
       "q4_3 results: All test cases passed!"
      ]
     },
     "execution_count": 67,
     "metadata": {},
     "output_type": "execute_result"
    }
   ],
   "source": [
    "grader.check(\"q4_3\")"
   ]
  },
  {
   "cell_type": "markdown",
   "id": "8ef5eb31",
   "metadata": {},
   "source": [
    "**Question 4.4.** The winning contestants claim that they are more technically skilled than the other contestants. Based on your permutation test, using a p-value cutoff of 0.01, do you think this claim is likely accurate? Set `winners_claim` to True or False."
   ]
  },
  {
   "cell_type": "code",
   "execution_count": 68,
   "id": "6f9df842",
   "metadata": {},
   "outputs": [
    {
     "data": {
      "text/plain": [
       "True"
      ]
     },
     "execution_count": 68,
     "metadata": {},
     "output_type": "execute_result"
    }
   ],
   "source": [
    "winners_claim = True\n",
    "winners_claim"
   ]
  },
  {
   "cell_type": "code",
   "execution_count": 69,
   "id": "92235407",
   "metadata": {
    "deletable": false,
    "editable": false
   },
   "outputs": [
    {
     "data": {
      "text/html": [
       "<p><strong><pre style='display: inline;'>q4_4</pre></strong> passed!</p>"
      ],
      "text/plain": [
       "q4_4 results: All test cases passed!"
      ]
     },
     "execution_count": 69,
     "metadata": {},
     "output_type": "execute_result"
    }
   ],
   "source": [
    "grader.check(\"q4_4\")"
   ]
  },
  {
   "cell_type": "markdown",
   "id": "61264cf3",
   "metadata": {},
   "source": [
    "\n",
    "\n",
    "Now, we'll do a similar permutation test, but this time comparing the Technical Challenge `'Percentile'` of contestants who received a coveted handshake 🤝 from Paul Hollywood at least once to those who never did.\n",
    "\n",
    "\n",
    "![](https://media.giphy.com/media/3o7TKRoSl2BrFuK75u/giphy.gif)"
   ]
  },
  {
   "cell_type": "markdown",
   "id": "73dcca74",
   "metadata": {},
   "source": [
    "**Question 4.5.** Create a new DataFrame called `earned`, indexed by `'Season'` and `'Baker'`, that has a row for each baker who received a handshake 🤝 **at any point** in the season, and a single column called `'Handshake'` containing all ones. \n",
    "\n",
    "Similarly, create a DataFrame called `not_earned`, indexed by `'Season'` and `'Baker'`, that has a row for each baker who **never** received a handshake 🤝, and a single column called `'Handshake'` containing all zeros. \n",
    "\n",
    "***Note:*** There are several bakers by the same name, but never in the same season.\n",
    "\n",
    "***Hint:*** Check out the functions [`np.ones`](https://numpy.org/doc/stable/reference/generated/numpy.ones.html) and [`np.zeros`](https://numpy.org/doc/stable/reference/generated/numpy.zeros.html)."
   ]
  },
  {
   "cell_type": "code",
   "execution_count": null,
   "id": "696fc303",
   "metadata": {
    "scrolled": true
   },
   "outputs": [],
   "source": [
    "earned = ...\n",
    "earned"
   ]
  },
  {
   "cell_type": "code",
   "execution_count": null,
   "id": "bc12c713",
   "metadata": {
    "deletable": false,
    "editable": false
   },
   "outputs": [],
   "source": [
    "grader.check(\"q4_5_a\")"
   ]
  },
  {
   "cell_type": "code",
   "execution_count": null,
   "id": "73184cfc",
   "metadata": {},
   "outputs": [],
   "source": [
    "not_earned = ...\n",
    "not_earned"
   ]
  },
  {
   "cell_type": "code",
   "execution_count": null,
   "id": "c9902901",
   "metadata": {
    "deletable": false,
    "editable": false
   },
   "outputs": [],
   "source": [
    "grader.check(\"q4_5_b\")"
   ]
  },
  {
   "cell_type": "markdown",
   "id": "919e537a",
   "metadata": {},
   "source": [
    "Our `earned` and `not_earned` DataFrames contain the information we need to determine who falls into which group for our permutation test, but we need to combine this data with the Technical Challenge percentiles in `perc`. \n",
    "\n",
    "The first step is to combine the rows of `earned` and with those of `not_earned`. We'll do this using the `babypandas` DataFrame method `.append`, which is similar to the familiar `np.append`, but for DataFrames instead of arrays. The cell below puts the rows of `not_earned` onto the end of `earned` and saves the result as `shakes`. Don't worry if you see a warning; ignore it."
   ]
  },
  {
   "cell_type": "code",
   "execution_count": null,
   "id": "21aa5ca6",
   "metadata": {
    "scrolled": true
   },
   "outputs": [],
   "source": [
    "shakes = earned.append(not_earned)\n",
    "shakes"
   ]
  },
  {
   "cell_type": "markdown",
   "id": "69be72e4",
   "metadata": {},
   "source": [
    "Now we need to merge `shakes` with `perc` to get the handshake 🤝 data and the percentile data in one DataFrame. Since there are multiple bakers that share a name, we need to merge by *both* `'Season'` and `'Baker'`, which we can do by merging on a list containing both column names. Run the cell below to complete the merge and save the result as `perc_shakes`."
   ]
  },
  {
   "cell_type": "code",
   "execution_count": null,
   "id": "35af9f28",
   "metadata": {},
   "outputs": [],
   "source": [
    "perc_shakes = perc.merge(shakes, left_on=['Season', 'Baker'], right_index=True)\n",
    "perc_shakes"
   ]
  },
  {
   "cell_type": "markdown",
   "id": "ffd91442",
   "metadata": {},
   "source": [
    "**Question 4.6.** Now perform a permutation test, mimicking the procedure of Question 4.3, to help you analyze the following claim. \n",
    "\n",
    "The contestants who have gotten a handshake 🤝 claim that they are more technically skilled than the other contestants. Based on your permutation test, using a p-value of cutoff of 0.01, do you think this claim is likely accurate? Set `handshake_claim` to True or False."
   ]
  },
  {
   "cell_type": "code",
   "execution_count": null,
   "id": "d364ace2",
   "metadata": {},
   "outputs": [],
   "source": [
    "handshake_claim = ...\n",
    "handshake_claim"
   ]
  },
  {
   "cell_type": "code",
   "execution_count": null,
   "id": "12eed745",
   "metadata": {
    "deletable": false,
    "editable": false
   },
   "outputs": [],
   "source": [
    "grader.check(\"q4_6\")"
   ]
  },
  {
   "cell_type": "markdown",
   "id": "68c88e9a",
   "metadata": {},
   "source": [
    "<a id='section5'></a>\n",
    "## Section 5: Devilishly Difficult Challenges 😈\n",
    "\n",
    "Contestants on the Great British Bake Off sometimes groan when the hosts announce that the upcoming Technical Challenge was chosen by judge Paul Hollywood. Paul has a reputation for posing exceptionally difficult challenges and most bakers believe that his recipes are much harder than those of his co-judges, Mary Berry and Prue Leith. We want to examine whether this theory is justified by the data. \n",
    "\n",
    "The `technical_challenge_recipes` DataFrame contains 83 Technical Challenge recipes from seasons 1 through 9. Each Technical Challenge is posed by one particular judge, and comes from their personal collection of recipes. In the first nine seasons, Mary posed 32 Technical Challenges, Paul posed 41, and Prue posed 10. The `technical_challenge_recipes` DataFrame includes a `'DifficultyScore'` for each recipe, with more challenging recipes having higher scores."
   ]
  },
  {
   "cell_type": "markdown",
   "id": "b1b5116e",
   "metadata": {},
   "source": [
    "**Question 5.1.** Create a DataFrame `mean_by_judge` with the judge's name as the index and just one column called `'mean_difficulty_score'` that contains the mean difficulty score for each judge's Technical Challenges. "
   ]
  },
  {
   "cell_type": "code",
   "execution_count": null,
   "id": "bc178c53",
   "metadata": {},
   "outputs": [],
   "source": [
    "technical_challenge_recipes"
   ]
  },
  {
   "cell_type": "code",
   "execution_count": null,
   "id": "5a114010",
   "metadata": {},
   "outputs": [],
   "source": [
    "mean_by_judge = technical_challenge_recipes.get(['Whose','DifficultyScore']).groupby('Whose').mean()\n",
    "mean_by_judge = mean_by_judge.assign(mean_difficulty_score = mean_by_judge.get('DifficultyScore')).drop(columns = 'DifficultyScore')\n",
    "mean_by_judge"
   ]
  },
  {
   "cell_type": "code",
   "execution_count": null,
   "id": "d3596dd8",
   "metadata": {
    "deletable": false,
    "editable": false
   },
   "outputs": [],
   "source": [
    "grader.check(\"q5_1\")"
   ]
  },
  {
   "cell_type": "markdown",
   "id": "e290b87f",
   "metadata": {},
   "source": [
    "If you solved this problem correctly, you will notice that Mary and Paul both have an average difficulty of less than 5, whereas Prue has a mean difficulty greater than 7. Does it mean that Prue, in fact, is the devil when it comes to Technical Challenges? In other words, does Prue have a much more challenging recipe collection than the other judges? Or is this all by chance?\n",
    "\n",
    "Suppose each judge has an extensive personal recipe collection with recipes of varying difficulty, and the Technical Challenges for each episode are drawn randomly from this collection. We want to estimate the average difficulty of all recipes in each judge's collection. Unfortunately, we don't have access to a judge's entire recipe collection, we only have access to the sample of recipes they've used for Technical Challenges in the Great British Bake Off. Thus, we will tackle this problem using **bootstrapping**. \n",
    "\n",
    "**Question 5.2.** Below, write a function called `simulate_estimates`. It should take 3 arguments:\n",
    "- `sample_df`: A DataFrame with a row for each element of the original sample. In this case, it will consist of Technical Challenges posed by a particular judge.\n",
    "- `variable`: The column name of the relevant variable, whose mean we want to estimate.\n",
    "- `repetitions`: The number of repetitions to perform (i.e., the number of resamples to create).\n",
    "\n",
    "It should take `repetitions` resamples with replacement from the given DataFrame. For each of those resamples, it should compute the mean of the relevant variable for that resample. Then it should return an array containing the value of those means for each resample."
   ]
  },
  {
   "cell_type": "code",
   "execution_count": null,
   "id": "3076f29e",
   "metadata": {},
   "outputs": [],
   "source": [
    "def simulate_estimates(sample_df, variable, repetitions):\n",
    "    '''Returns an array of length repetitions, containing bootstrapped means of the variable from sample_df. '''\n",
    "    bootstrapped_means = np.array([])\n",
    "    \n",
    "    for i in np.arange(repetitions):\n",
    "        resample = sample_df.sample(sample_df.shape[0], replace = True)\n",
    "        mean = resample.get(variable).mean()\n",
    "        bootstrapped_means = np.append(bootstrapped_means, mean)\n",
    "        \n",
    "    return bootstrapped_means"
   ]
  },
  {
   "cell_type": "code",
   "execution_count": null,
   "id": "304ca252",
   "metadata": {
    "deletable": false,
    "editable": false
   },
   "outputs": [],
   "source": [
    "grader.check(\"q5_2\")"
   ]
  },
  {
   "cell_type": "markdown",
   "id": "b71dea01",
   "metadata": {},
   "source": [
    "**Question 5.3.** Use your function `simulate_estimates` to estimate the mean difficulty score of three judges' recipe collections. Use `repetitions = 5000`, and save your arrays of bootstrapped means for each judge in the variables `mary_boot_means`, `paul_boot_means`, and `prue_boot_means`.  \n",
    "\n",
    "Then, plot the distributions of all three of these arrays in one overlaid histogram. Use `bins=np.arange(2,10,0.2)` and set `alpha=0.5` (this changes the opacity to see the distribution more clearly).\n",
    "\n",
    "***Hint:*** Create a DataFrame with one column for each judge's bootstrapped means, and use this to plot the histogram."
   ]
  },
  {
   "cell_type": "code",
   "execution_count": null,
   "id": "edd7e4da",
   "metadata": {},
   "outputs": [],
   "source": [
    "mary_boot_means = simulate_estimates(technical_challenge_recipes[technical_challenge_recipes.get('Whose') == 'Mary'], 'DifficultyScore', 5000)\n",
    "paul_boot_means = simulate_estimates(technical_challenge_recipes[technical_challenge_recipes.get('Whose') == 'Paul'], 'DifficultyScore', 5000)\n",
    "prue_boot_means = simulate_estimates(technical_challenge_recipes[technical_challenge_recipes.get('Whose') == 'Prue'], 'DifficultyScore', 5000)\n",
    "\n",
    "bootstrapped_df = bpd.DataFrame().assign(Mary_Difficulty = mary_boot_means, Paul_Difficulty = paul_boot_means, Prue_Difficulty = prue_boot_means)\n",
    "# Plot your overlaid histogram here.\n",
    "bootstrapped_df.plot(kind='hist', density=True, ec='w', bins=np.arange(2,10,0.2), alpha=0.5);"
   ]
  },
  {
   "cell_type": "code",
   "execution_count": null,
   "id": "db3e5c33",
   "metadata": {
    "deletable": false,
    "editable": false
   },
   "outputs": [],
   "source": [
    "grader.check(\"q5_3\")"
   ]
  },
  {
   "cell_type": "markdown",
   "id": "af4720ea",
   "metadata": {},
   "source": [
    "**Question 5.4.** Now we want to calculate three 95% confidence intervals for the mean difficulty score of recipes from each of the three judges. To do this, create a function `confidence_interval_95`, which takes in an array of bootstrapped statistics `boot_stats` and returns a list of length two, containing the left endpoint and the right endpoint of the 95% confidence interval. "
   ]
  },
  {
   "cell_type": "code",
   "execution_count": null,
   "id": "15496a46",
   "metadata": {},
   "outputs": [],
   "source": [
    "def confidence_interval_95(boot_stats):\n",
    "    '''Returns a list of the endpoints of a 95% confidence interval based on boot_stats.'''\n",
    "    left_endpoint = np.percentile(boot_stats, 2.5)\n",
    "    right_endpoint = np.percentile(boot_stats, 97.5)\n",
    "    \n",
    "    return [left_endpoint, right_endpoint]\n",
    "\n",
    "print(\"Mary 95% CI:\", confidence_interval_95(mary_boot_means))\n",
    "print(\"Paul 95% CI:\", confidence_interval_95(paul_boot_means))\n",
    "print(\"Prue 95% CI:\", confidence_interval_95(prue_boot_means))"
   ]
  },
  {
   "cell_type": "code",
   "execution_count": null,
   "id": "7476aff3",
   "metadata": {
    "deletable": false,
    "editable": false
   },
   "outputs": [],
   "source": [
    "grader.check(\"q5_4\")"
   ]
  },
  {
   "cell_type": "markdown",
   "id": "aa710831",
   "metadata": {},
   "source": [
    "**Question 5.5.** Based on your results, which of the following statements are correct? Assign `true_statements` to a list containing **all** the true statements. \n",
    "\n",
    "1. Paul's recipes are generally harder than the other judges' recipes.\n",
    "2. Prue's recipes are generally harder than the other judges' recipes.\n",
    "3. Prue and Mary's confidence intervals overlap.\n",
    "4. Mary and Paul's confidence intervals overlap.\n",
    "5. Mary's confidence interval is wider than Paul's.\n",
    "6. Prue's confidence interval is wider than Mary's."
   ]
  },
  {
   "cell_type": "code",
   "execution_count": null,
   "id": "625b3b85",
   "metadata": {},
   "outputs": [],
   "source": [
    "true_statements = [2, 4, 5, 6]\n",
    "true_statements"
   ]
  },
  {
   "cell_type": "code",
   "execution_count": null,
   "id": "004be2b1",
   "metadata": {
    "deletable": false,
    "editable": false
   },
   "outputs": [],
   "source": [
    "grader.check(\"q5_5\")"
   ]
  },
  {
   "cell_type": "markdown",
   "id": "f7251f5f",
   "metadata": {},
   "source": [
    "**Question 5.6.** If your calculation is correct, you will see that Prue's confidence interval is almost twice as wide as the other two judges' confidence intervals. Why is Prue's confidence interval wider? \n",
    "\n",
    "Assign either 1, 2, or 3 to the variable `why_wider` below.\n",
    "\n",
    "1. She has more challenging recipes in her collection.\n",
    "2. She has posed fewer Technical Challenges.\n",
    "3. She has posed Technical Challenges with a wider range of difficulty levels."
   ]
  },
  {
   "cell_type": "code",
   "execution_count": null,
   "id": "748d3d69",
   "metadata": {},
   "outputs": [],
   "source": [
    "why_wider = 2\n",
    "why_wider"
   ]
  },
  {
   "cell_type": "code",
   "execution_count": null,
   "id": "fa65640d",
   "metadata": {
    "deletable": false,
    "editable": false
   },
   "outputs": [],
   "source": [
    "grader.check(\"q5_6\")"
   ]
  },
  {
   "cell_type": "markdown",
   "id": "c428ed05",
   "metadata": {},
   "source": [
    "From what we've done so far, it's clear that Prue's recipes have a very different difficulty level than the recipes of the other two judges. Now let's address a different question: how does the average difficulty of Paul's recipes compare to the average difficulty of Mary's recipes? \n",
    "\n",
    "**Question 5.7.** Create a DataFrame called `mary_only` containing only the recipes in our original `technical_challenge_recipes` sample from Mary's collection. Then, create another DataFrame called `paul_only` containing only the recipes in our original sample from Paul's collection. Then, set `observed_diff_mean` to the difference in mean difficulty score between Mary's recipes and Paul's recipes in our sample (subtract in the order Mary minus Paul)."
   ]
  },
  {
   "cell_type": "code",
   "execution_count": null,
   "id": "39eb1663",
   "metadata": {},
   "outputs": [],
   "source": [
    "mary_only = technical_challenge_recipes[technical_challenge_recipes.get('Whose') == 'Mary']\n",
    "paul_only = technical_challenge_recipes[technical_challenge_recipes.get('Whose') == 'Paul']\n",
    "observed_diff_mean = mary_only.get('DifficultyScore').mean() - paul_only.get('DifficultyScore').mean()\n",
    "observed_diff_mean"
   ]
  },
  {
   "cell_type": "code",
   "execution_count": null,
   "id": "7b61d69e",
   "metadata": {
    "deletable": false,
    "editable": false
   },
   "outputs": [],
   "source": [
    "grader.check(\"q5_7\")"
   ]
  },
  {
   "cell_type": "markdown",
   "id": "efc91197",
   "metadata": {},
   "source": [
    "So there is definitely a difference in mean difficulty scores between Mary's and Paul's Technical Challenge recipes, within our sample of recipes that have appeared as Technical Challenges in the show. But does this reflect a difference in mean recipe difficulty scores in the population (the judges' recipe collections), or was it by chance that our sample's difficulty displayed this difference? Let's do a hypothesis test to find out. We'll state our hypotheses as follows:\n",
    "\n",
    "- **Null Hypothesis:** The mean difficulty of Mary's recipe collection equals the mean difficulty of Paul's recipe collection. Equivalently, the difference in the mean difficulty for Mary's and Paul's recipes equals 0.\n",
    "- **Alternative Hypothesis:** The mean difficulty of Mary's recipe collection does not equal the mean difficulty of Paul's recipe collection. Equivalently, the difference in the mean difficulty for Mary's and Paul's recipe does not equal 0.\n",
    "\n",
    "Since we were able to set up our hypothesis test as a question of whether our population parameter – the difference in mean difficulty scores for Mary's and Paul's recipe collections – is equal to a certain value, we can **test our hypotheses by constructing a confidence interval for the parameter**. This is the method we used in Lecture 21 to test whether the mean human body temperature was actually 98.6 degrees Fahrenheit. For a refresher on this method, you can read more about conducting a hypothesis test with a confidence interval in [CIT 13.4](https://inferentialthinking.com/chapters/13/4/Using_Confidence_Intervals.html#)."
   ]
  },
  {
   "cell_type": "markdown",
   "id": "404e88ca",
   "metadata": {},
   "source": [
    "**Question 5.8.** Compute 1000 bootstrapped estimates for the difference in the mean difficulty for Mary's recipes and Paul's recipes (subtract in the order Mary minus Paul). Store your 1000 estimates in the `difference_means` array.\n",
    "\n",
    "You should generate your resamples of Mary's recipes by sampling from `mary_only`, and similarly for Paul, by sampling from `paul_only`. You should not use `technical_challenge_recipes` at all."
   ]
  },
  {
   "cell_type": "code",
   "execution_count": null,
   "id": "8c3b10c0",
   "metadata": {},
   "outputs": [],
   "source": [
    "np.random.seed(57) # Don't change this. This is for the autograder.\n",
    "\n",
    "difference_means = np.array([])\n",
    "\n",
    "for i in np.arange(1000):\n",
    "    mary_boot_means = mary_only.sample(mary_only.shape[0], replace = True).get('DifficultyScore').mean()\n",
    "    paul_boot_means = paul_only.sample(paul_only.shape[0], replace = True).get('DifficultyScore').mean()\n",
    "    difference_means = np.append(difference_means, mary_boot_means - paul_boot_means)\n",
    "\n",
    "# Just display the first ten differences.\n",
    "difference_means[:10]"
   ]
  },
  {
   "cell_type": "code",
   "execution_count": null,
   "id": "efc4677c",
   "metadata": {
    "deletable": false,
    "editable": false
   },
   "outputs": [],
   "source": [
    "grader.check(\"q5_8\")"
   ]
  },
  {
   "cell_type": "markdown",
   "id": "b7568b28",
   "metadata": {},
   "source": [
    "Let's visualize your estimates:"
   ]
  },
  {
   "cell_type": "code",
   "execution_count": null,
   "id": "0c3ff1c1",
   "metadata": {},
   "outputs": [],
   "source": [
    "(bpd.DataFrame().assign(DifferenceMeans = difference_means)\n",
    " .plot(kind='hist', density=True, ec='w', figsize=(10, 5)));"
   ]
  },
  {
   "cell_type": "markdown",
   "id": "825b0a3d",
   "metadata": {},
   "source": [
    "**Question 5.9.** Use the function `confidence_interval_95` you created before to compute a 95% confidence interval for the difference in the mean difficulty of Mary's and Paul's recipes (as before, Mary's minus Paul's). Assign to `mary_paul_difference_CI` a list containing the endpoints of this confidence interval."
   ]
  },
  {
   "cell_type": "code",
   "execution_count": null,
   "id": "35521324",
   "metadata": {},
   "outputs": [],
   "source": [
    "left_end = np.percentile(difference_means, 2.5)\n",
    "right_end = np.percentile(difference_means, 97.5)\n",
    "\n",
    "mary_paul_difference_CI = [left_end, right_end]\n",
    "mary_paul_difference_CI"
   ]
  },
  {
   "cell_type": "code",
   "execution_count": null,
   "id": "8afd862c",
   "metadata": {
    "deletable": false,
    "editable": false
   },
   "outputs": [],
   "source": [
    "grader.check(\"q5_9\")"
   ]
  },
  {
   "cell_type": "markdown",
   "id": "d87215ed",
   "metadata": {},
   "source": [
    "Recall the hypotheses we were testing:\n",
    "- **Null Hypothesis:** The mean difficulty of Mary's recipe collection equals the mean difficulty of Paul's recipe collection. Equivalently, the difference in the mean difficulty for Mary's and Paul's recipes equals 0.\n",
    "- **Alternative Hypothesis:** The mean difficulty of Mary's recipe collection does not equal the mean difficulty of Paul's recipe collection. Equivalently, the difference in the mean difficulty for Mary's and Paul's recipe does not equal 0.\n",
    "\n",
    "**Question 5.10.** Based on the confidence interval you've created, would you reject the null hypothesis at the 0.05 significance level? Set `reject_null_mary_paul` to True if you would reject the null hypothesis, and False if you would not."
   ]
  },
  {
   "cell_type": "code",
   "execution_count": null,
   "id": "251d593e",
   "metadata": {},
   "outputs": [],
   "source": [
    "reject_null_mary_paul = False\n",
    "reject_null_mary_paul"
   ]
  },
  {
   "cell_type": "code",
   "execution_count": null,
   "id": "f2733219",
   "metadata": {
    "deletable": false,
    "editable": false
   },
   "outputs": [],
   "source": [
    "grader.check(\"q5_10\")"
   ]
  },
  {
   "cell_type": "markdown",
   "id": "8db86708",
   "metadata": {},
   "source": [
    "We have now uncovered some interesting facts about the difficulty levels of the different judges' recipe collections. However, we also want to know whether the judges' recipe collections have other differences. For example, do certain judges have recipes with more ingredients, more components, or longer instructions?\n",
    "\n",
    "To do this, we want to generalize our simulation code so that we can create a confidence interval for any variable.\n",
    "\n",
    "**Question 5.11.** Create a function called `bootstrap_estimation`, which takes in 4 inputs:\n",
    "- `sample_df`, A DataFrame with a row for each element of the original sample (Technical Challenge recipes posed by one or more judges)\n",
    "- `judges`, a list of judge's names we want to compare, which can include any number of \"Paul\", \"Mary\", and \"Prue\"\n",
    "- `variable`, the column name of the relevant variable, whose mean we want to estimate \n",
    "- `repetitions`, the number of repetitions to perform (i.e., the number of resamples to create)\n",
    "\n",
    "The function should adhere to these specifications:\n",
    "1. The function should generate an overlaid histogram showing each of the specified judges' simulated means of the given variable. Make sure to give your histogram a descriptive title and to use appropriate labels. Use `bins=20`, `alpha=0.5`, and `figsize=(10,5)`.\n",
    "2. The function should print a statement with the 95% confidence interval for the mean value of the given variable for each of the specified judges. See the example below for the type of statement to print, but the exact formatting is up to you.\n",
    "3. The function should return nothing.\n",
    "\n",
    "***Hints:***\n",
    "- This is designed to be a challenging question, but remember that you can use any of the functions you've already created. \n",
    "- Our solution uses an `if`-statement to assign columns named `'Mary_mean_estimate'`, `'Paul_mean_estimate'`, or `'Prue_mean_estimate'`.\n",
    "\n",
    "Here is an example output that shows a comparison of estimates for the mean number of dirty dishes produced by recipes in each of the three judges' collections.\n",
    "<img src=\"images/desired_output.jpg\" width = 700>"
   ]
  },
  {
   "cell_type": "code",
   "execution_count": null,
   "id": "1866074e",
   "metadata": {},
   "outputs": [],
   "source": [
    "def bootstrap_estimation(sample_df, judges, variable, repetitions):\n",
    "    '''Generates a histogram and for each judge, a confidence interval for the mean value of the variable from sample_df.'''\n",
    "\n",
    "# Try to replicate the graph shown in the example.\n",
    "bootstrap_estimation(technical_challenge_recipes, ['Mary', 'Paul', 'Prue'], 'Dishes', 1000)"
   ]
  },
  {
   "cell_type": "markdown",
   "id": "9d4e7492",
   "metadata": {},
   "source": [
    "**Question 5.12.** Using the `bootstrap_estimation` function you just wrote, create histograms and confidence intervals that would help you answer each of the following questions. Use `repetitions=1000`. \n",
    "\n",
    "1. Whose recipes have more sentences on average, Mary's or Paul's?\n",
    "2. Of the three judges, how do their average counts of recipe ingredients compare?\n",
    "\n",
    "For each part, all you need to do is make one call to `bootstrap_estimation` with the appropriate inputs."
   ]
  },
  {
   "cell_type": "markdown",
   "id": "8e4dff57",
   "metadata": {
    "deletable": false,
    "editable": false
   },
   "source": [
    "<!-- BEGIN QUESTION -->\n",
    "\n",
    "<!--\n",
    "BEGIN QUESTION\n",
    "name: q5_12\n",
    "manual: True\n",
    "points: 2\n",
    "\n",
    "-->"
   ]
  },
  {
   "cell_type": "code",
   "execution_count": null,
   "id": "ae8df121",
   "metadata": {
    "scrolled": true
   },
   "outputs": [],
   "source": [
    "# For question 1, make your function call here.\n",
    "\n",
    "..."
   ]
  },
  {
   "cell_type": "markdown",
   "id": "27218466",
   "metadata": {
    "deletable": false,
    "editable": false
   },
   "source": [
    "<!-- END QUESTION -->"
   ]
  },
  {
   "cell_type": "code",
   "execution_count": null,
   "id": "f868d455",
   "metadata": {
    "scrolled": true
   },
   "outputs": [],
   "source": [
    "# For question 2, make your function call here.\n",
    "\n",
    "..."
   ]
  },
  {
   "cell_type": "markdown",
   "id": "f1ad4c90",
   "metadata": {},
   "source": [
    "Feel free to explore other questions with other variables as you wish. But at this point, the devilish judge should be clear!  😈"
   ]
  },
  {
   "cell_type": "markdown",
   "id": "63429140",
   "metadata": {},
   "source": [
    "<a id='section6'></a>\n",
    "## Section 6: Piece of Cake? 🍰\n",
    "\n",
    "In this section of the project, we'll focus on probability."
   ]
  },
  {
   "cell_type": "markdown",
   "id": "a132d2fb",
   "metadata": {},
   "source": [
    "**Question 6.1.** You wonder if it takes a lot of skill to win the bake off. If we randomly select a (series) winner from the first ten seasons of the show, what is the probability that they came first in one of the Technical Challenges? Use the `bakers` DataFrame to calculate this probability and assign your answer to the variable `p_tech_given_win`.\n",
    "\n"
   ]
  },
  {
   "cell_type": "code",
   "execution_count": null,
   "id": "beacc61c",
   "metadata": {},
   "outputs": [],
   "source": [
    "p_tech_given_win = ...\n",
    "p_tech_given_win"
   ]
  },
  {
   "cell_type": "code",
   "execution_count": null,
   "id": "cf277e39",
   "metadata": {
    "deletable": false,
    "editable": false
   },
   "outputs": [],
   "source": [
    "grader.check(\"q6_1\")"
   ]
  },
  {
   "cell_type": "markdown",
   "id": "3e5995d7",
   "metadata": {},
   "source": [
    "**Question 6.2.** You wonder how frequently winners are recognized with the special designation of Star Baker ⭐. If we randomly select a winner from the first ten seasons of the show, what is the probability that they won Star Baker ⭐ at some point? Assign your answer to the variable `p_star_given_win`."
   ]
  },
  {
   "cell_type": "code",
   "execution_count": null,
   "id": "132d4b8a",
   "metadata": {},
   "outputs": [],
   "source": [
    "p_star_given_win = ...\n",
    "p_star_given_win"
   ]
  },
  {
   "cell_type": "code",
   "execution_count": null,
   "id": "6c844409",
   "metadata": {
    "deletable": false,
    "editable": false
   },
   "outputs": [],
   "source": [
    "grader.check(\"q6_2\")"
   ]
  },
  {
   "cell_type": "markdown",
   "id": "b823334c",
   "metadata": {},
   "source": [
    "Notice that in both of the previous questions, you calculated a conditional probability. Among bakers who satisfy one condition (winning), what is the probability they satisfy another condition (placing first in a technical, or earning Star Baker ⭐). Let's generalize the code for these calculations so that we can more easily compute conditional probabilities with other conditions.\n",
    "\n",
    "**Question 6.3.** Your job is to implement the function `conditional_probability`. It has two arguments, `find` and `given`, both of which are lists. Let's walk through how it works, using an example – suppose we want to use it to compute the probability that a randomly selected contestant from `bakers` was a Star Baker ⭐, given that they won (the same probability that you computed in the previous question.)\n",
    "\n",
    "- `find` is a list of two elements:\n",
    "    - The first element in `find` is the column in `bakers` that contains the event that we are trying to find the probability of. This can be any column in `baker`; in our example, this is `'star_baker'`. \n",
    "    - The second element in `find` is the value in the aforementioned column that we're trying to find; in our example, this is `1`.\n",
    "- `given` is a list of two elements:\n",
    "    - The first element in `given` is the column in `bakers` that contains the event that we are given to be true. This can also be any column in `baker`; in our example, this is `'series_winner'`. \n",
    "    - The second element in `given` is the value in the aforementioned column; in our example, this is `1`.\n",
    "\n",
    "Putting this all together, this means that `conditional_probability(['star_baker', 1], ['series_winner', 1])` should evaluate to your answer from the previous part (but the `conditional_probability` function should work for any example, not just this one).\n"
   ]
  },
  {
   "cell_type": "code",
   "execution_count": null,
   "id": "3b9812e4",
   "metadata": {},
   "outputs": [],
   "source": [
    "def conditional_probability(find, given):\n",
    "    '''Returns the conditional probability of an event given a known condition.'''\n",
    "    ...\n",
    "    \n",
    "# This should evalaute to your answer to Question 6.2\n",
    "conditional_probability(['star_baker', 1], ['series_winner', 1])"
   ]
  },
  {
   "cell_type": "code",
   "execution_count": null,
   "id": "5c7d06a1",
   "metadata": {
    "deletable": false,
    "editable": false
   },
   "outputs": [],
   "source": [
    "grader.check(\"q6_3\")"
   ]
  },
  {
   "cell_type": "markdown",
   "id": "faf62fcc",
   "metadata": {},
   "source": [
    "**Question 6.4.** Now use the function `conditional_probability` to calculate the following probabilities:\n",
    "- `p_female_given_young`: The probability that a randomly chosen young contestant is female. 👧🏽\n",
    "- `p_female_given_elderly`: The probability that a randomly chosen elderly contestant is female. 👵"
   ]
  },
  {
   "cell_type": "code",
   "execution_count": null,
   "id": "5c29fd42",
   "metadata": {},
   "outputs": [],
   "source": [
    "p_female_given_young = ...\n",
    "p_female_given_elderly = ...\n",
    "\n",
    "# Don't change the code below.\n",
    "print(f'''P(female given young) = {p_female_given_young}\n",
    "P(female given elderly) = {p_female_given_elderly}''')"
   ]
  },
  {
   "cell_type": "code",
   "execution_count": null,
   "id": "5e577b22",
   "metadata": {
    "deletable": false,
    "editable": false
   },
   "outputs": [],
   "source": [
    "grader.check(\"q6_4\")"
   ]
  },
  {
   "cell_type": "markdown",
   "id": "8a7de51c",
   "metadata": {},
   "source": [
    "**Question 6.5.** Suppose the producers of the show want to do a special episode bringing back past contestants, as they often do for the holidays 🎄🕎. They decide to choose one contestant at random from each of the first ten seasons. What is the probability that there is at least one winner selected? Assign your answer to `p_include_winner`.\n",
    "\n",
    "***Hint:*** The function `np.prod` might be helpful. Here is a [link to its documentation](https://numpy.org/doc/stable/reference/generated/numpy.prod.html)."
   ]
  },
  {
   "cell_type": "code",
   "execution_count": null,
   "id": "a5007580",
   "metadata": {},
   "outputs": [],
   "source": [
    "p_include_winner = ...\n",
    "p_include_winner"
   ]
  },
  {
   "cell_type": "code",
   "execution_count": null,
   "id": "b5a08485",
   "metadata": {
    "deletable": false,
    "editable": false
   },
   "outputs": [],
   "source": [
    "grader.check(\"q6_5\")"
   ]
  },
  {
   "cell_type": "markdown",
   "id": "b2a99346",
   "metadata": {},
   "source": [
    "**Question 6.6.** You have dreams 💭 of being on the bake off yourself, and to practice, you decide to bake 10 Technical Challenge recipes, chosen at random **with replacement** from the `technical_challenge_recipes` DataFrame. What is the probability that all 10 of them have a `'DifficultyScore'` greater than 5? Assign your answer to `p_all_above_5`.\n",
    "\n",
    "***Note:*** Like all other questions in this section, this is a probability question. It does not require a simulation."
   ]
  },
  {
   "cell_type": "code",
   "execution_count": null,
   "id": "c0af72e5",
   "metadata": {
    "scrolled": true
   },
   "outputs": [],
   "source": [
    "p_all_above_5 = ...\n",
    "p_all_above_5"
   ]
  },
  {
   "cell_type": "code",
   "execution_count": null,
   "id": "33609a0e",
   "metadata": {
    "deletable": false,
    "editable": false
   },
   "outputs": [],
   "source": [
    "grader.check(\"q6_6\")"
   ]
  },
  {
   "cell_type": "markdown",
   "id": "c16c57e4",
   "metadata": {},
   "source": [
    "**Question 6.7.** After putting in a lot of time practicing the Technical Challenge recipes, you feel that you need to get some advice from a former participant. You originally had all their names and phone numbers ☎️ written down in your notebook 📓, but your dog 🐶 ate the portion of the notebook with their names, leaving you with a list of just phone numbers. You are left with no choice but to call one of them at random.\n",
    "\n",
    "But you also want quality advice, which in your mind are participants who have:\n",
    "- remained in the show for at least half a season, and\n",
    "- placed in the top 3 in at least one of the Technical Challenges.\n",
    "\n",
    "What is the probability that you will get quality advice from calling a random number from the list in your notebook? Assign your answer to `p_quality_advice`."
   ]
  },
  {
   "cell_type": "code",
   "execution_count": null,
   "id": "dab12733",
   "metadata": {},
   "outputs": [],
   "source": [
    "p_quality_advice = ...\n",
    "p_quality_advice"
   ]
  },
  {
   "cell_type": "code",
   "execution_count": null,
   "id": "085f76b8",
   "metadata": {
    "deletable": false,
    "editable": false
   },
   "outputs": [],
   "source": [
    "grader.check(\"q6_7\")"
   ]
  },
  {
   "cell_type": "markdown",
   "id": "358f7c45",
   "metadata": {},
   "source": [
    "<a id='section7'></a>\n",
    "## Section 7: Recipe Name Generator 👩‍🍳🖨️\n",
    "\n",
    "After seeing the creative bakes featured in the Signature and Showstopper Challenges, you're feeling inspired to invent some new recipes yourself. Instead of letting your tastebuds and your better judgment guide you, you decide to generate recipe titles *randomly* in a systematic way. \n",
    "\n",
    "All of your recipe titles will consist words chosen randomly from a limited set of options. There are **three categories of words**:\n",
    "1. *Ingredients* \n",
    "    - For example, \"Chocolate\", \"Pumpkin\", and \"Mint\".\n",
    "    \n",
    "2. *Items* \n",
    "    - For example, \"Cupcakes\", \"Croissants\", and \"Biscuits\".\n",
    "    \n",
    "3. *Extras* \n",
    "    - For example, \"Meringue\", \"Swirl\", and \"Ganache\".\n",
    "\n",
    "To generate a recipe title, you'll first randomly select a template for your recipe title. There are **four recipe templates**:\n",
    "1. *Ingredient Ingredient Item with Ingredient Extra* \n",
    "    - For example, \"Chocolate Mint Cupcakes with Pumpkin Swirl\".\n",
    "2. *Item with Ingredient Extra*  \n",
    "    - For example \"Croissants with Mint Ganache\".\n",
    "3. *Ingredient, Ingredient, and Ingredient Item* \n",
    "    - For example, \"Mint, Chocolate, and Pumpkin Biscuits\".\n",
    "4. *Ingredient Ingredient Item* \n",
    "    - For example, \"Pumpkin Chocolate Croissants\".\n",
    "\n",
    "Once you have determined the template, you will randomly select *Ingredients*, *Items*, and *Extras* in the appropriate quantities. Each category of words has an associated probability distribution that describes the likelihood of each word in the category being chosen. \n",
    "\n",
    "Run the next three cells to see the possible words in each category, as well as the probability of choosing each word."
   ]
  },
  {
   "cell_type": "code",
   "execution_count": null,
   "id": "f4513c5f",
   "metadata": {
    "scrolled": true
   },
   "outputs": [],
   "source": [
    "ingredient_df = bpd.read_csv('data/ingredients.csv')\n",
    "ingredient_df"
   ]
  },
  {
   "cell_type": "code",
   "execution_count": null,
   "id": "3a15d63b",
   "metadata": {},
   "outputs": [],
   "source": [
    "item_df = bpd.read_csv('data/items.csv')\n",
    "item_df"
   ]
  },
  {
   "cell_type": "code",
   "execution_count": null,
   "id": "2092ba33",
   "metadata": {},
   "outputs": [],
   "source": [
    "extra_df = bpd.read_csv('data/extras.csv')\n",
    "extra_df"
   ]
  },
  {
   "cell_type": "markdown",
   "id": "20c676d4",
   "metadata": {},
   "source": [
    "**Question 7.1.** Write a function called `one_recipe` that generates a random recipe title using the process described above. Start by choosing one of the four possible templates at random, such that each has an equal probability of being selected. Once you have your template, select words from `ingredient_df`, `item_df`, and `extra_df` as required. \n",
    "\n",
    "If you need to select multiple ingredients, make sure to choose them **without replacement** because each ingredient should only occur once in a recipe title. For example, you should not generate \"Pumpkin Pumpkin Cupcakes\". \n",
    "\n",
    "Your function `one_recipe` should return the title of one randomly generated recipe.\n",
    "\n",
    "***Hint:*** Use `np.random.choice` and take advantage of the option to specify the probability of each item being selected. See the [documentation](https://numpy.org/doc/stable/reference/random/generated/numpy.random.choice.html).\n"
   ]
  },
  {
   "cell_type": "code",
   "execution_count": null,
   "id": "f67a4cc3",
   "metadata": {},
   "outputs": [],
   "source": [
    "# Templates:\n",
    "# 1. Ingredient Ingredient Item with Ingredient Extra \n",
    "# 2. Item with Ingredient Extra  \n",
    "# 3. Ingredient, Ingredient, and Ingredient Item \n",
    "# 4. Ingredient Ingredient Item\n",
    "\n",
    "def one_recipe():\n",
    "    ...\n",
    "\n",
    "one_recipe()"
   ]
  },
  {
   "cell_type": "code",
   "execution_count": null,
   "id": "ab8e283d",
   "metadata": {
    "deletable": false,
    "editable": false
   },
   "outputs": [],
   "source": [
    "grader.check(\"q7_1\")"
   ]
  },
  {
   "cell_type": "markdown",
   "id": "1c9162b8",
   "metadata": {},
   "source": [
    "**Question 7.2.** Generate 10,000 recipe titles and store them in an array called `recipe_titles`. "
   ]
  },
  {
   "cell_type": "code",
   "execution_count": null,
   "id": "99f161ce",
   "metadata": {
    "scrolled": true
   },
   "outputs": [],
   "source": [
    "recipe_titles = ...\n",
    "recipe_titles"
   ]
  },
  {
   "cell_type": "code",
   "execution_count": null,
   "id": "3d9a6b13",
   "metadata": {
    "deletable": false,
    "editable": false
   },
   "outputs": [],
   "source": [
    "grader.check(\"q7_2\")"
   ]
  },
  {
   "cell_type": "markdown",
   "id": "7ef016ec",
   "metadata": {},
   "source": [
    "**Question 7.3.** You firmly believe that chocolate makes everything better. 🍫 🩹 Use the 10,000 recipe titles that you generated to estimate the probability that a randomly generated recipe title includes the word \"Chocolate\". Store your estimate in the variable `prob_chocolate`."
   ]
  },
  {
   "cell_type": "code",
   "execution_count": null,
   "id": "2d77a306",
   "metadata": {},
   "outputs": [],
   "source": [
    "prob_chocolate = ...\n",
    "prob_chocolate"
   ]
  },
  {
   "cell_type": "code",
   "execution_count": null,
   "id": "7bc0cf79",
   "metadata": {
    "deletable": false,
    "editable": false
   },
   "outputs": [],
   "source": [
    "grader.check(\"q7_3\")"
   ]
  },
  {
   "cell_type": "markdown",
   "id": "7f93676f",
   "metadata": {},
   "source": [
    "**Question 7.4.** You're also a big fan of cupcakes. 🧁 Use the 10,000 recipe titles that you generated to estimate the probability that a randomly generated recipe title includes the word \"Cupcakes\". Store your estimate in the variable `prob_cupcakes`."
   ]
  },
  {
   "cell_type": "code",
   "execution_count": null,
   "id": "a50deb81",
   "metadata": {
    "scrolled": true
   },
   "outputs": [],
   "source": [
    "prob_cupcakes = ...\n",
    "prob_cupcakes"
   ]
  },
  {
   "cell_type": "code",
   "execution_count": null,
   "id": "849ef191",
   "metadata": {
    "deletable": false,
    "editable": false
   },
   "outputs": [],
   "source": [
    "grader.check(\"q7_4\")"
   ]
  },
  {
   "cell_type": "markdown",
   "id": "7177d3d3",
   "metadata": {},
   "source": [
    "You should have found that your estimate for the probability of a randomly generated recipe containing the word \"Chocolate\" is significantly higher than the probability associated with the word \"Chocolate\" in `ingredient_df`. Yet, you also should have found that your estimate the probability of a randomly generated recipe containing the word \"Cupcakes\" is about the same as the probability associated with the word \"Cupcakes\" in `item_df`. \n",
    "\n",
    "Compare these values by running the cell below."
   ]
  },
  {
   "cell_type": "code",
   "execution_count": null,
   "id": "ac46b3ca",
   "metadata": {
    "scrolled": true
   },
   "outputs": [],
   "source": [
    "print(\"The probability associated with Chocolate in the DataFrame is \"+\n",
    "      str(ingredient_df.get('probabilities').iloc[0])+\n",
    "      \" and your estimated probability of Chocolate is \"+\n",
    "      str(prob_chocolate)+\".\\n\")\n",
    "\n",
    "print(\"The probability associated with Cupcakes in the DataFrame is \"+\n",
    "      str(item_df.get('probabilities').iloc[0])+\n",
    "      \" and your estimated probability of Cupcakes is \"+\n",
    "      str(prob_cupcakes)+\".\")"
   ]
  },
  {
   "cell_type": "markdown",
   "id": "f5d2e26b",
   "metadata": {},
   "source": [
    "**Question 7.5** Why is the probability for \"Cupcakes\" so similar to the value in the DataFrame but the probability for \"Chocolate\" so different? How can you explain this phenomenon?"
   ]
  },
  {
   "cell_type": "markdown",
   "id": "7e68135c",
   "metadata": {
    "deletable": false,
    "editable": false
   },
   "source": [
    "<!-- BEGIN QUESTION -->\n",
    "\n",
    "<!--\n",
    "BEGIN QUESTION\n",
    "name: q7_5\n",
    "points: 1\n",
    "manual: True\n",
    "-->"
   ]
  },
  {
   "cell_type": "markdown",
   "id": "ab3f2056",
   "metadata": {},
   "source": [
    "_Type your answer here, replacing this text._"
   ]
  },
  {
   "cell_type": "markdown",
   "id": "d905b22c",
   "metadata": {},
   "source": [
    "<!-- END QUESTION -->\n",
    "\n",
    "\n",
    "\n",
    "<a id='section8'></a>\n",
    "## Section 8: Dishwashing 🧼🍽️\n",
    "\n",
    "In this section, we will explore whether the difficulty of a recipe is correlated with the number of dirty dishes it produces. Regression is helpful when we want to use one numerical value to predict another numerical value.\n",
    "\n",
    "Let's start by visualizing the data with a scatter plot to see if linear regression would make sense for this dataset."
   ]
  },
  {
   "cell_type": "code",
   "execution_count": null,
   "id": "e8024048",
   "metadata": {
    "scrolled": true
   },
   "outputs": [],
   "source": [
    "technical_challenge_recipes.plot(kind='scatter', x='DifficultyScore', y='Dishes');"
   ]
  },
  {
   "cell_type": "markdown",
   "id": "98eeff93",
   "metadata": {},
   "source": [
    "Based on the scatter plot, it seems like linear regression would be an appropriate tool. Let's proceed!"
   ]
  },
  {
   "cell_type": "markdown",
   "id": "72e5ea51",
   "metadata": {},
   "source": [
    "**Question 8.1.** Complete the function `standard_units` which takes in an array or Series of numerical data and returns an array with the values in standard units. Then use your function to standardize the `'DifficultyScore'` and `'Dishes'` columns from `technical_challenge_recipes`. Store the standardized arrays in the variables `difficulty_standard` and `dishes_standard`. \n",
    "\n",
    "***Note:*** Since the inputs to the `standard_units` function might be arrays or Series with some missing values, use [`np.nanmean`](https://numpy.org/doc/stable/reference/generated/numpy.nanmean.html) and [`np.nanstd`](https://numpy.org/doc/stable/reference/generated/numpy.nanstd.html) to compute means and standard deviations. These will ignore the missing values in the computation of the mean and standard deviation.\n"
   ]
  },
  {
   "cell_type": "code",
   "execution_count": null,
   "id": "6d131a6c",
   "metadata": {},
   "outputs": [],
   "source": [
    "def standard_units(sequence):\n",
    "    '''Returns the input sequence as an array in standard units.'''\n",
    "    # Convert the input to an array, if it is not already.\n",
    "    sequence = np.array(sequence)\n",
    "    ...\n",
    "\n",
    "difficulty_standard = ...\n",
    "dishes_standard = ..."
   ]
  },
  {
   "cell_type": "code",
   "execution_count": null,
   "id": "f669f864",
   "metadata": {
    "deletable": false,
    "editable": false
   },
   "outputs": [],
   "source": [
    "grader.check(\"q8_1\")"
   ]
  },
  {
   "cell_type": "markdown",
   "id": "6fbee070",
   "metadata": {},
   "source": [
    "**Question 8.2.** Complete the function `correlation`, which should take in:\n",
    "1. `df`, a DataFrame,\n",
    "2. `independent`, the column label of the independent ($x$) variable, as a string, and \n",
    "3. `dependent`, the column label of the dependent ($y$) variable, as a string.\n",
    "\n",
    "The function should output the correlation between the two variables. As before, your function needs to work even if there are missing values in the DataFrame.\n",
    "\n",
    "Then, use your function to compute the correlation between `'DifficultyScore'` and `'Dishes'` and store your result in the variable `corr`."
   ]
  },
  {
   "cell_type": "code",
   "execution_count": null,
   "id": "cec5f348",
   "metadata": {},
   "outputs": [],
   "source": [
    "def correlation(df, independent, dependent):\n",
    "    '''Returns the correlation between the independent and dependent variables in the given DataFrame.'''\n",
    "    ...\n",
    "\n",
    "corr = ...\n",
    "corr"
   ]
  },
  {
   "cell_type": "code",
   "execution_count": null,
   "id": "4df0de4c",
   "metadata": {
    "deletable": false,
    "editable": false
   },
   "outputs": [],
   "source": [
    "grader.check(\"q8_2\")"
   ]
  },
  {
   "cell_type": "markdown",
   "id": "2c8a1ce5",
   "metadata": {},
   "source": [
    "**Question 8.3.** Now construct two functions, `reg_slope` and `reg_intercept`, which each take in the same three inputs as `correlation`. `reg_slope` should return the slope of the regression line and `reg_intercept` should return the intercept of the regression line, in original units. As before, your function needs to work even if there are missing values in the DataFrame.\n",
    "\n",
    "Use your function to store the slope and intercept of the regression line for  `'DifficultyScore'` and `'Dishes'` in the variables `slope` and `intercept`."
   ]
  },
  {
   "cell_type": "code",
   "execution_count": null,
   "id": "ed937a70",
   "metadata": {},
   "outputs": [],
   "source": [
    "def reg_slope(df, independent, dependent):\n",
    "    '''Returns the slope of the regression line in original units.'''\n",
    "    ...\n",
    "\n",
    "def reg_intercept(df, independent, dependent):\n",
    "    '''Return the intercept of the regression line in original units.'''\n",
    "    ...\n",
    "\n",
    "slope = ...\n",
    "intercept = ...\n",
    "slope, intercept"
   ]
  },
  {
   "cell_type": "code",
   "execution_count": null,
   "id": "d7537d0c",
   "metadata": {
    "deletable": false,
    "editable": false
   },
   "outputs": [],
   "source": [
    "grader.check(\"q8_3\")"
   ]
  },
  {
   "cell_type": "markdown",
   "id": "01fc3381",
   "metadata": {},
   "source": [
    "**Question 8.4.** Create a function called `predict` that takes in the same three inputs as `correlation`. `predict` should return an array of predicted values of the dependent variable calculated from the regression line. \n",
    "\n",
    "Use your function to create an array of the predicted number of dirty dishes for each recipe in the `technical_challenge_recipes` DataFrame, based on the recipe's difficulty. Save your answer as `predicted_dishes`. Note that the predicted number of dirty dishes need not be a whole number.\n"
   ]
  },
  {
   "cell_type": "code",
   "execution_count": null,
   "id": "09772e9b",
   "metadata": {
    "scrolled": true
   },
   "outputs": [],
   "source": [
    "def predict(df, independent, dependent):\n",
    "    '''Returns an array of predicted values of the dependent variable calculated from the regression line.'''\n",
    "...\n",
    "\n",
    "predicted_dishes = ..."
   ]
  },
  {
   "cell_type": "code",
   "execution_count": null,
   "id": "ee9a3cef",
   "metadata": {
    "deletable": false,
    "editable": false
   },
   "outputs": [],
   "source": [
    "grader.check(\"q8_4\")"
   ]
  },
  {
   "cell_type": "markdown",
   "id": "747c9d41",
   "metadata": {},
   "source": [
    "**Question 8.5.** Use the strategy for overlaying scatter plots described in [this tutorial](https://www.statology.org/pandas-scatter-plot-multiple-columns/) to create an overlaid scatter plot with:\n",
    "- a blue dot 🔵 for each recipe showing the difficulty on the $x$-axis and the number of dirty dishes on the $y$-axis (as in the scatter plot at the beginning of this section), and\n",
    "- a red dot 🔴 for each recipe showing the difficulty on the $x$-axis and the **predicted** number of dirty dishes on the $y$-axis.\n",
    "\n",
    "The red dots should form a straight line - that's the regression line!\n",
    "\n",
    "***Note:*** This is the first time you've been asked to make an overlaid scatter plot, so you'll need to learn something new to answer this question. Read the linked tutorial carefully and try to mimic their example; you can learn how to do a lot of things this way!"
   ]
  },
  {
   "cell_type": "markdown",
   "id": "c044e214",
   "metadata": {
    "deletable": false,
    "editable": false
   },
   "source": [
    "<!-- BEGIN QUESTION -->\n",
    "\n",
    "<!--\n",
    "BEGIN QUESTION\n",
    "name: q8_5\n",
    "points: 1\n",
    "manual: True\n",
    "-->"
   ]
  },
  {
   "cell_type": "code",
   "execution_count": null,
   "id": "49189be0",
   "metadata": {},
   "outputs": [],
   "source": [
    "# Create your overlaid scatter plot here.\n",
    "..."
   ]
  },
  {
   "cell_type": "markdown",
   "id": "0eeca850",
   "metadata": {},
   "source": [
    "<!-- END QUESTION -->\n",
    "\n",
    "\n",
    "\n",
    "**Question 8.6.** Use the equation of the regression line to answer the following questions. Check that your answers are reasonable using the scatter plot above. Note that the predicted number of dirty dishes need not be a whole number.\n",
    "\n",
    "1.  A recipe for crème caramel 🍮 has a difficulty score of 7.5. What is the predicted number of dirty dishes for this recipe? Save your answer as `creme_caramel`.\n",
    "2. A basic recipe for chocolate chip cookies 🍪 has a difficulty score of $d$ and an advanced recipe for gourmet chocolate chip cookies 🍪 has a difficulty score of $d+2$. How many additional dirty dishes would we predict the advanced recipe to create, as compared to the basic one? Save your answer as `cookies`.\n",
    "3. A recipe for pretzels 🥨 is predicted to create 6 dirty dishes. What is the difficulty of this recipe? Round to the nearest whole number and save your answer as `pretzels`."
   ]
  },
  {
   "cell_type": "code",
   "execution_count": null,
   "id": "095cfcee",
   "metadata": {},
   "outputs": [],
   "source": [
    "creme_caramel = ...\n",
    "cookies = ...\n",
    "pretzels = ...\n",
    "print(\"creme caramel: \", creme_caramel)\n",
    "print(\"cookies: \", cookies)\n",
    "print(\"pretzels: \", pretzels)"
   ]
  },
  {
   "cell_type": "code",
   "execution_count": null,
   "id": "ff9dc6b4",
   "metadata": {
    "deletable": false,
    "editable": false
   },
   "outputs": [],
   "source": [
    "grader.check(\"q8_6\")"
   ]
  },
  {
   "cell_type": "markdown",
   "id": "0a56d053",
   "metadata": {},
   "source": [
    "**Question 8.7.** Now that we have general code to calculate the regression line between any pair of variables in any DataFrame, let's generalize our code for the overlaid scatter plot so we can visualize relationships between other pairs of variables.\n",
    "\n",
    "Complete the function `display_predictions` below. This function should take in the same three inputs as the `correlation` function, create an overlaid scatter plot similar to the one in Question 8.5, and return a string describing the correlation between the variables and the slope and intercept of the regression line."
   ]
  },
  {
   "cell_type": "code",
   "execution_count": null,
   "id": "7d8c28e9",
   "metadata": {},
   "outputs": [],
   "source": [
    "def display_predictions(df, independent, dependent):\n",
    "    '''Generates an overlaid scatter plot showing the relationship between the independent and dependent variables in df.\n",
    "    Returns a string describing the correlation and the slope and intercept of the regression line.'''\n",
    "    # Create your overlaid scatter plot here.\n",
    "    ...\n",
    "    # We've provided the code for the return statement.\n",
    "    return (\"The correlation between {0} and {1} is {2}. \" +\\\n",
    "           \" The slope of the regression line is {3}.\" + \\\n",
    "           \" The intercept of the regression line is {4}.\")\\\n",
    "                .format(independent, \n",
    "                        dependent, \n",
    "                        str(round(correlation(df, independent, dependent), 2)),\n",
    "                        str(round(reg_slope(df, independent, dependent), 2)), \n",
    "                        str(round(reg_intercept(df, independent, dependent), 2)))\n",
    "\n",
    "# Your function should produce the same scatter plot as in Question 8.5 on the inputs below. \n",
    "# Make sure to test it out on other inputs too.\n",
    "display_predictions(technical_challenge_recipes, 'DifficultyScore', 'Dishes')"
   ]
  },
  {
   "cell_type": "markdown",
   "id": "c6573e5b",
   "metadata": {},
   "source": [
    "**Question 8.8.** Using the `display_predictions` function you just wrote, create scatter plots and calculate regression lines that would help you answer each of the following questions. \n",
    "\n",
    "1. Do longer recipes with more sentences require more ingredients?\n",
    "    - Store the output of your call to `display_predictions` in the variable `sentences_ingredients`.\n",
    "2. Are recipes with more ingredients more difficult? \n",
    "    - Store the output of your call to `display_predictions` in the variable `ingredients_diff`."
   ]
  },
  {
   "cell_type": "code",
   "execution_count": null,
   "id": "96da62cf",
   "metadata": {},
   "outputs": [],
   "source": [
    "sentences_ingredients = ...\n",
    "sentences_ingredients"
   ]
  },
  {
   "cell_type": "code",
   "execution_count": null,
   "id": "e0e471de",
   "metadata": {
    "deletable": false,
    "editable": false
   },
   "outputs": [],
   "source": [
    "grader.check(\"q8_8_a\")"
   ]
  },
  {
   "cell_type": "code",
   "execution_count": null,
   "id": "66aea4ce",
   "metadata": {
    "scrolled": true
   },
   "outputs": [],
   "source": [
    "ingredients_diff = ...\n",
    "ingredients_diff"
   ]
  },
  {
   "cell_type": "code",
   "execution_count": null,
   "id": "739fe3d3",
   "metadata": {
    "deletable": false,
    "editable": false
   },
   "outputs": [],
   "source": [
    "grader.check(\"q8_8_b\")"
   ]
  },
  {
   "cell_type": "markdown",
   "id": "03b38a45",
   "metadata": {},
   "source": [
    "## Finish Line 🏁"
   ]
  },
  {
   "cell_type": "markdown",
   "id": "8044cc29",
   "metadata": {},
   "source": [
    "**_Citations:_** Did you use any generative artificial intelligence tools to assist you on this assignment? If so, please state, for each tool you used, the name of the tool (ex. ChatGPT) and the problem(s) in this assignment where you used the tool for help."
   ]
  },
  {
   "cell_type": "markdown",
   "id": "16f68418",
   "metadata": {},
   "source": [
    "<hr style=\"color:Maroon;background-color:Maroon;border:0 none; height: 3px;\">\n",
    "\n",
    "Please cite tools here.\n",
    "\n",
    "<hr style=\"color:Maroon;background-color:Maroon;border:0 none; height: 3px;\">"
   ]
  },
  {
   "cell_type": "markdown",
   "id": "f70ba002",
   "metadata": {},
   "source": [
    "Big congratulations! 🎉 You've completed the Final Project! Feel free to celebrate by whipping up some baked goods, like these cute [baby panda madeleines](https://www.instagram.com/p/CBDzDwsHSBW/?utm_source=ig_embed&utm_campaign=embed_video) created by Kim-Joy, a contestant from Season 9 of the Great British Bake Off.\n",
    "\n",
    "<img src=\"images/baby_pandas.jpg\" width=\"500\" height=\"500\">\n",
    "\n",
    "To submit your assignment:\n",
    "\n",
    "1. Select `Kernel -> Restart & Run All` to ensure that you have executed all cells, including the test cells. <p style=\"color: red\"><b>⚠️ Important!</b> We will allot 20 minutes of computer time to run your notebook. If your notebook takes longer than this to run, it may not pass the autograder! Select \"Kernel -> Restart and Run All\" to time how long your notebook takes. A notebook with correct answers should take less than 10 minutes.</p>\n",
    "\n",
    "2. Read through the notebook to make sure everything is fine and all tests passed.\n",
    "3. Run the cell below to run all tests, and make sure that they all pass.\n",
    "4. Download your notebook using File -> Download as -> Notebook (.ipynb), then upload your notebook to Gradescope. Don't forget to add your partner to your group on Gradescope!\n",
    "5. Stick around while the Gradescope autograder grades your work. Make sure you see that all tests have passed on Gradescope.\n",
    "6. Check that you have a confirmation email from Gradescope and save it as proof of your submission. \n",
    "\n",
    "If running all the tests at once causes a test to fail that didn't fail when you ran the notebook in order, check to see if you changed a variable's value later in your code. Make sure to use new variable names instead of reusing ones that are used in the tests. \n",
    "\n",
    "Remember, the tests here and on Gradescope just check the format of your answers. We will run correctness tests after the assignment's due date has passed."
   ]
  },
  {
   "cell_type": "code",
   "execution_count": null,
   "id": "0b4be8c0",
   "metadata": {
    "scrolled": true
   },
   "outputs": [],
   "source": [
    "grader.check_all()"
   ]
  },
  {
   "cell_type": "markdown",
   "id": "bbd9892b",
   "metadata": {},
   "source": [
    "<a id='sources'></a>\n",
    "## Data Sources 📖\n",
    "\n",
    "Our data and some of the inspiration for this project came from the following sources. \n",
    "\n",
    "- Hill A, Ismay C, Iannone R (2022). bakeoff: Data from \"The Great British Bake Off\". https://bakeoff.netlify.app/, https://github.com/apreshill/bakeoff.\n",
    "\n",
    "- Davis, Erin (2019). Are Great British Bake Off Technical Challenges getting harder? https://erdavis.com/2019/06/08/are-great-british-bake-off-technical-challenges-getting-harder/, https://gist.github.com/erdavis1/09fd4a3aa424c5425a88d47f572ec20a.\n",
    "\n",
    "- Ahamed, Nick (2019). Analyzing the Great British Bake Off. https://medium.com/analytics-vidhya/analyzing-the-great-british-bake-off-part-1-ffcdf3791bf3, https://medium.com/@nickahamed/analyzing-the-great-british-bake-off-part-2-1695ff95a0c9, https://docs.google.com/spreadsheets/d/1cvouOik_01QqtFQSq78xODIjcZZ8A-02VXa6IBvdG3I/edit#gid=0."
   ]
  }
 ],
 "metadata": {
  "kernelspec": {
   "display_name": "Python 3 (ipykernel)",
   "language": "python",
   "name": "python3"
  },
  "language_info": {
   "codemirror_mode": {
    "name": "ipython",
    "version": 3
   },
   "file_extension": ".py",
   "mimetype": "text/x-python",
   "name": "python",
   "nbconvert_exporter": "python",
   "pygments_lexer": "ipython3",
   "version": "3.9.5"
  }
 },
 "nbformat": 4,
 "nbformat_minor": 5
}
